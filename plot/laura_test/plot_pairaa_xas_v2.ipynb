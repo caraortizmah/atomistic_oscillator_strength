{
 "cells": [
  {
   "cell_type": "markdown",
   "id": "dcbd9089",
   "metadata": {},
   "source": [
    "## Plots from X-ray absorption calculations using ORCA"
   ]
  },
  {
   "cell_type": "code",
   "execution_count": 9,
   "id": "e56a5828",
   "metadata": {},
   "outputs": [],
   "source": [
    "import numpy as np\n",
    "import pandas as pd"
   ]
  },
  {
   "cell_type": "code",
   "execution_count": 10,
   "id": "644a97ad",
   "metadata": {},
   "outputs": [],
   "source": [
    "import matplotlib.pyplot as plt\n",
    "import matplotlib\n",
    "import matplotlib.colors\n",
    "from matplotlib.colors import  ListedColormap\n",
    "from matplotlib.pyplot import figure"
   ]
  },
  {
   "cell_type": "code",
   "execution_count": 11,
   "id": "7fe8e12d",
   "metadata": {},
   "outputs": [],
   "source": [
    "from __future__ import print_function\n",
    "from matplotlib.backends.backend_agg import FigureCanvasAgg as FigureCanvas\n",
    "from matplotlib.figure import Figure"
   ]
  },
  {
   "cell_type": "markdown",
   "id": "a2c14a1b",
   "metadata": {},
   "source": [
    "--------------"
   ]
  },
  {
   "cell_type": "markdown",
   "id": "87003179",
   "metadata": {},
   "source": [
    "### Functions list"
   ]
  },
  {
   "cell_type": "code",
   "execution_count": 12,
   "id": "64ba27b5",
   "metadata": {},
   "outputs": [],
   "source": [
    "list_suf = [i for i in range(25,81)] #temporary list asigned in the following two functions"
   ]
  },
  {
   "cell_type": "code",
   "execution_count": 13,
   "id": "c53fb580",
   "metadata": {},
   "outputs": [],
   "source": [
    "def plot_xray(global_name, list_suf, x_arg, y_arg, label, xlmt=False, xmin=282, xmax=298, \\\n",
    "              scalec=False, ref_list=list_suf, \\\n",
    "              figsize=(16, 10), dpi=80, linestyle='-', marker='o', linewidth=1.3, markersize=1.3):\n",
    "    \"\"\"\n",
    "    Function to plot a customize X-ray spectra (on development)\n",
    "    global_name is the list of names for the different pd data frame\n",
    "    list_suf is a list that contains the differentiable part of the global_name\n",
    "    y_arg arx_arg and e the columns data to plot from pd data frame\n",
    "    label is a list of labels for each plot\n",
    "    \n",
    "    Range of color fading away can be change by changing boleean value in scalec\n",
    "    and setting ref_list with a list that contains the differentiable part of the\n",
    "    global_name. if list_suf and ref_list are different, scale of color will be different\n",
    "    (on revision)\n",
    "    \n",
    "    To define a new xrange to plot, it is convenient just to load specific ranges\n",
    "    from the dataframe in global_name. Then, change xlmt to True and set the values\n",
    "    as minimun (xmin) and maximum (xmax) in the x-axis of the plot.\n",
    "    \"\"\"\n",
    "    \n",
    "    #defining scale of colors to use in  the cmap selected   \n",
    "    if scalec:\n",
    "        colors=plt.get_cmap(name='coolwarm')(np.linspace(0.05, 0.85, len(ref_list)))\n",
    "    else:\n",
    "        colors=plt.get_cmap(name='coolwarm')(np.linspace(0.05, 0.85, len(list_suf)))\n",
    "        \n",
    "    fig = plt.figure(figsize=figsize, dpi=dpi)\n",
    "    n1 = fig.add_subplot(111)\n",
    "    cc=0\n",
    "    if xlmt:\n",
    "        for ii in list_suf:#using xmin and xmax as new range to plot data frames\n",
    "            n1.plot(x_arg, y_arg, data=newxrange(global_name[cc], x_arg, xmin, xmax), \\\n",
    "                    linestyle=linestyle, marker=marker, linewidth=linewidth, \\\n",
    "                    markersize=markersize, color=colors[cc], label=label[cc])\n",
    "            cc+=1\n",
    "    else:\n",
    "        for ii in list_suf:\n",
    "            n1.plot(x_arg, y_arg, data=global_name[cc], linestyle=linestyle, marker=marker, \\\n",
    "                    linewidth=linewidth, markersize=markersize, color=colors[cc], label=label[cc])\n",
    "            cc+=1\n",
    "                \n",
    "    plt.xlabel('Energy (eV)')\n",
    "    plt.ylabel('Intensity (Oscillator strength)')\n",
    "    plt.legend(loc='upper left');\n",
    "    plt.show()"
   ]
  },
  {
   "cell_type": "code",
   "execution_count": 81,
   "id": "8e35add5",
   "metadata": {},
   "outputs": [],
   "source": [
    "def plot_alot_xray(global_name, list_suf, x_arg, y_arg, xlmt=False, xmin=282, xmax=298, label=None, \\\n",
    "              scalec=False, ref_list=list_suf, plotsvg=False, nameplt='figure.svg',\\\n",
    "              xlbl='Energy (eV)', ylbl='Intensity (Oscillator strength)',\\\n",
    "              figsize=(16, 10), dpi=80, linestyle='-', marker='o', linewidth=1.3, markersize=1.3):\n",
    "    \"\"\"\n",
    "    Function to plot a customize X-ray spectra (on development)\n",
    "    global_name is the list of names for the different pd data frame\n",
    "    list_suf is a list that contains the differentiable part of the global_name\n",
    "    x_arg and y_arg are the columns data to plot from pd data frame\n",
    "    label is a list of labels for each plot\n",
    "    \n",
    "    Range of color fading away can be change by changing boleean value in scalec\n",
    "    and setting ref_list with a list that contains the differentiable part of the\n",
    "    global_name. if list_suf and ref_list are different, scale of color will be different\n",
    "    (on revision)\n",
    "    \n",
    "    To define a new xrange to plot, it is convenient just to load specific ranges\n",
    "    from the dataframe in global_name. Then, change xlmt to True and set the values\n",
    "    as minimun (xmin) and maximum (xmax) in the x-axis of the plot.\n",
    "    \"\"\"\n",
    "    \n",
    "    #defining scale of colors to use in  the cmap selected\n",
    "    if scalec:\n",
    "        colors=matplotlib.pyplot.get_cmap(name='coolwarm')(np.linspace(0.05, 0.85, len(ref_list)))\n",
    "    else:\n",
    "        colors=matplotlib.pyplot.get_cmap(name='coolwarm')(np.linspace(0.05, 0.85, len(list_suf)))\n",
    "    if label==None:\n",
    "        label=[]\n",
    "        label=['_nolegend_' for ii in list_suf]\n",
    "\n",
    "    fig = plt.figure(figsize=figsize, dpi=dpi)\n",
    "    n1 = fig.add_subplot(111)\n",
    "    cc=0\n",
    "    if xlmt:\n",
    "        for ii in list_suf:#using xmin and xmax as new range to plot data frames\n",
    "            n1.plot(x_arg, y_arg, data=newxrange(global_name[cc], x_arg, xmin, xmax), \\\n",
    "                    linestyle=linestyle, marker=marker, linewidth=linewidth, \\\n",
    "                    markersize=markersize, color=colors[cc], label=label[cc])\n",
    "            cc+=1\n",
    "    else:\n",
    "        for ii in list_suf:\n",
    "            n1.plot(x_arg, y_arg, data=global_name[cc], linestyle=linestyle, marker=marker, \\\n",
    "                    linewidth=linewidth, markersize=markersize, color=colors[cc], label=label[cc])\n",
    "            cc+=1\n",
    "\n",
    "    cmap = plt.get_cmap(\"coolwarm\", len(list_suf))\n",
    "    norm= matplotlib.colors.BoundaryNorm(np.linspace(0.05, 0.85, len(list_suf)),len(list_suf))\n",
    "\n",
    "    sm = plt.cm.ScalarMappable(cmap=cmap, norm=norm)\n",
    "    sm.set_array([])\n",
    "    plt.colorbar(sm, ticks=np.arange(0,len(list_suf)), ax=[n1])\n",
    "\n",
    "    \n",
    "    plt.xlabel(xlbl)\n",
    "    plt.ylabel(ylbl)\n",
    "    #plt.legend(loc='upper left');\n",
    "    plt.show()\n",
    "    if plotsvg:\n",
    "        fig.savefig(nameplt, format=\"svg\")"
   ]
  },
  {
   "cell_type": "code",
   "execution_count": 14,
   "id": "36e5c862",
   "metadata": {},
   "outputs": [],
   "source": [
    "def newxrange(data, col, minl, maxl):\n",
    "    \"\"\"\n",
    "    this function crops a pd data frame\n",
    "    \"\"\"\n",
    "    return data.loc[(data[col]>=minl) & (data[col]<=maxl)]"
   ]
  },
  {
   "cell_type": "code",
   "execution_count": 15,
   "id": "273e472c",
   "metadata": {},
   "outputs": [],
   "source": [
    "def getting_max_int(df, min_r, max_r):\n",
    "    \"\"\"\n",
    "    giving a specific range of the data, this function returns the energy when intensity is maximum\n",
    "    \"\"\"\n",
    "    num = df[(df['Energy']<max_r) & (df['Energy']>min_r)]['Intensity'].idxmax()\n",
    "    try:\n",
    "        return df.iloc[num][['Energy','Intensity']]\n",
    "    except IndexError:\n",
    "        return pd.DataFrame({'Energy': [NaN], 'Intensity': [NaN]})"
   ]
  },
  {
   "cell_type": "markdown",
   "id": "2cedca42",
   "metadata": {},
   "source": [
    "____________________________________"
   ]
  },
  {
   "cell_type": "markdown",
   "id": "52318a4f",
   "metadata": {},
   "source": [
    "### X-ray absorption spectra calculated using PNO-DFT/ROCIS zora\n",
    "\n",
    "#### Pair amino acid interaction between Phenylalanine (F) and Tyrosine (Y)"
   ]
  },
  {
   "cell_type": "markdown",
   "id": "abd934cd",
   "metadata": {},
   "source": [
    "##### System of study: Phe $---$Tyr (varying inter fragment distances)"
   ]
  },
  {
   "cell_type": "markdown",
   "id": "aea661e2",
   "metadata": {},
   "source": [
    "### F$---$Y ( $n=2.5, 2.6, ..., 3.0, ..., 11.0 \\overset{\\circ}{A}$  )"
   ]
  },
  {
   "cell_type": "markdown",
   "id": "91e46c15",
   "metadata": {},
   "source": [
    "##### Assigning intial variables"
   ]
  },
  {
   "cell_type": "code",
   "execution_count": 16,
   "id": "47147abb",
   "metadata": {},
   "outputs": [],
   "source": [
    "#Defining name for variables in the folder (outputs and inputs)\n",
    "file=\"RWG4MG3_\"\n",
    "post=\".csv\"\n",
    "suff=\"fy_\""
   ]
  },
  {
   "cell_type": "code",
   "execution_count": 17,
   "id": "68615574",
   "metadata": {},
   "outputs": [
    {
     "data": {
      "text/plain": [
       "[1]"
      ]
     },
     "execution_count": 17,
     "metadata": {},
     "output_type": "execute_result"
    }
   ],
   "source": [
    "#Defining variables\n",
    "list_suf = [1]\n",
    "list_suf"
   ]
  },
  {
   "cell_type": "markdown",
   "id": "521a2476",
   "metadata": {},
   "source": [
    "#### Calling output files"
   ]
  },
  {
   "cell_type": "code",
   "execution_count": 18,
   "id": "66ec31ce",
   "metadata": {},
   "outputs": [],
   "source": [
    "allxas = pd.DataFrame()"
   ]
  },
  {
   "cell_type": "code",
   "execution_count": 20,
   "id": "39deaf45",
   "metadata": {},
   "outputs": [],
   "source": [
    "for ii in list_suf:\n",
    "    # Loading data\n",
    "    globals()['%s' % suff+str(ii)] = pd.read_csv(file+'rocisdft_'+str(ii)+post, delimiter=',')\n",
    "    globals()['%s' % suff+str(ii)].columns = ['Energy', 'Intensity', 'dx', 'dy', 'dz']\n",
    "    \n",
    "    # collecting just the target columns\n",
    "    globals()['%s' % suff+str(ii)] = globals()['%s' % suff+str(ii)][['Energy','Intensity']]\n",
    "    \n",
    "    # taking an specific range of energy\n",
    "    globals()['%s' % suff+str(ii)] = \\\n",
    "    newxrange(globals()['%s' % suff+str(ii)], 'Energy', 156, 165)\n",
    "    \n",
    "    # Adding a new column (distance) that can distinguish one file from other in a new big pandas\n",
    "    globals()['%s' % suff+str(ii)].insert(0, 'Distance', ii/10)\n",
    "    \n",
    "    # Contatenating all the data\n",
    "    allxas = pd.concat([allxas, globals()['%s' % suff+str(ii)]], axis=0)"
   ]
  },
  {
   "cell_type": "code",
   "execution_count": 21,
   "id": "a2462a37",
   "metadata": {},
   "outputs": [],
   "source": [
    "suff_num = 1"
   ]
  },
  {
   "cell_type": "code",
   "execution_count": 22,
   "id": "0d7b388a",
   "metadata": {
    "scrolled": true
   },
   "outputs": [
    {
     "data": {
      "text/html": [
       "<div>\n",
       "<style scoped>\n",
       "    .dataframe tbody tr th:only-of-type {\n",
       "        vertical-align: middle;\n",
       "    }\n",
       "\n",
       "    .dataframe tbody tr th {\n",
       "        vertical-align: top;\n",
       "    }\n",
       "\n",
       "    .dataframe thead th {\n",
       "        text-align: right;\n",
       "    }\n",
       "</style>\n",
       "<table border=\"1\" class=\"dataframe\">\n",
       "  <thead>\n",
       "    <tr style=\"text-align: right;\">\n",
       "      <th></th>\n",
       "      <th>Distance</th>\n",
       "      <th>Energy</th>\n",
       "      <th>Intensity</th>\n",
       "    </tr>\n",
       "  </thead>\n",
       "  <tbody>\n",
       "    <tr>\n",
       "      <th>0</th>\n",
       "      <td>0.1</td>\n",
       "      <td>156.00</td>\n",
       "      <td>0.000000</td>\n",
       "    </tr>\n",
       "    <tr>\n",
       "      <th>1</th>\n",
       "      <td>0.1</td>\n",
       "      <td>156.01</td>\n",
       "      <td>0.000000</td>\n",
       "    </tr>\n",
       "    <tr>\n",
       "      <th>2</th>\n",
       "      <td>0.1</td>\n",
       "      <td>156.01</td>\n",
       "      <td>0.000000</td>\n",
       "    </tr>\n",
       "    <tr>\n",
       "      <th>3</th>\n",
       "      <td>0.1</td>\n",
       "      <td>156.01</td>\n",
       "      <td>0.000000</td>\n",
       "    </tr>\n",
       "    <tr>\n",
       "      <th>4</th>\n",
       "      <td>0.1</td>\n",
       "      <td>156.02</td>\n",
       "      <td>0.000000</td>\n",
       "    </tr>\n",
       "    <tr>\n",
       "      <th>...</th>\n",
       "      <td>...</td>\n",
       "      <td>...</td>\n",
       "      <td>...</td>\n",
       "    </tr>\n",
       "    <tr>\n",
       "      <th>2994</th>\n",
       "      <td>0.1</td>\n",
       "      <td>164.99</td>\n",
       "      <td>0.574307</td>\n",
       "    </tr>\n",
       "    <tr>\n",
       "      <th>2995</th>\n",
       "      <td>0.1</td>\n",
       "      <td>164.99</td>\n",
       "      <td>0.560164</td>\n",
       "    </tr>\n",
       "    <tr>\n",
       "      <th>2996</th>\n",
       "      <td>0.1</td>\n",
       "      <td>164.99</td>\n",
       "      <td>0.546309</td>\n",
       "    </tr>\n",
       "    <tr>\n",
       "      <th>2997</th>\n",
       "      <td>0.1</td>\n",
       "      <td>165.00</td>\n",
       "      <td>0.532737</td>\n",
       "    </tr>\n",
       "    <tr>\n",
       "      <th>2998</th>\n",
       "      <td>0.1</td>\n",
       "      <td>165.00</td>\n",
       "      <td>0.519445</td>\n",
       "    </tr>\n",
       "  </tbody>\n",
       "</table>\n",
       "<p>2999 rows × 3 columns</p>\n",
       "</div>"
      ],
      "text/plain": [
       "      Distance  Energy  Intensity\n",
       "0          0.1  156.00   0.000000\n",
       "1          0.1  156.01   0.000000\n",
       "2          0.1  156.01   0.000000\n",
       "3          0.1  156.01   0.000000\n",
       "4          0.1  156.02   0.000000\n",
       "...        ...     ...        ...\n",
       "2994       0.1  164.99   0.574307\n",
       "2995       0.1  164.99   0.560164\n",
       "2996       0.1  164.99   0.546309\n",
       "2997       0.1  165.00   0.532737\n",
       "2998       0.1  165.00   0.519445\n",
       "\n",
       "[2999 rows x 3 columns]"
      ]
     },
     "execution_count": 22,
     "metadata": {},
     "output_type": "execute_result"
    },
    {
     "data": {
      "image/png": "[encoded data removed]",
      "text/plain": [
       "<Figure size 432x288 with 1 Axes>"
      ]
     },
     "metadata": {
      "needs_background": "light"
     },
     "output_type": "display_data"
    }
   ],
   "source": [
    "allxas[allxas.Distance == suff_num].plot.line(x='Energy', y='Intensity')\n",
    "globals()['%s' % suff+str(suff_num)]"
   ]
  },
  {
   "cell_type": "markdown",
   "id": "bb5cac5a",
   "metadata": {},
   "source": [
    " _______________________________"
   ]
  },
  {
   "cell_type": "markdown",
   "id": "abf23634",
   "metadata": {},
   "source": [
    "# Plotting XAS"
   ]
  },
  {
   "cell_type": "code",
   "execution_count": 23,
   "id": "9e4475ca",
   "metadata": {},
   "outputs": [],
   "source": [
    "# uncomment to check the list or parameters of the plot\n",
    "#plt.rcParams.keys()"
   ]
  },
  {
   "cell_type": "code",
   "execution_count": 24,
   "id": "278f4572",
   "metadata": {},
   "outputs": [],
   "source": [
    "plt.rcParams['axes.labelsize'] = 18\n",
    "plt.rcParams['axes.titlesize'] = 30\n",
    "plt.rcParams['legend.fontsize'] = 12\n",
    "plt.rcParams['font.size'] = 14"
   ]
  },
  {
   "cell_type": "code",
   "execution_count": 25,
   "id": "6376f0e8-9012-45c3-b086-065af0037214",
   "metadata": {},
   "outputs": [],
   "source": [
    "distances = list_suf\n",
    "colors=matplotlib.pyplot.get_cmap(name='coolwarm')(np.linspace(0.05, 0.85, len(distances)))"
   ]
  },
  {
   "cell_type": "code",
   "execution_count": 26,
   "id": "86405f77-af65-41bf-b134-03dbed5df396",
   "metadata": {},
   "outputs": [],
   "source": [
    "figsize=(8, 5)\n",
    "dpi=80"
   ]
  },
  {
   "cell_type": "code",
   "execution_count": 32,
   "id": "c9beb2ad-0417-4eae-b6cd-69fd36fccd8c",
   "metadata": {},
   "outputs": [
    {
     "data": {
      "image/png": "[encoded data removed]",
      "text/plain": [
       "<Figure size 640x400 with 1 Axes>"
      ]
     },
     "metadata": {
      "needs_background": "light"
     },
     "output_type": "display_data"
    }
   ],
   "source": [
    "fig = plt.figure(figsize=figsize, dpi=dpi)\n",
    "n1 = fig.add_subplot(111)\n",
    "\n",
    "i = 0\n",
    "\n",
    "for dist in distances:\n",
    "\n",
    "    # plotting the XAS\n",
    "    n1.plot('Energy', 'Intensity', data=allxas[allxas.Distance == dist/10], color=colors[i])\n",
    "\n",
    "    if i == len(distances)-1:\n",
    "        n1.set_xlabel(\"Energy (eV)\", fontsize=14,fontweight=\"bold\")\n",
    "        n1.set_ylabel(\"Intensity (a.u.)\", fontsize=14,fontweight=\"bold\")\n",
    "\n",
    "    # make background transparent\n",
    "    rect = n1.patch\n",
    "    rect.set_alpha(0)\n",
    "\n",
    "    spines = [\"top\",\"right\"]#,\"left\",\"bottom\"]\n",
    "    for s in spines:\n",
    "        n1.spines[s].set_visible(False)\n",
    "\n",
    "    n1.set(yticks=([0,500,1000]))\n",
    "    n1.set(yticklabels = (['0','0.5','1']))\n",
    "    n1.set(xticks=([156,159,162,165]))\n",
    "    #n1.set(yticklabels = (['0','3','6']))\n",
    "    #n1.set_yticks([1,3,5,7])\n",
    "    \n",
    "    i += 1\n",
    "\n",
    "plt.show()\n",
    "#fig.savefig('plot_FY_xas2.svg', format=\"svg\")"
   ]
  },
  {
   "cell_type": "code",
   "execution_count": 79,
   "id": "681e5e26",
   "metadata": {},
   "outputs": [],
   "source": [
    "list_suf = [i for i in range(25,81)] #temporary list asigned in the following two functions"
   ]
  },
  {
   "cell_type": "markdown",
   "id": "3a8ce145-4ecc-4880-9a97-c808231354da",
   "metadata": {},
   "source": [
    "change the functions according to this new way of saving data and presenting plots"
   ]
  },
  {
   "cell_type": "markdown",
   "id": "47dd584d-e55e-4db9-98a4-dd657fce65db",
   "metadata": {},
   "source": [
    "adapt some changes to plot_pairaa_xas"
   ]
  },
  {
   "cell_type": "code",
   "execution_count": 7,
   "id": "5ae316e3",
   "metadata": {},
   "outputs": [
    {
     "ename": "NameError",
     "evalue": "name 'list_suf_resume' is not defined",
     "output_type": "error",
     "traceback": [
      "\u001b[0;31m---------------------------------------------------------------------------\u001b[0m",
      "\u001b[0;31mNameError\u001b[0m                                 Traceback (most recent call last)",
      "\u001b[0;32m/tmp/ipykernel_1502350/616599113.py\u001b[0m in \u001b[0;36m<module>\u001b[0;34m\u001b[0m\n\u001b[0;32m----> 1\u001b[0;31m \u001b[0mglobal_name\u001b[0m \u001b[0;34m=\u001b[0m \u001b[0;34m[\u001b[0m\u001b[0mglobals\u001b[0m\u001b[0;34m(\u001b[0m\u001b[0;34m)\u001b[0m\u001b[0;34m[\u001b[0m\u001b[0;34m'%s'\u001b[0m \u001b[0;34m%\u001b[0m \u001b[0msuff\u001b[0m\u001b[0;34m+\u001b[0m\u001b[0mstr\u001b[0m\u001b[0;34m(\u001b[0m\u001b[0mii\u001b[0m\u001b[0;34m)\u001b[0m\u001b[0;34m]\u001b[0m \u001b[0;32mfor\u001b[0m \u001b[0mii\u001b[0m \u001b[0;32min\u001b[0m \u001b[0mlist_suf_resume\u001b[0m\u001b[0;34m]\u001b[0m \u001b[0;31m#creating list of pd.data frame names\u001b[0m\u001b[0;34m\u001b[0m\u001b[0;34m\u001b[0m\u001b[0m\n\u001b[0m\u001b[1;32m      2\u001b[0m \u001b[0mlabel_name\u001b[0m \u001b[0;34m=\u001b[0m \u001b[0;34m[\u001b[0m\u001b[0mstr\u001b[0m\u001b[0;34m(\u001b[0m\u001b[0mii\u001b[0m\u001b[0;34m/\u001b[0m\u001b[0;36m10\u001b[0m\u001b[0;34m)\u001b[0m\u001b[0;34m+\u001b[0m\u001b[0;34m'A'\u001b[0m \u001b[0;32mfor\u001b[0m \u001b[0mii\u001b[0m \u001b[0;32min\u001b[0m \u001b[0mlist_suf_resume\u001b[0m\u001b[0;34m]\u001b[0m \u001b[0;31m#creating list of label names from pd.data frame diff. names\u001b[0m\u001b[0;34m\u001b[0m\u001b[0;34m\u001b[0m\u001b[0m\n\u001b[1;32m      3\u001b[0m plot_xray(global_name, list_suf_resume, 'Energy', 'Intensity', label_name, dpi=70,\\\n\u001b[1;32m      4\u001b[0m          xlmt=True, xmin=288, xmax=297)\n",
      "\u001b[0;31mNameError\u001b[0m: name 'list_suf_resume' is not defined"
     ]
    }
   ],
   "source": [
    "global_name = [globals()['%s' % suff+str(ii)] for ii in list_suf_resume] #creating list of pd.data frame names\n",
    "label_name = [str(ii/10)+'A' for ii in list_suf_resume] #creating list of label names from pd.data frame diff. names\n",
    "plot_xray(global_name, list_suf_resume, 'Energy', 'Intensity', label_name, dpi=70,\\\n",
    "         xlmt=True, xmin=288, xmax=297)"
   ]
  },
  {
   "cell_type": "code",
   "execution_count": null,
   "id": "18a4e217",
   "metadata": {},
   "outputs": [],
   "source": [
    "name_plt1='test_predge_1stregion.svg'"
   ]
  },
  {
   "cell_type": "code",
   "execution_count": null,
   "id": "8b8b3e27",
   "metadata": {},
   "outputs": [],
   "source": [
    "global_name = [globals()['%s' % suff+str(ii)] for ii in list_suf] #creating list of pd.data frame names\n",
    "label_name = [str(ii/10)+'A' for ii in list_suf] \n",
    "plot_alot_xray(global_name, list_suf, 'Energy', 'Intensity', dpi=75,\\\n",
    "         xlmt=True, xmin=288, xmax=297, label=label_name, plotsvg=True, nameplt=name_plt1)"
   ]
  },
  {
   "cell_type": "markdown",
   "id": "c3fad1eb",
   "metadata": {},
   "source": [
    "________________________________________"
   ]
  },
  {
   "cell_type": "markdown",
   "id": "4497b4c0",
   "metadata": {},
   "source": [
    "## Variable analysis"
   ]
  },
  {
   "cell_type": "code",
   "execution_count": null,
   "id": "afd3d269",
   "metadata": {},
   "outputs": [],
   "source": [
    "l_tmp = [85, 90, 95, 100, 105, 110]\n",
    "list_suf = [i for i in range(25,81)]\n",
    "for i in l_tmp:\n",
    "    list_suf.append(i)"
   ]
  },
  {
   "cell_type": "code",
   "execution_count": null,
   "id": "50a6e642",
   "metadata": {
    "scrolled": true
   },
   "outputs": [],
   "source": [
    "global_name_cut_1 = [getting_max_int(globals()['%s' % suff+str(ii)], 288, 297) \\\n",
    "               for ii in list_suf]\n",
    "new_df_i = pd.DataFrame({'Distance': [list_suf[cc]/10 for cc in range(len(list_suf))], \\\n",
    "  'Intensity': [global_name_cut_1[cc]['Intensity'] for cc in range(len(list_suf))]})\n",
    " #'Intensity': [math.log(global_name_cut_1[cc]['Intensity']) for cc in range(len(list_suf))]})\n",
    "new_df_e = pd.DataFrame({'Distance': [list_suf[cc]/10 for cc in range(len(list_suf))], \\\n",
    " 'Energy': [global_name_cut_1[cc]['Energy'] for cc in range(len(list_suf))]})\n",
    " #'Energy': [1/math.exp(global_name_cut_1[cc]['Energy']) for cc in range(len(list_suf))]})\n",
    "#new_df_ei = pd.DataFrame({'Intensity': [math.log(global_name_cut_1[cc]['Intensity']) \\\n",
    "new_df_ei = pd.DataFrame({'Intensity': [global_name_cut_1[cc]['Intensity'] \\\n",
    "                                        for cc in range(len(list_suf))], \\\n",
    " 'Energy': [global_name_cut_1[cc]['Energy'] for cc in range(len(list_suf))]})\n",
    "\n",
    "neww_df_i = [new_df_i.iloc[ii] for ii in range(len(list_suf))]\n",
    "neww_df_e = [new_df_e.iloc[ii] for ii in range(len(list_suf))]\n",
    "neww_df_ei = [new_df_ei.iloc[ii] for ii in range(len(list_suf))]\n",
    "\n",
    "label_name = [str(ii/10)+'A' for ii in list_suf]\n",
    "\n",
    "plot_alot_xray(neww_df_i, list_suf, 'Distance', 'Intensity', dpi=75, markersize=5.3,\\\n",
    "              xlbl='Distance (Å)', ylbl='Intensity') #nameplt='Ivsdist_predge_region1pt.svg')\n",
    "plot_alot_xray(neww_df_e, list_suf, 'Distance', 'Energy', dpi=75, markersize=5.3,\\\n",
    "              xlbl='Distance (Å)', ylbl='Energy (eV)')\n",
    "plot_alot_xray(neww_df_ei, list_suf, 'Energy', 'Intensity', dpi=75, markersize=5.3,\\\n",
    "              xlbl='Energy (eV)', ylbl='Intensity')"
   ]
  }
 ],
 "metadata": {
  "kernelspec": {
   "display_name": "Python 3 (ipykernel)",
   "language": "python",
   "name": "python3"
  },
  "language_info": {
   "codemirror_mode": {
    "name": "ipython",
    "version": 3
   },
   "file_extension": ".py",
   "mimetype": "text/x-python",
   "name": "python",
   "nbconvert_exporter": "python",
   "pygments_lexer": "ipython3",
   "version": "3.8.10"
  }
 },
 "nbformat": 4,
 "nbformat_minor": 5
}
