{
 "cells": [
  {
   "cell_type": "markdown",
   "metadata": {},
   "source": [
    "## Plots from X-ray absorption calculations using ORCA"
   ]
  },
  {
   "cell_type": "code",
   "execution_count": 1,
   "metadata": {},
   "outputs": [],
   "source": [
    "import numpy as np\n",
    "import pandas as pd\n",
    "import csv as csv"
   ]
  },
  {
   "cell_type": "code",
   "execution_count": 5,
   "metadata": {},
   "outputs": [
    {
     "name": "stdout",
     "output_type": "stream",
     "text": [
      "Requirement already satisfied: plotnine in /home/mahecha/.local/lib/python3.8/site-packages (0.12.3)\n",
      "Requirement already satisfied: matplotlib>=3.6.0 in /home/mahecha/.local/lib/python3.8/site-packages (from plotnine) (3.7.2)\n",
      "Requirement already satisfied: mizani<0.10.0,>0.9.0 in /home/mahecha/.local/lib/python3.8/site-packages (from plotnine) (0.9.3)\n",
      "Requirement already satisfied: numpy>=1.23.0 in /home/mahecha/.local/lib/python3.8/site-packages (from plotnine) (1.24.4)\n",
      "Requirement already satisfied: pandas>=1.5.0 in /home/mahecha/.local/lib/python3.8/site-packages (from plotnine) (2.0.3)\n",
      "Requirement already satisfied: patsy>=0.5.1 in /home/mahecha/.local/lib/python3.8/site-packages (from plotnine) (0.5.3)\n",
      "Requirement already satisfied: scipy>=1.5.0 in /home/mahecha/.local/lib/python3.8/site-packages (from plotnine) (1.8.0)\n",
      "Requirement already satisfied: statsmodels>=0.14.0 in /home/mahecha/.local/lib/python3.8/site-packages (from plotnine) (0.14.0)\n",
      "Requirement already satisfied: contourpy>=1.0.1 in /usr/local/lib/python3.8/dist-packages (from matplotlib>=3.6.0->plotnine) (1.0.7)\n",
      "Requirement already satisfied: cycler>=0.10 in /home/mahecha/.local/lib/python3.8/site-packages (from matplotlib>=3.6.0->plotnine) (0.11.0)\n",
      "Requirement already satisfied: fonttools>=4.22.0 in /home/mahecha/.local/lib/python3.8/site-packages (from matplotlib>=3.6.0->plotnine) (4.31.2)\n",
      "Requirement already satisfied: kiwisolver>=1.0.1 in /home/mahecha/.local/lib/python3.8/site-packages (from matplotlib>=3.6.0->plotnine) (1.4.2)\n",
      "Requirement already satisfied: packaging>=20.0 in /home/mahecha/.local/lib/python3.8/site-packages (from matplotlib>=3.6.0->plotnine) (21.3)\n",
      "Requirement already satisfied: pillow>=6.2.0 in /home/mahecha/.local/lib/python3.8/site-packages (from matplotlib>=3.6.0->plotnine) (9.0.1)\n",
      "Requirement already satisfied: pyparsing<3.1,>=2.3.1 in /home/mahecha/.local/lib/python3.8/site-packages (from matplotlib>=3.6.0->plotnine) (3.0.7)\n",
      "Requirement already satisfied: python-dateutil>=2.7 in /home/mahecha/.local/lib/python3.8/site-packages (from matplotlib>=3.6.0->plotnine) (2.8.2)\n",
      "Requirement already satisfied: importlib-resources>=3.2.0; python_version < \"3.10\" in /home/mahecha/.local/lib/python3.8/site-packages (from matplotlib>=3.6.0->plotnine) (5.6.0)\n",
      "Requirement already satisfied: backports.zoneinfo; python_version < \"3.9\" in /home/mahecha/.local/lib/python3.8/site-packages (from mizani<0.10.0,>0.9.0->plotnine) (0.2.1)\n",
      "Requirement already satisfied: pytz>=2020.1 in /home/mahecha/.local/lib/python3.8/site-packages (from pandas>=1.5.0->plotnine) (2022.1)\n",
      "Requirement already satisfied: tzdata>=2022.1 in /usr/local/lib/python3.8/dist-packages (from pandas>=1.5.0->plotnine) (2023.3)\n",
      "Requirement already satisfied: six in /usr/lib/python3/dist-packages (from patsy>=0.5.1->plotnine) (1.14.0)\n",
      "Requirement already satisfied: zipp>=3.1.0; python_version < \"3.10\" in /home/mahecha/.local/lib/python3.8/site-packages (from importlib-resources>=3.2.0; python_version < \"3.10\"->matplotlib>=3.6.0->plotnine) (3.7.0)\n",
      "Requirement already satisfied: patchworklib in /home/mahecha/.local/lib/python3.8/site-packages (0.6.2)\n",
      "Requirement already satisfied: matplotlib>=3.4 in /home/mahecha/.local/lib/python3.8/site-packages (from patchworklib) (3.7.2)\n",
      "Requirement already satisfied: pandas>=0.24 in /home/mahecha/.local/lib/python3.8/site-packages (from patchworklib) (2.0.3)\n",
      "Requirement already satisfied: numpy>=1.16 in /home/mahecha/.local/lib/python3.8/site-packages (from patchworklib) (1.24.4)\n",
      "Requirement already satisfied: dill in /home/mahecha/.local/lib/python3.8/site-packages (from patchworklib) (0.3.7)\n",
      "Requirement already satisfied: contourpy>=1.0.1 in /usr/local/lib/python3.8/dist-packages (from matplotlib>=3.4->patchworklib) (1.0.7)\n",
      "Requirement already satisfied: cycler>=0.10 in /home/mahecha/.local/lib/python3.8/site-packages (from matplotlib>=3.4->patchworklib) (0.11.0)\n",
      "Requirement already satisfied: fonttools>=4.22.0 in /home/mahecha/.local/lib/python3.8/site-packages (from matplotlib>=3.4->patchworklib) (4.31.2)\n",
      "Requirement already satisfied: kiwisolver>=1.0.1 in /home/mahecha/.local/lib/python3.8/site-packages (from matplotlib>=3.4->patchworklib) (1.4.2)\n",
      "Requirement already satisfied: packaging>=20.0 in /home/mahecha/.local/lib/python3.8/site-packages (from matplotlib>=3.4->patchworklib) (21.3)\n",
      "Requirement already satisfied: pillow>=6.2.0 in /home/mahecha/.local/lib/python3.8/site-packages (from matplotlib>=3.4->patchworklib) (9.0.1)\n",
      "Requirement already satisfied: pyparsing<3.1,>=2.3.1 in /home/mahecha/.local/lib/python3.8/site-packages (from matplotlib>=3.4->patchworklib) (3.0.7)\n",
      "Requirement already satisfied: python-dateutil>=2.7 in /home/mahecha/.local/lib/python3.8/site-packages (from matplotlib>=3.4->patchworklib) (2.8.2)\n",
      "Requirement already satisfied: importlib-resources>=3.2.0; python_version < \"3.10\" in /home/mahecha/.local/lib/python3.8/site-packages (from matplotlib>=3.4->patchworklib) (5.6.0)\n",
      "Requirement already satisfied: pytz>=2020.1 in /home/mahecha/.local/lib/python3.8/site-packages (from pandas>=0.24->patchworklib) (2022.1)\n",
      "Requirement already satisfied: tzdata>=2022.1 in /usr/local/lib/python3.8/dist-packages (from pandas>=0.24->patchworklib) (2023.3)\n",
      "Requirement already satisfied: six>=1.5 in /usr/lib/python3/dist-packages (from python-dateutil>=2.7->matplotlib>=3.4->patchworklib) (1.14.0)\n",
      "Requirement already satisfied: zipp>=3.1.0; python_version < \"3.10\" in /home/mahecha/.local/lib/python3.8/site-packages (from importlib-resources>=3.2.0; python_version < \"3.10\"->matplotlib>=3.4->patchworklib) (3.7.0)\n",
      "Requirement already satisfied: statannotations in /home/mahecha/.local/lib/python3.8/site-packages (0.5.0)\n",
      "Requirement already satisfied: numpy>=1.12.1 in /home/mahecha/.local/lib/python3.8/site-packages (from statannotations) (1.24.4)\n",
      "Requirement already satisfied: seaborn<0.12,>=0.9.0 in /home/mahecha/.local/lib/python3.8/site-packages (from statannotations) (0.11.2)\n",
      "Requirement already satisfied: matplotlib>=2.2.2 in /home/mahecha/.local/lib/python3.8/site-packages (from statannotations) (3.7.2)\n",
      "Requirement already satisfied: pandas>=0.23.0 in /home/mahecha/.local/lib/python3.8/site-packages (from statannotations) (2.0.3)\n",
      "Requirement already satisfied: scipy>=1.1.0 in /home/mahecha/.local/lib/python3.8/site-packages (from statannotations) (1.8.0)\n",
      "Requirement already satisfied: contourpy>=1.0.1 in /usr/local/lib/python3.8/dist-packages (from matplotlib>=2.2.2->statannotations) (1.0.7)\n",
      "Requirement already satisfied: cycler>=0.10 in /home/mahecha/.local/lib/python3.8/site-packages (from matplotlib>=2.2.2->statannotations) (0.11.0)\n",
      "Requirement already satisfied: fonttools>=4.22.0 in /home/mahecha/.local/lib/python3.8/site-packages (from matplotlib>=2.2.2->statannotations) (4.31.2)\n",
      "Requirement already satisfied: kiwisolver>=1.0.1 in /home/mahecha/.local/lib/python3.8/site-packages (from matplotlib>=2.2.2->statannotations) (1.4.2)\n",
      "Requirement already satisfied: packaging>=20.0 in /home/mahecha/.local/lib/python3.8/site-packages (from matplotlib>=2.2.2->statannotations) (21.3)\n",
      "Requirement already satisfied: pillow>=6.2.0 in /home/mahecha/.local/lib/python3.8/site-packages (from matplotlib>=2.2.2->statannotations) (9.0.1)\n",
      "Requirement already satisfied: pyparsing<3.1,>=2.3.1 in /home/mahecha/.local/lib/python3.8/site-packages (from matplotlib>=2.2.2->statannotations) (3.0.7)\n",
      "Requirement already satisfied: python-dateutil>=2.7 in /home/mahecha/.local/lib/python3.8/site-packages (from matplotlib>=2.2.2->statannotations) (2.8.2)\n",
      "Requirement already satisfied: importlib-resources>=3.2.0; python_version < \"3.10\" in /home/mahecha/.local/lib/python3.8/site-packages (from matplotlib>=2.2.2->statannotations) (5.6.0)\n",
      "Requirement already satisfied: pytz>=2020.1 in /home/mahecha/.local/lib/python3.8/site-packages (from pandas>=0.23.0->statannotations) (2022.1)\n",
      "Requirement already satisfied: tzdata>=2022.1 in /usr/local/lib/python3.8/dist-packages (from pandas>=0.23.0->statannotations) (2023.3)\n",
      "Requirement already satisfied: six>=1.5 in /usr/lib/python3/dist-packages (from python-dateutil>=2.7->matplotlib>=2.2.2->statannotations) (1.14.0)\n",
      "Requirement already satisfied: zipp>=3.1.0; python_version < \"3.10\" in /home/mahecha/.local/lib/python3.8/site-packages (from importlib-resources>=3.2.0; python_version < \"3.10\"->matplotlib>=2.2.2->statannotations) (3.7.0)\n"
     ]
    }
   ],
   "source": [
    "#%%capture\n",
    "#uncomment capture if you want to see installing process (recommended)\n",
    "## install new libraries\n",
    "!pip install plotnine\n",
    "!pip install patchworklib\n",
    "!pip install statannotations"
   ]
  },
  {
   "cell_type": "code",
   "execution_count": 6,
   "metadata": {},
   "outputs": [],
   "source": [
    "from plotnine import *"
   ]
  },
  {
   "cell_type": "code",
   "execution_count": 7,
   "metadata": {},
   "outputs": [
    {
     "ename": "ModuleNotFoundError",
     "evalue": "No module named 'patchworklib'",
     "output_type": "error",
     "traceback": [
      "\u001b[0;31m---------------------------------------------------------------------------\u001b[0m",
      "\u001b[0;31mModuleNotFoundError\u001b[0m                       Traceback (most recent call last)",
      "Cell \u001b[0;32mIn[7], line 1\u001b[0m\n\u001b[0;32m----> 1\u001b[0m \u001b[38;5;28;01mimport\u001b[39;00m \u001b[38;5;21;01mpatchworklib\u001b[39;00m \u001b[38;5;28;01mas\u001b[39;00m \u001b[38;5;21;01mpw\u001b[39;00m\n",
      "\u001b[0;31mModuleNotFoundError\u001b[0m: No module named 'patchworklib'"
     ]
    }
   ],
   "source": [
    "import patchworklib as pw"
   ]
  },
  {
   "cell_type": "code",
   "execution_count": null,
   "metadata": {},
   "outputs": [],
   "source": [
    "from statannotations.Annotator import Annotator"
   ]
  },
  {
   "cell_type": "code",
   "execution_count": null,
   "metadata": {},
   "outputs": [],
   "source": []
  }
 ],
 "metadata": {
  "kernelspec": {
   "display_name": "dataviz",
   "language": "python",
   "name": "dataviz"
  },
  "language_info": {
   "codemirror_mode": {
    "name": "ipython",
    "version": 3
   },
   "file_extension": ".py",
   "mimetype": "text/x-python",
   "name": "python",
   "nbconvert_exporter": "python",
   "pygments_lexer": "ipython3",
   "version": "3.11.5"
  }
 },
 "nbformat": 4,
 "nbformat_minor": 4
}
