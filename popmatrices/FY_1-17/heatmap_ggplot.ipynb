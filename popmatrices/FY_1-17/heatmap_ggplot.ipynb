{
 "cells": [
  {
   "cell_type": "code",
   "execution_count": 49,
   "id": "e2cfdfb8-cda9-4c47-9a19-27368cedb741",
   "metadata": {},
   "outputs": [],
   "source": [
    "import matplotlib.pyplot as plt\n",
    "import matplotlib\n",
    "import csv as csv"
   ]
  },
  {
   "cell_type": "markdown",
   "id": "37f256c5-7016-4c69-a65f-8c15858a73de",
   "metadata": {},
   "source": [
    "<html>\n",
    "\n",
    "<head>\n",
    "<meta charset=\"UTF-8\">\n",
    "<title>Title of the document</title>\n",
    "</head>\n",
    "\n",
    "<body>\n",
    "<h1 id=\"title\">Molecular orbital coupling interaction analysis</h1>\n",
    "<h2 id=\"title\"> Löwdin Population analysis from </h2>\n",
    "<h2 id=\"title\"> X-ray absorption spectra calculated using PNO-DFT/ROCIS zora </h2>\n",
    "<h3 id=\"title\">    System of study: F ${---}$ Y</h3>\n",
    "<h4 id=\"title\">   non-covalent interaction distances varying from 2,5 to 11,0 $\\dot{A}$ </h4>\n",
    "</body>\n",
    "</html>\n",
    "\n",
    "\n"
   ]
  },
  {
   "cell_type": "markdown",
   "id": "48cb58cf-74b9-45b1-b423-596ca29febd8",
   "metadata": {},
   "source": [
    "#### Loading matrices (data from the pipeline's outputs)\n",
    "Data in .csv format\n",
    "##### residue called as A is acting as one at the ground state amino acid\n",
    "> ##### resA core MO\n",
    "##### residue called as B is acting as one at the virtual state amino acid\n",
    "> ##### resB virtual MO\n",
    "\n",
    "In a pair-aa interaction, e.g. Phe-Tyr, Phenylalanine stands for resA core MO and Tyrosine for resB virtual MO. And after, Tyrosine stands for resA core MO and Phenylalanine for resB virtual MO. Both are calculated and are within the spectra."
   ]
  },
  {
   "cell_type": "markdown",
   "id": "f0e412dc-ef41-4776-aa4e-14ef7b2d02ef",
   "metadata": {},
   "source": [
    "> ##### resA core MO - Phenylalanine"
   ]
  },
  {
   "cell_type": "code",
   "execution_count": 50,
   "id": "a2be2dd3-8db5-4d43-b596-147b4bd4c221",
   "metadata": {},
   "outputs": [],
   "source": [
    "# naming global variables\n",
    "resa_A = \"resA_MOcore_FY_\"\n",
    "resb_B=\"resB_MOcore_FY_\"\n",
    "resab_AB=\"corevirtMO_matrix_FY_\"\n",
    "resab_ts_AB = \"corevirtMO_matrix_tspb_FY_\"\n",
    "resab_fosce_AB=\"corevirt_fosce_FY_\" \n",
    "# naming the variables that externally are called\n",
    "post = \".csv\"\n",
    "sffx = \"_FY_raw\"\n",
    "fx = \"_FY\"\n",
    "mocr_pre = \"resa_mocore_\"\n",
    "movr_pre = \"resb_movirt_\"\n",
    "mocrvr_pre = \"corevirtMO_matrix_\"\n",
    "mocv_pre_tspb = \"corevirtMO_matrix_tspb_\"\n",
    "mocv_pre_fosce = \"corevirt_mo_fosce_\""
   ]
  },
  {
   "cell_type": "code",
   "execution_count": 51,
   "id": "1a0a6107-7643-46e8-9f65-90fd692fc542",
   "metadata": {},
   "outputs": [],
   "source": [
    "# ccreating list for the distances\n",
    "l_tmp = [85, 90, 95, 100, 105, 110]\n",
    "list_suf = [i for i in range(25,81)]\n",
    "for i in l_tmp:\n",
    "    list_suf.append(i)"
   ]
  },
  {
   "cell_type": "code",
   "execution_count": 52,
   "id": "0f88b8c2-f877-459b-be5d-826bba172883",
   "metadata": {},
   "outputs": [],
   "source": [
    "# loading data from core MO matrices"
   ]
  },
  {
   "cell_type": "code",
   "execution_count": 53,
   "id": "08f436f8-c361-445e-80d8-65d9368068ed",
   "metadata": {},
   "outputs": [],
   "source": [
    "#Uncomment the original range to see more peaks outside the expected range\n",
    "for ii in list_suf:\n",
    "    # core MO\n",
    "    globals()['%s' % mocr_pre+str(ii)+sffx] = pd.read_csv(resa_A+str(ii)+post, delimiter=',', index_col='num-1')\n",
    "    # virtual MO\n",
    "    globals()['%s' % movr_pre+str(ii)+sffx] = pd.read_csv(resb_B+str(ii)+post, delimiter=',', index_col='num-1')\n",
    "    # core/virt MO as function of the number of transitions\n",
    "    globals()['%s' % mocrvr_pre+str(ii)+sffx] = pd.read_csv(resab_AB+str(ii)+post, delimiter=',', index_col='virt\\core')\n",
    "    # core/virt MO as function of the number of transitions averaged probability\n",
    "    globals()['%s' % mocv_pre_tspb+str(ii)+sffx] = pd.read_csv(resab_ts_AB+str(ii)+post, delimiter=',', index_col='virt\\core')\n",
    "    # core/virt MO as function of the oscillator strength using electronic dipole moment as operator\n",
    "    # by weighted (WSM) sum and weighted average (WAM)\n",
    "    globals()['%s' % mocv_pre_fosce+str(ii)+sffx] = pd.read_csv(resab_ts_AB+str(ii)+post, delimiter=',', index_col='virt\\core')"
   ]
  },
  {
   "cell_type": "markdown",
   "id": "acd438c5-40be-483d-a7b3-bdf626f3d8f9",
   "metadata": {},
   "source": [
    "### Main functions to present data according to the features"
   ]
  },
  {
   "cell_type": "code",
   "execution_count": 55,
   "id": "41ddb6a4-e36a-4526-bd8b-e84747258f63",
   "metadata": {},
   "outputs": [],
   "source": [
    "# returning just columns in the both lists intersection\n",
    "def selecting_atm_matrix(df, atoms_list):\n",
    "    \"\"\"\n",
    "    it returns MO matrix (df) having just the atoms in atoms_list.\n",
    "    \"\"\"\n",
    "    col_list = df.index.tolist() #listing index (elements from column 0)\n",
    "    #dff = df.loc[:, (df != 0).any(axis=0)] #removing zero columns\n",
    "    return df.loc[[i for i in atoms_list if i in col_list]] "
   ]
  },
  {
   "cell_type": "code",
   "execution_count": 56,
   "id": "c11624f2-20f8-4220-80aa-add173894223",
   "metadata": {},
   "outputs": [],
   "source": [
    "# removing zero columns\n",
    "def nonzero_mo_matrix(df):\n",
    "    \"\"\"\n",
    "    it returns MO matrix (df) having just non-zero MO population.\n",
    "    \"\"\"\n",
    "    return df.loc[:, (df != 0).any(axis=0)]"
   ]
  },
  {
   "cell_type": "code",
   "execution_count": 57,
   "id": "f7f90d3f-e8ee-452c-9fc1-a85a8f6d4043",
   "metadata": {},
   "outputs": [],
   "source": [
    "# showing the fisrt two columns and those having population greater than pop*100%\n",
    "def crop_by_loewdin_p(df,pop):\n",
    "    \"\"\"\n",
    "    it returns MO matrix (df) having just a Loewdin MO population contribution greater than (100*pop)%.\n",
    "    pop is a number between 0 and 1.\n",
    "    \"\"\"\n",
    "    #cols = [col for col, val in df.sum()[2:].iteritems() if val > (pop*100)]\n",
    "    cols = [col for col, val in df.sum()[2:].items() if val > (pop*100)]\n",
    "    #iteritem() create a zip with the index_col and the values\n",
    "    cols.insert(0,'lvl')\n",
    "    cols.insert(0,'sym')\n",
    "    #to add on the top the first two columns removed in the previous sum() evaluation\n",
    "    return df[cols] "
   ]
  },
  {
   "cell_type": "code",
   "execution_count": 58,
   "id": "bbbb0c71-9a67-422a-bb9a-2f49ae6badd2",
   "metadata": {},
   "outputs": [],
   "source": [
    "# the first two elements in df2.axes[1] and df1.axes[1] are \"sym\" and \"lvl\", \n",
    "# that's why I used df.axes[1][2:]\n",
    "def cropping_matrix(df, df1, df2):\n",
    "    \"\"\"\n",
    "    it returns a cropped MO matrix from df using as parameters the indices in df1 and df2.\n",
    "    df1 index are column names from df and df2 index are the rows from df\n",
    "    \"\"\"\n",
    "    try:\n",
    "        dff = df[df1.axes[1][2:].tolist()] #saving specific columns\n",
    "    except KeyError:\n",
    "        tmp_mo = [item for item in df1.axes[1][2:].tolist() if item in df.axes[1][0:].tolist()]\n",
    "        #removing items in the first list that are not in the second one\n",
    "        dff = df[tmp_mo]\n",
    "    try:\n",
    "        return dff.loc[[int(i) for i in df2.axes[1][2:].tolist()]] #returning specific rows\n",
    "    except KeyError:\n",
    "        tmp_mo2 = [item for item in df2.axes[1][2:].tolist() if int(item) in dff.T.axes[1][0:].tolist()]\n",
    "        # dff.T to obtain the index_col as the head row\n",
    "        return dff.loc[[int(i) for i in tmp_mo2]] #returning specific rows"
   ]
  },
  {
   "cell_type": "markdown",
   "id": "e7201e26-f85f-44df-9f4e-0d7f06073668",
   "metadata": {},
   "source": [
    "<html>\n",
    "<body>\n",
    "<h3 id=\"title\">Reducing Löwdin Population MO matrices by removing non-contributing MO</h3>\n",
    "</body>\n",
    "</html>"
   ]
  },
  {
   "cell_type": "code",
   "execution_count": 59,
   "id": "80535451-f129-441d-b07d-b40a9408f9b3",
   "metadata": {},
   "outputs": [],
   "source": [
    "for ii in list_suf:\n",
    "    # Case for core MO in the resA\n",
    "    globals()['%s' % mocr_pre+str(ii)+fx] = nonzero_mo_matrix(globals()['%s' % mocr_pre+str(ii)+sffx])\n",
    "    # Case for virtual MO in the resB\n",
    "    globals()['%s' % movr_pre+str(ii)+fx] = nonzero_mo_matrix(globals()['%s' % movr_pre+str(ii)+sffx])"
   ]
  },
  {
   "cell_type": "markdown",
   "id": "4879f375-15cf-44f0-ac02-23bc0b4d991e",
   "metadata": {},
   "source": [
    "________________________________________"
   ]
  },
  {
   "cell_type": "markdown",
   "id": "de0e494c-e7d0-4a2d-9736-310234d8d1b7",
   "metadata": {},
   "source": [
    "### varying loewdin population involved"
   ]
  },
  {
   "cell_type": "code",
   "execution_count": 60,
   "id": "564b946c-379a-4e39-a71c-8bc1998ceca5",
   "metadata": {},
   "outputs": [
    {
     "data": {
      "text/plain": [
       "62"
      ]
     },
     "execution_count": 60,
     "metadata": {},
     "output_type": "execute_result"
    }
   ],
   "source": [
    "loew_pop_list = [ii for ii in range(1,101,2)]\n",
    "len(list_suf)"
   ]
  },
  {
   "cell_type": "code",
   "execution_count": 61,
   "id": "7099b3d5-b2ce-43dc-8d5d-a60f8e391c96",
   "metadata": {},
   "outputs": [],
   "source": [
    "atomAi = 0\n",
    "atomAf = 22\n",
    "atomBi = 23\n",
    "atomBf = 46"
   ]
  },
  {
   "cell_type": "markdown",
   "id": "f19e3fd3-d5c6-4ff1-b8ed-fe181d06bda3",
   "metadata": {},
   "source": [
    "### BGA product"
   ]
  },
  {
   "cell_type": "code",
   "execution_count": 47,
   "id": "b04fe832-713c-400f-813c-fd05fec25fa8",
   "metadata": {},
   "outputs": [],
   "source": [
    "def ts_psb_acore_bvirt(acore, bvirt, abcorevirt, atm_to_virtmo=False):\n",
    "    \"\"\"\n",
    "    Do a matrix multiplication between the core-to-virt transition \n",
    "    probabilities matrix and the core MO matrix, then the resulting matrix\n",
    "    is multiplied by the virtual MO matrix.\n",
    "    if atm_to_virtmo is True, then the two resulting matrices in the \n",
    "    multiplication process are returned.\n",
    "    By the default, just the last matrix is returned.\n",
    "    \"\"\"\n",
    "    abcorevirt.index = abcorevirt.index.astype('str') \n",
    "    #to make possible the dot product in pandas, the indexes involved in each\n",
    "    #product have to \"match\" in name and type\n",
    "    \n",
    "    i = j = 0\n",
    "    dff = pd.DataFrame(np.zeros((acore.shape[0], abcorevirt.shape[0])), \\\n",
    "                       index=acore.index, columns=abcorevirt.index)\n",
    "    for j in range(abcorevirt.shape[1]):\n",
    "        for i in range(acore.shape[1]):\n",
    "            try:\n",
    "                dff += acore.T[i:i+1].T.dot(abcorevirt.iloc[:].T[j:j+1])\n",
    "            except:\n",
    "                pass\n",
    "            \n",
    "    dff = dff/100\n",
    "    i = j = 0\n",
    "    dff2 = pd.DataFrame(np.zeros((dff.shape[0], bvirt.shape[0])), \\\n",
    "                        index=dff.index, columns=bvirt.index)\n",
    "    for i in range(dff.shape[1]):\n",
    "        for j in range(bvirt.shape[1]):\n",
    "            try:\n",
    "                dff2 += dff.T[i:i+1].T.dot(bvirt.T[j:j+1])\n",
    "            except:\n",
    "                pass\n",
    "    \n",
    "    if atm_to_virtmo:\n",
    "        return dff, dff2\n",
    "    else:\n",
    "        return dff2"
   ]
  },
  {
   "cell_type": "code",
   "execution_count": 66,
   "id": "0ec9f66f-1d40-4bc5-ab6f-b5f0b7d8404c",
   "metadata": {},
   "outputs": [],
   "source": [
    "def sum_Mm(dfbig, dfsmall):\n",
    "    \"\"\"\n",
    "    in a dfbig matrix, the elements from dfsmall matrix are summed according\n",
    "    to its index and columns matches in dfbig index and columns\n",
    "    values\n",
    "    \"\"\"\n",
    "    for i in dfsmall.index.values:\n",
    "        for j in dfsmall.columns.values:\n",
    "            try:\n",
    "                dfbig.loc[[i],[j]] += dfsmall.loc[[i],[j]]\n",
    "            except:\n",
    "                pass\n",
    "    return dfbig"
   ]
  },
  {
   "cell_type": "markdown",
   "id": "1ced2c72-aa5d-4a6f-a0ed-b0026127b1f5",
   "metadata": {},
   "source": [
    "### 1% or greater distinguishable MO (non-distinguishable)"
   ]
  },
  {
   "cell_type": "code",
   "execution_count": 62,
   "id": "1d37652e-b932-4534-a4ea-d634a16455e4",
   "metadata": {},
   "outputs": [],
   "source": [
    "for pop in loew_pop_list[0:1]: \n",
    "    \n",
    "    for ii in list_suf:\n",
    "        globals()['core_%s_AB' % str(ii)] = selecting_atm_matrix(globals()['resa_mocore_%s_FY' % str(ii)],\\\n",
    "                                            [i for i in range(atomAi,atomAf+1)])\n",
    "        globals()['virt_%s_AB' % str(ii)] = selecting_atm_matrix(globals()['resb_movirt_%s_FY_raw' % str(ii)],\\\n",
    "                                            [i for i in range(atomBi,atomBf+1)])\n",
    "        globals()['core_%s_BA' % str(ii)] = selecting_atm_matrix(globals()['resa_mocore_%s_FY' % str(ii)],\\\n",
    "                                            [i for i in range(atomBi,atomBf+1)])\n",
    "        globals()['virt_%s_BA' % str(ii)] = selecting_atm_matrix(globals()['resb_movirt_%s_FY_raw' % str(ii)],\\\n",
    "                                            [i for i in range(atomAi,atomAf+1)])\n",
    "    \n",
    "    for ii in list_suf:\n",
    "        #Remember: it does not make scence cropping by loewdin population if the target virtual space\n",
    "        #is complete (all atoms) because the answer always will be close to 100% of contribution!!!\n",
    "        #globals()['resb_movirt_%s_all_pop' % str(ii)] = \\\n",
    "        #crop_by_loewdin_p(globals()['resb_movirt_%s_FY_raw' % str(ii)],pop/100)\n",
    "        globals()['resb_movirt_%s_FY_pop' % str(ii)] = \\\n",
    "        crop_by_loewdin_p(globals()['virt_%s_AB' % str(ii)],pop/100)\n",
    "        globals()['resb_movirt_%s_YF_pop' % str(ii)] = \\\n",
    "        crop_by_loewdin_p(globals()['virt_%s_BA' % str(ii)],pop/100)\n",
    "    ###\n",
    "    for ii in list_suf:\n",
    "        #to obtain a complete coretovirt-atom matrix the function crop_by_loewdin_p() is not necessary\n",
    "        globals()['corevirtMO_matrix_tspb_%s_all_pop' % str(ii)] = \\\n",
    "        cropping_matrix(globals()['corevirtMO_matrix_tspb_%s_FY_raw' % str(ii)], \\\n",
    "                        globals()['resa_mocore_%s_FY' % str(ii)], globals()['resb_movirt_%s_FY_raw' % str(ii)])\n",
    "        #here it is necessary a cropped virtual space\n",
    "        globals()['corevirtMO_matrix_tspb_%s_FY_pop' % str(ii)] = \\\n",
    "        cropping_matrix(globals()['corevirtMO_matrix_tspb_%s_FY_raw' % str(ii)], \\\n",
    "                        globals()['core_%s_AB' % str(ii)], globals()['resb_movirt_%s_FY_pop' % str(ii)])\n",
    "        globals()['corevirtMO_matrix_tspb_%s_YF_pop' % str(ii)] = \\\n",
    "        cropping_matrix(globals()['corevirtMO_matrix_tspb_%s_FY_raw' % str(ii)], \\\n",
    "                        globals()['core_%s_BA' % str(ii)], globals()['resb_movirt_%s_YF_pop' % str(ii)])"
   ]
  },
  {
   "cell_type": "markdown",
   "id": "47b4ba71-ade1-47f1-bc5f-f7a6730ccfb6",
   "metadata": {},
   "source": [
    "### Building the atomistic oscillator strength matrices"
   ]
  },
  {
   "cell_type": "code",
   "execution_count": null,
   "id": "a0d85c20-ade0-4b64-ac06-73ca720f6277",
   "metadata": {},
   "outputs": [],
   "source": [
    "# naming global variables\n",
    "resa_A = \"resA_MOcore_FY_\"\n",
    "resb_B=\"resB_MOcore_FY_\"\n",
    "resab_AB=\"corevirtMO_matrix_FY_\"\n",
    "resab_ts_AB = \"corevirtMO_matrix_tspb_FY_\"\n",
    "resab_fosce_AB=\"corevirt_fosce_FY_\" \n",
    "# naming the variables that externally are called\n",
    "post = \".csv\"\n",
    "sffx = \"_FY_raw\"\n",
    "fx = \"_FY\"\n",
    "mocr_pre = \"resa_mocore_\"\n",
    "movr_pre = \"resb_movirt_\"\n",
    "mocrvr_pre = \"corevirtMO_matrix_\"\n",
    "mocv_pre_tspb = \"corevirtMO_matrix_tspb_\"\n",
    "mocv_pre_fosce = \"corevirt_mo_fosce_\""
   ]
  },
  {
   "cell_type": "code",
   "execution_count": 79,
   "id": "48cffa71-5a6e-4a3f-a9cd-2be3171293f9",
   "metadata": {},
   "outputs": [],
   "source": [
    "for ii in list_suf:\n",
    "    globals()['newdf%s' % str(ii)] = \\\n",
    "    ts_psb_acore_bvirt(globals()['%s' % mocr_pre+str(ii)+fx].T[2:].T,\\\n",
    "                       globals()['%s' % movr_pre+str(ii)+fx].T[2:].T,\\\n",
    "                       globals()['%s' % mocv_pre_fosce+str(ii)+sffx])\n",
    "    globals()['newdf%s' % str(ii)].index.names = ['core-atom']\n",
    "    globals()['newdf%s' % str(ii)].columns.names = ['virtual-atom']\n",
    "    globals()['newdf%s' % str(ii)] = \\\n",
    "    globals()['newdf%s' % str(ii)].apply(pd.to_numeric).sort_index(ascending=True)\n"
   ]
  },
  {
   "cell_type": "code",
   "execution_count": 81,
   "id": "c11861d8-0123-48fb-be14-39720f0b2088",
   "metadata": {},
   "outputs": [
    {
     "data": {
      "text/plain": [
       "22.0337"
      ]
     },
     "execution_count": 81,
     "metadata": {},
     "output_type": "execute_result"
    }
   ],
   "source": [
    "jjj"
   ]
  },
  {
   "cell_type": "code",
   "execution_count": 78,
   "id": "8e80bae4-d456-4c5a-ad34-7844dc958b2a",
   "metadata": {},
   "outputs": [
    {
     "data": {
      "text/plain": [
       "110"
      ]
     },
     "execution_count": 78,
     "metadata": {},
     "output_type": "execute_result"
    }
   ],
   "source": [
    "max(list_suf)"
   ]
  },
  {
   "cell_type": "markdown",
   "id": "9677c710-af9e-4b73-90db-11a79fc0f64a",
   "metadata": {},
   "source": [
    "### Defining maximum and minimum to plot as a.u."
   ]
  },
  {
   "cell_type": "code",
   "execution_count": 82,
   "id": "1d250154-acf3-4409-94d9-7fce7eb81440",
   "metadata": {},
   "outputs": [],
   "source": [
    "relmax = max([globals()['newdf%s' % str(ii)].max().max() for ii in list_suf])\n",
    "relmin = min([globals()['newdf%s' % str(ii)].min().min() for ii in list_suf])"
   ]
  },
  {
   "cell_type": "markdown",
   "id": "c0c76b1c-2f6f-4b5f-8c8c-0fc41fe6421d",
   "metadata": {},
   "source": [
    "### Heatmap plot"
   ]
  },
  {
   "cell_type": "code",
   "execution_count": 80,
   "id": "62a19613-f594-4899-b96c-7460a16da3c8",
   "metadata": {},
   "outputs": [
    {
     "data": {
      "text/plain": [
       "<Axes: xlabel='virtual-atom', ylabel='core-atom'>"
      ]
     },
     "execution_count": 80,
     "metadata": {},
     "output_type": "execute_result"
    },
    {
     "data": {
      "image/png": "[encoded data removed]",
      "text/plain": [
       "<Figure size 1600x1400 with 2 Axes>"
      ]
     },
     "metadata": {},
     "output_type": "display_data"
    }
   ],
   "source": [
    "import seaborn as sns\n",
    "%matplotlib inline\n",
    "\n",
    "fig, ax = plt.subplots(figsize=(16,14)) \n",
    "\n",
    "test = (newdf42 - relmin)/(relmax - relmin)\n",
    "\n",
    "sns.heatmap(test, annot=False, cmap='Oranges', vmin=0, vmax=1, ax=ax)"
   ]
  },
  {
   "cell_type": "code",
   "execution_count": null,
   "id": "8cdf9699-3b4a-414d-9081-a280f5e86630",
   "metadata": {},
   "outputs": [],
   "source": []
  }
 ],
 "metadata": {
  "kernelspec": {
   "display_name": "dataviz",
   "language": "python",
   "name": "dataviz"
  },
  "language_info": {
   "codemirror_mode": {
    "name": "ipython",
    "version": 3
   },
   "file_extension": ".py",
   "mimetype": "text/x-python",
   "name": "python",
   "nbconvert_exporter": "python",
   "pygments_lexer": "ipython3",
   "version": "3.11.5"
  }
 },
 "nbformat": 4,
 "nbformat_minor": 5
}
