{
 "cells": [
  {
   "cell_type": "markdown",
   "id": "ad184f27",
   "metadata": {},
   "source": [
    "#### Big data sampling of the standard post analysis\n",
    "\n",
    "Data presented here, as new inputs for this jupyter-notebook, comes from the written-shell pipeline created to extract X-ray excited-state features from some specific pair of atoms group (e.g. pair amino acid). Outputs here are filtered features that account for specific transitions (coreMO -> virtualMO) for the specific pair of atoms group"
   ]
  },
  {
   "cell_type": "markdown",
   "id": "ed9912e4-cdc4-4097-a924-87bfcd54a5ac",
   "metadata": {},
   "source": [
    "###### Check out the paper of this work <br>\n",
    "##### *X-ray absorption spectroscopy reveals charge transfer in π-stacked aromatic amino acids*:<br> https://doi.org/10.1039/D4CP04615C"
   ]
  },
  {
   "cell_type": "code",
   "execution_count": 1,
   "id": "f39762b6",
   "metadata": {},
   "outputs": [],
   "source": [
    "import numpy as np\n",
    "import pandas as pd\n",
    "import csv as csv"
   ]
  },
  {
   "cell_type": "code",
   "execution_count": 2,
   "id": "e2f96df0-d4b9-49a2-991c-da95f1600a64",
   "metadata": {},
   "outputs": [],
   "source": [
    "import matplotlib.pyplot as plt\n",
    "import seaborn as sns"
   ]
  },
  {
   "cell_type": "code",
   "execution_count": 3,
   "id": "87d78e71-b5a2-4118-a25e-37d58ad138d2",
   "metadata": {},
   "outputs": [],
   "source": [
    "import h5py"
   ]
  },
  {
   "cell_type": "code",
   "execution_count": 4,
   "id": "fc5b4962-2f0e-4bce-9f05-ffa3eee7b6f0",
   "metadata": {},
   "outputs": [
    {
     "data": {
      "text/plain": [
       "'\\nElectron transition density atomic contribution matrix\\n$$\\n\\\\huge \\tilde{\\\\gamma}^{[l,m]}_{AA^{\\\\prime}}\\n$$\\n'"
      ]
     },
     "execution_count": 4,
     "metadata": {},
     "output_type": "execute_result"
    }
   ],
   "source": [
    "\"\"\"\n",
    "Electron transition density atomic contribution matrix\n",
    "$$\n",
    "\\huge \\tilde{\\gamma}^{[l,m]}_{AA^{\\prime}}\n",
    "$$\n",
    "\"\"\""
   ]
  },
  {
   "cell_type": "markdown",
   "id": "4dba28d1",
   "metadata": {},
   "source": [
    "____________________________"
   ]
  },
  {
   "cell_type": "markdown",
   "id": "058a8493",
   "metadata": {},
   "source": [
    "#### General case of the post analysis for a list of molecules"
   ]
  },
  {
   "cell_type": "markdown",
   "id": "d557d25b",
   "metadata": {},
   "source": [
    "The required data are the standard csv files obtained from the https://github.com/caraortizmah/x-ray_scripting_out pipeline which encodes the required information for the calculation of the electronic transition density atomic contribution matrix."
   ]
  },
  {
   "cell_type": "markdown",
   "id": "596813d4-a7ea-4c3e-a4fe-c927ff3eccd3",
   "metadata": {},
   "source": [
    "#### Before starting, create a list file (for the csv files) with two columns (hash, file) listing all the csv files by property/component.\n",
    "For instance the case of *resA core MO*:\n",
    "\n",
    "\n",
    "Create a file named `resA_MOcore_list.log` where the first column is a list with a hash, e.g., f01, f02, ...f99 and\n",
    "the second is the name of the csv file to explore (in this case only the resA MO core csv files).\n",
    "\n",
    "The file should look like:\n",
    ">  f00,(path)../newFY_1-26/resA_MOcore_AB_2.5A_1-26.csv <br>\n",
    ">  f01,(path)../newFY_1-26/resA_MOcore_AB_2.6A_1-26.csv <br>\n",
    ">  f02,(path)../newFY_1-26/resA_MOcore_AB_2.7A_1-26.csv <br>\n",
    ">  f03,(path)../newFY_1-26/resA_MOcore_AB_2.8A_1-26.csv <br>\n",
    ">  ... <br>\n",
    ">  f61,(path)../newFY_1-26/resA_MOcore_AB_11.0A_1-26.csv <br>"
   ]
  },
  {
   "cell_type": "markdown",
   "id": "4bb90cca-2e81-4801-933b-f744632f43cf",
   "metadata": {},
   "source": [
    "______________________________________"
   ]
  },
  {
   "cell_type": "markdown",
   "id": "ac3dc807-e3e6-4c02-84d1-c61f2cf4ef76",
   "metadata": {},
   "source": [
    "#### Functions for processing data\n",
    "______________________________________________"
   ]
  },
  {
   "cell_type": "code",
   "execution_count": 5,
   "id": "f6af8df3-1707-4a21-b473-e6aeb43bbf2e",
   "metadata": {},
   "outputs": [],
   "source": [
    "def load_dict_data(filename, index_col_condition='num-1'):\n",
    "    \"\"\"\n",
    "    Reads from a two-column file the hash and the file and\n",
    "     stores the information of the csv file into a dictionary.\n",
    "    Format file to be read:\n",
    "     f00,(path)../newFY_1-26/resA_MOcore_AB_2.5A_1-26.csv\n",
    "     f01,(path)../newFY_1-26/resA_MOcore_AB_2.6A_1-26.csv\n",
    "     f02,(path)../newFY_1-26/resA_MOcore_AB_2.7A_1-26.csv\n",
    "     f03,(path)../newFY_1-26/resA_MOcore_AB_2.8A_1-26.csv\n",
    "      ...\n",
    "     f61,(path)../newFY_1-26/resA_MOcore_AB_11.0A_1-26.csv \n",
    "    Args:\n",
    "     filename (str): two-column file filename having\n",
    "      a hash for each path file.\n",
    "     index_col_condition (str): the name of the index \n",
    "      column to read the csv as pandas structure.\n",
    "      Default as 'num-1'\n",
    "    Output (dict): keys are the hashes and values of the dictionary\n",
    "     are the pandas frame for each csv file.\n",
    "    \"\"\"\n",
    "    # Initialize a dictionary\n",
    "    dict_raw = {}\n",
    "    # Open the list file\n",
    "    with open(filename, 'r') as file:\n",
    "        # Read each line in the file\n",
    "        for line in file:\n",
    "            line = line.strip()\n",
    "    # {(key) hash = line.split(',')[0] : (value) file_n = line.split(',')[1]}\n",
    "            dict_raw.update({\n",
    "                line.split(',')[0]: # key\n",
    "                pd.read_csv(line.split(',')[1],\n",
    "                            delimiter=',',\n",
    "                            index_col=index_col_condition) # value\n",
    "            })\n",
    "    return dict_raw"
   ]
  },
  {
   "cell_type": "code",
   "execution_count": 6,
   "id": "e589f9cd-d276-4129-ab11-6bff62c4ea1e",
   "metadata": {},
   "outputs": [],
   "source": [
    "def save_ETDAC_matrix(data_dict, data_set_name=\"data_etdac_matrix.h5\"):\n",
    "    \"\"\"\n",
    "    Get the node/edge features for each molecule and save\n",
    "    all the results in H5PY format.\n",
    "    Args:\n",
    "    data_dict (dict) contains a hash (key) and \n",
    "     the ETDAC matrix (value) of each molecule.\n",
    "    data_set_name (str, optional) is the name of the H5PY file to be\n",
    "     created. By default that file is called \"data_etdac_matrix.h5\".\n",
    "    \"\"\"\n",
    "    \n",
    "    with h5py.File(data_set_name, 'w') as f:\n",
    "\n",
    "        # Get node/edge features for the list of molecules\n",
    "        for hash in data_dict.keys():\n",
    "#df.to_hdf('data.h5', key='df', mode='w', format='table')\n",
    "            qm_group = f.create_group(f\"sample_{hash}\")\n",
    "            qm_group.create_dataset(\"ETDAC_matrix\", \n",
    "                                    data=data_dict[hash].to_records(index=True),  # Preserves index+columns\n",
    "                                    compression=\"gzip\")\n",
    "            \n",
    "            qm_group.attrs[\"hash\"] = hash\n",
    "            qm_group.attrs[\"column_name\"] = data_dict[hash].columns.name # Save column name\n",
    "            qm_group.attrs[\"index_name\"] = data_dict[hash].index.name  # Save row name"
   ]
  },
  {
   "cell_type": "markdown",
   "id": "06137417",
   "metadata": {},
   "source": [
    "#### Functions for the algebra operations"
   ]
  },
  {
   "cell_type": "code",
   "execution_count": 7,
   "id": "17ca3585",
   "metadata": {},
   "outputs": [],
   "source": [
    "def selecting_atm_matrix(df, atoms_list):\n",
    "    \"\"\"\n",
    "    it returns MO matrix (df) having just the atoms in atoms_list.\n",
    "    \"\"\"\n",
    "    col_list = df.index.tolist() #listing index (elements from column 0)\n",
    "    #dff = df.loc[:, (df != 0).any(axis=0)] #removing zero columns\n",
    "    return df.loc[[i for i in atoms_list if i in col_list]] #returning just columns in the both lists intersection\n",
    "#atoms_core=resa_mocore_GFG9Y_raw.index.tolist() #all C-core atoms\n",
    "#[i for i in atoms_a if i in atoms_core] #atoms_a intersection atoms_core"
   ]
  },
  {
   "cell_type": "code",
   "execution_count": 8,
   "id": "9b439bab",
   "metadata": {},
   "outputs": [],
   "source": [
    "def crop_by_loewdin_p(df,pop):\n",
    "    \"\"\"\n",
    "    it returns MO matrix (df) having just a Loewdin MO population contribution greater than (100*pop)%.\n",
    "    pop is a number between 0 and 1.\n",
    "    \"\"\"\n",
    "    #cols = [col for col, val in df.sum()[2:].iteritems() if val > (pop*100)]\n",
    "    cols = [col for col, val in df.sum()[2:].items() if val > (pop*100)]\n",
    "    #iteritem() create a zip with the index_col and the values\n",
    "    cols.insert(0,'lvl')\n",
    "    cols.insert(0,'sym')\n",
    "    #to add on the top the first two columns removed in the previous sum() evaluation\n",
    "    return df[cols] #showing the fisrt two columns and those having population greater than pop*100%"
   ]
  },
  {
   "cell_type": "code",
   "execution_count": 9,
   "id": "b4558bec",
   "metadata": {},
   "outputs": [],
   "source": [
    "def nonzero_mo_matrix(df):\n",
    "    \"\"\"\n",
    "    it returns MO matrix (df) having just non-zero MO population.\n",
    "    \"\"\"\n",
    "    return df.loc[:, (df != 0).any(axis=0)] #removing zero columns"
   ]
  },
  {
   "cell_type": "code",
   "execution_count": 10,
   "id": "335af615",
   "metadata": {},
   "outputs": [],
   "source": [
    "def cropping_matrix(df, df1, df2):\n",
    "    \"\"\"\n",
    "    it returns a cropped MO matrix from df using as parameters the indices in df1 and df2.\n",
    "    df1 index are column names from df and df2 index are the rows from df\n",
    "    \"\"\"\n",
    "    try:\n",
    "        dff = df[df1.axes[1][2:].tolist()] #saving specific columns\n",
    "    except KeyError:\n",
    "        tmp_mo = [item for item in df1.axes[1][2:].tolist() if item in df.axes[1][0:].tolist()]\n",
    "        #removing items in the first list that are not in the second one\n",
    "        dff = df[tmp_mo]\n",
    "    try:\n",
    "        return dff.loc[[int(i) for i in df2.axes[1][2:].tolist()]] #returning specific rows\n",
    "    except KeyError:\n",
    "        tmp_mo2 = [item for item in df2.axes[1][2:].tolist() if int(item) in dff.T.axes[1][0:].tolist()]\n",
    "        # dff.T to obtain the index_col as the head row\n",
    "        return dff.loc[[int(i) for i in tmp_mo2]] #returning specific rows\n",
    "# the first two elements in df2.axes[1] and df1.axes[1] are \"sym\" and \"lvl\", that's why I used df.axes[1][2:]"
   ]
  },
  {
   "cell_type": "code",
   "execution_count": 11,
   "id": "32376646-a958-4a0b-bbfc-8e731240e1bc",
   "metadata": {},
   "outputs": [],
   "source": [
    "def remove_noncontrb(dict_data_raw):\n",
    "    \"\"\"\n",
    "    Drops off the non-contributing elements to avoid\n",
    "    zero or nan spread on the following linear algebra \n",
    "    operations.\n",
    "    This function depends on the nonzero_mo_matrix()\n",
    "     to work.\n",
    "    Args:\n",
    "    dict_data_raw (dict): the pd.frames inside can have zeroes\n",
    "     or nan values.\n",
    "    Output (dict): dict_data only with nonzero elements.\n",
    "    \"\"\"\n",
    "    dict_data = {}\n",
    "    for key, value in dict_data_raw.items():\n",
    "        dict_data.update({key: nonzero_mo_matrix(value)})\n",
    "    return dict_data"
   ]
  },
  {
   "cell_type": "markdown",
   "id": "2bea0f27",
   "metadata": {},
   "source": [
    "#### Main functions: ETDAC matrix calculation"
   ]
  },
  {
   "cell_type": "markdown",
   "id": "917c08c8-c1dd-40e5-b7a6-32d53e95da57",
   "metadata": {},
   "source": [
    "##### Building heatmaps of $\\tilde{\\gamma}^{[l,m]}_{AA^{\\prime}}$"
   ]
  },
  {
   "cell_type": "code",
   "execution_count": 12,
   "id": "dcba58f4",
   "metadata": {},
   "outputs": [],
   "source": [
    "def ts_psb_acore_bvirt(acore, bvirt, abcorevirt, atm_to_virtmo=False):\n",
    "    \"\"\"\n",
    "    Do a matrix multiplication between the core-to-virt transition \n",
    "    probabilities matrix and the core MO matrix, then the resulting matrix\n",
    "    is multiplied by the virtual MO matrix.\n",
    "    if atm_to_virtmo is True, then the two resulting matrices in the \n",
    "    multiplication process are returned.\n",
    "    By the default, just the last matrix is returned.\n",
    "    \"\"\"\n",
    "    abcorevirt.index = abcorevirt.index.astype('str') \n",
    "    #to make possible the dot product in pandas, the indexes involved in each\n",
    "    #product have to \"match\" in name and type\n",
    "    \n",
    "    i = j = 0\n",
    "    dff = pd.DataFrame(np.zeros((acore.shape[0], abcorevirt.shape[0])), \\\n",
    "                       index=acore.index, columns=abcorevirt.index)\n",
    "    for j in range(abcorevirt.shape[1]):\n",
    "        for i in range(acore.shape[1]):\n",
    "            try:\n",
    "                dff += acore.T[i:i+1].T.dot(abcorevirt.iloc[:].T[j:j+1])\n",
    "            except:\n",
    "                pass\n",
    "            \n",
    "    dff = dff/100\n",
    "    i = j = 0\n",
    "    dff2 = pd.DataFrame(np.zeros((dff.shape[0], bvirt.shape[0])), \\\n",
    "                        index=dff.index, columns=bvirt.index)\n",
    "    for i in range(dff.shape[1]):\n",
    "        for j in range(bvirt.shape[1]):\n",
    "            try:\n",
    "                dff2 += dff.T[i:i+1].T.dot(bvirt.T[j:j+1])\n",
    "            except:\n",
    "                pass\n",
    "    \n",
    "    if atm_to_virtmo:\n",
    "        return dff, dff2\n",
    "    else:\n",
    "        return dff2"
   ]
  },
  {
   "cell_type": "code",
   "execution_count": 13,
   "id": "2a37c6ea-4fe1-4212-8157-0ce31576ba8d",
   "metadata": {},
   "outputs": [],
   "source": [
    "def heatmap_ETDAC(core_MO, virt_MO, fosce_mo_trans):\n",
    "    \"\"\"\n",
    "    Runs the ts_psb_acore_bvirt() function to calculate the\n",
    "     electron transition density atomic contribution matrix \n",
    "     by performing some matrix transformations in the \n",
    "     core_MO and virt_MO pd.frames that are stored as\n",
    "     values in dictionary.\n",
    "    Args:\n",
    "    core_MO (dict): core MO and atom population matrices \n",
    "     obtained by load_dict_data() and remove_noncontrb()\n",
    "    virt_MO (dict): virtual MO and atom population matrices \n",
    "     obtained by load_dict_data()\n",
    "    fosce_mo_trans (dict): electronic transition\n",
    "     (oscillator strength) MO matrices obtained by the pipeline\n",
    "     (github.com/caraortizmah/x-ray_scripting_out) and \n",
    "     formated by load_dict_data()\n",
    "    Output:\n",
    "    heatmap_raw (dict): The electron transition density \n",
    "     atomic contribution (ETDAC) matrix in pd.frame format.\n",
    "    \"\"\"\n",
    "    # WSM case\n",
    "    # Exploiting the fact that all data share same order of the keys (hashes)\n",
    "    heatmap_raw = {}\n",
    "    for key in virt_MO.keys(): \n",
    "        # it can be any of the created dictionaries, they have same keys and in the same order\n",
    "        heatmap_raw.update({\n",
    "            key:\n",
    "            ts_psb_acore_bvirt(\n",
    "                core_MO[key].T[2:].T,\n",
    "                virt_MO[key].T[2:].T,\n",
    "                fosce_mo_trans[key])\n",
    "        })\n",
    "    return heatmap_raw"
   ]
  },
  {
   "cell_type": "code",
   "execution_count": 14,
   "id": "0810bcd6-97f4-462b-9132-f76b9ad6f7d7",
   "metadata": {},
   "outputs": [],
   "source": [
    "def crop_heatmap_byatm(etdac_m, row_cond, col_cond):\n",
    "    \"\"\"\n",
    "    Crop the electron transition density atomic \n",
    "     contribution matrix by using a range of atoms\n",
    "     that are in the core space and in the virtual\n",
    "     space.\n",
    "    Args:\n",
    "    etdac_m (pd.frame): Electron transition density atomic \n",
    "     contribution matrix.\n",
    "    row_cond (lambda): if-statement using the range of \n",
    "     atoms of the core space.\n",
    "    col_cond (lambda): if-statement using the range of\n",
    "     atoms of the virtual space.\n",
    "    Outputs:\n",
    "     etdac_m cropped by using two lambda functions.\n",
    "    \"\"\"\n",
    "    return etdac_m.loc[\n",
    "    [i for i in etdac_m.index.values if row_cond(i)],\n",
    "    [i for i in etdac_m.columns.values if col_cond(i)]\n",
    "    ]"
   ]
  },
  {
   "cell_type": "markdown",
   "id": "6f27176b-36d4-4998-abe8-6ad0eab61b4b",
   "metadata": {},
   "source": [
    "______________________________________________"
   ]
  },
  {
   "cell_type": "code",
   "execution_count": 15,
   "id": "5ddaf44e-fa8d-43c9-9458-249f29181e50",
   "metadata": {},
   "outputs": [],
   "source": [
    "#Data in .csv format"
   ]
  },
  {
   "cell_type": "code",
   "execution_count": 16,
   "id": "036776cd-af76-4a40-8b8d-8b59a8377368",
   "metadata": {},
   "outputs": [],
   "source": [
    "# resA core MO - $$\\boldsymbol{\\text{N}}_{A,i} $$\n",
    "resa_mocore_raw = load_dict_data('resA_MOcore_list.log', 'num-1')"
   ]
  },
  {
   "cell_type": "code",
   "execution_count": 17,
   "id": "28981e1b-bd8d-4d54-bbc7-916328fed802",
   "metadata": {},
   "outputs": [],
   "source": [
    "# resB virt MO - $$\\boldsymbol{\\text{N}}_{A^{\\prime},a} $$\n",
    "resb_movirt_raw = load_dict_data('resB_MOvirt_list.log', 'num-1')"
   ]
  },
  {
   "cell_type": "code",
   "execution_count": 18,
   "id": "f66f734f-2506-4a9f-b696-8abf22c603a6",
   "metadata": {},
   "outputs": [],
   "source": [
    "# Transition density state matrix $$ \\rho^{n}_{ia} $$"
   ]
  },
  {
   "cell_type": "code",
   "execution_count": 19,
   "id": "b9c6b96e-19ae-44b8-86c8-fc1271719ddb",
   "metadata": {},
   "outputs": [],
   "source": [
    "# Transition density state matrix (core/virt MO) \n",
    "#  as function of the number of transitions\n",
    "corevirtMO_raw = load_dict_data('corevirtMO_list.log', 'virt\\core')"
   ]
  },
  {
   "cell_type": "code",
   "execution_count": 20,
   "id": "6e84dca6-adea-4a91-a1f8-2d05be3ae61f",
   "metadata": {},
   "outputs": [],
   "source": [
    "# Transition density state matrix (core/virt MO) \n",
    "#  as function of the transitions averaged probability\n",
    "corevirtMO_tspb_raw = load_dict_data('corevirtMO_tspb_list.log', 'virt\\core')"
   ]
  },
  {
   "cell_type": "code",
   "execution_count": 21,
   "id": "bf33f9b0-d2fc-4174-905b-52628ed9712c",
   "metadata": {},
   "outputs": [],
   "source": [
    "# Transition density state matrix (core/virt MO) \n",
    "#  as function of the oscillator strength using electronic dipole moment as operator\n",
    "#  only presented by weighted (WSM): fosce\n",
    "#  $$ \\gamma^{[l,m]}_{ia} $$\n",
    "corevirtMO_fosce_raw = load_dict_data('corevirt_fosce_AB_list.log', 'virt\\core')"
   ]
  },
  {
   "cell_type": "code",
   "execution_count": 22,
   "id": "ea7f8270-d49e-4dda-a863-68543359d2a5",
   "metadata": {},
   "outputs": [],
   "source": [
    "# Reducing Löwdin Population MO matrices by removing non-contributing MO"
   ]
  },
  {
   "cell_type": "code",
   "execution_count": 23,
   "id": "7aba4087-4f3d-4eae-8441-07eefa4c9b92",
   "metadata": {},
   "outputs": [],
   "source": [
    "#  Case for core MO in the resA \n",
    "resa_mocore = remove_noncontrb(resa_mocore_raw)"
   ]
  },
  {
   "cell_type": "code",
   "execution_count": 24,
   "id": "25e8a18a-b0ef-4ed4-9c72-0438ccb32818",
   "metadata": {},
   "outputs": [],
   "source": [
    "# Case for virtual MO in the resB\n",
    "resb_movirt = remove_noncontrb(resb_movirt_raw)"
   ]
  },
  {
   "cell_type": "markdown",
   "id": "e572066c",
   "metadata": {},
   "source": [
    "___________________________"
   ]
  },
  {
   "cell_type": "markdown",
   "id": "3b752e14",
   "metadata": {},
   "source": [
    "### Results"
   ]
  },
  {
   "cell_type": "code",
   "execution_count": 25,
   "id": "f615cbf2-a14d-434b-a415-e63bc08570aa",
   "metadata": {},
   "outputs": [
    {
     "data": {
      "text/plain": [
       "'\\nFinal calculation: $$ \\\\huge \\tilde{\\\\gamma}^{[l,m]}_{AA^{\\\\prime}} $$\\n'"
      ]
     },
     "execution_count": 25,
     "metadata": {},
     "output_type": "execute_result"
    }
   ],
   "source": [
    "\"\"\"\n",
    "Final calculation: $$ \\huge \\tilde{\\gamma}^{[l,m]}_{AA^{\\prime}} $$\n",
    "\"\"\""
   ]
  },
  {
   "cell_type": "code",
   "execution_count": 26,
   "id": "8a98dfdb-33c3-47ad-aed3-2d2a06da9a6c",
   "metadata": {},
   "outputs": [],
   "source": [
    "# WSM case, it is the official representation by the domain-knowledge\n",
    "heatmap_raw = heatmap_ETDAC(resa_mocore, resb_movirt_raw, corevirtMO_fosce_raw)"
   ]
  },
  {
   "cell_type": "code",
   "execution_count": 27,
   "id": "c4b8f581-e67b-47e9-96a0-7222e001e13e",
   "metadata": {},
   "outputs": [],
   "source": [
    "for key in heatmap_raw.keys():\n",
    "    heatmap_raw[key].index.names = ['core-atom']\n",
    "    heatmap_raw[key].columns.names = ['virtual-atom']"
   ]
  },
  {
   "cell_type": "code",
   "execution_count": 28,
   "id": "814158c5-e8c1-4fd2-8191-cbb5c501a6cc",
   "metadata": {},
   "outputs": [],
   "source": [
    "heatmap = {}\n",
    "for key in heatmap_raw.keys():\n",
    "    heatmap.update({\n",
    "        key:\n",
    "        heatmap_raw[key].apply(pd.to_numeric).sort_index(ascending=True)\n",
    "    })"
   ]
  },
  {
   "cell_type": "code",
   "execution_count": 29,
   "id": "d165f63c-4d8f-46e3-a8d7-56a1742ce702",
   "metadata": {},
   "outputs": [],
   "source": [
    "# Saving data\n",
    "save_ETDAC_matrix(heatmap, data_set_name=\"data_etdac_matrix.h5\")"
   ]
  },
  {
   "cell_type": "code",
   "execution_count": null,
   "id": "55d3fa4e-19f0-4f1f-8320-c6271cc23267",
   "metadata": {},
   "outputs": [],
   "source": []
  },
  {
   "cell_type": "code",
   "execution_count": null,
   "id": "fa515db5-1d6c-4eb7-986b-3ec51f9b1357",
   "metadata": {},
   "outputs": [],
   "source": [
    "## test purposes\n",
    "rel_list = []\n",
    "tmp_keys = [key for key in heatmap.keys()][10:58] #from 3.5 to 9.0 A\n",
    "for ii in tmp_keys: \n",
    "    rel_list.append(heatmap[ii].max().max())\n",
    "relmax = max(rel_list)\n",
    "relmin = min(rel_list)\n",
    "relmin, relmax"
   ]
  },
  {
   "cell_type": "markdown",
   "id": "b75fcfe1-e253-48ee-b2cf-8a6a823d6409",
   "metadata": {},
   "source": [
    "##### Plot electron transition density atomic contribution (ETDAC) matrices"
   ]
  },
  {
   "cell_type": "code",
   "execution_count": null,
   "id": "1368c95c-8b54-421c-801b-514e2845d52c",
   "metadata": {},
   "outputs": [],
   "source": [
    "fig, ax = plt.subplots(figsize=(17,10)) \n",
    "test = (heatmap['f13'] - heatmap['f13'].min().min())/(heatmap['f13'].max().max() - heatmap['f13'].min().min())\n",
    "sns.heatmap(test, annot=False, cmap='Oranges', vmin=0, vmax=1, ax=ax)"
   ]
  },
  {
   "cell_type": "markdown",
   "id": "de67ce52-930f-46e5-ac73-724c32b4fd63",
   "metadata": {},
   "source": [
    "#### Definition of amino acids using range of atoms\n",
    "##### Example is the same Phe --- Tyr"
   ]
  },
  {
   "cell_type": "markdown",
   "id": "5cdd7532-4b7d-4458-b178-384614ff41e0",
   "metadata": {},
   "source": [
    "##### Set atoms"
   ]
  },
  {
   "cell_type": "code",
   "execution_count": null,
   "id": "110e9a5f",
   "metadata": {},
   "outputs": [],
   "source": [
    "atomAi = 0\n",
    "atomAf = 22\n",
    "atomBi = 23\n",
    "atomBf = 46"
   ]
  },
  {
   "cell_type": "code",
   "execution_count": null,
   "id": "cc4e838e",
   "metadata": {},
   "outputs": [],
   "source": [
    "atomAi, atomAf, atomBi, atomBf"
   ]
  },
  {
   "cell_type": "markdown",
   "id": "c54f6778-7e5c-4570-a28f-c56e465f3093",
   "metadata": {},
   "source": [
    "#### Delitimation of atoms of the aromatic rings"
   ]
  },
  {
   "cell_type": "code",
   "execution_count": null,
   "id": "b5baa831-5a9f-4e93-a15f-05289c60c184",
   "metadata": {},
   "outputs": [],
   "source": [
    "atomFi = 6\n",
    "atomFf = 11\n",
    "atomYi = 29\n",
    "atomYf = 33\n",
    "atomYf2 = 35"
   ]
  },
  {
   "cell_type": "markdown",
   "id": "7d3e755e",
   "metadata": {},
   "source": [
    "#### Calculating the 4 (more) terms of the transition intensities"
   ]
  },
  {
   "cell_type": "code",
   "execution_count": null,
   "id": "adc16ae5-6f51-454e-be51-dc0cb09c2292",
   "metadata": {},
   "outputs": [],
   "source": [
    "inter_fosce = []\n",
    "all_fosce = []\n",
    "FYpi_inter_fosce = []\n",
    "YFpi_inter_fosce = []\n",
    "aropi_inter_fosce = []\n",
    "keys = []\n",
    "\n",
    "for key in heatmap.keys():\n",
    "    keys.append(key)\n",
    "    row_cond_1, col_cond_1 = lambda i: i > atomAf, lambda i: i < atomBi\n",
    "    row_cond_2, col_cond_2 = lambda i: i <= atomAf, lambda i: i >= atomBi\n",
    "    inter_fosce.append(\n",
    "        crop_heatmap_byatm(heatmap[key], row_cond_1, col_cond_1).sum().sum() +\n",
    "        crop_heatmap_byatm(heatmap[key], row_cond_2, col_cond_2).sum().sum()\n",
    "    )\n",
    "    row_cond_1 = lambda i: i >= atomFi and i <= atomFf\n",
    "    col_cond_1 = lambda i: (i >= atomYi and i <= atomYf) or i == atomYf2\n",
    "    FYpi_inter_fosce.append(\n",
    "        crop_heatmap_byatm(heatmap[key], row_cond_1, col_cond_1).sum().sum()\n",
    "        )\n",
    "    row_cond_1 = lambda i: (i >= atomYi and i <= atomYf) or i == atomYf2\n",
    "    col_cond_1 = lambda i: i >= atomFi and i <= atomFf\n",
    "    YFpi_inter_fosce.append(\n",
    "        crop_heatmap_byatm(heatmap[key], row_cond_1, col_cond_1).sum().sum()\n",
    "        )\n",
    "    \n",
    "    aropi_inter_fosce = [FYpi_inter_fosce[i] + YFpi_inter_fosce[i] for i in range(len(inter_fosce))]\n",
    "    \n",
    "    all_fosce.append(heatmap[key].sum().sum())\n",
    "    \n",
    "intra_fosce = [all_fosce[i] - inter_fosce[i] for i in range(len(inter_fosce))]"
   ]
  },
  {
   "cell_type": "code",
   "execution_count": null,
   "id": "887d6c50-4267-4f34-9fc9-acc9eb206ec6",
   "metadata": {},
   "outputs": [],
   "source": [
    "max(inter_fosce), max(intra_fosce), max(all_fosce)"
   ]
  },
  {
   "cell_type": "code",
   "execution_count": null,
   "id": "3847d970",
   "metadata": {},
   "outputs": [],
   "source": [
    "dfftotal_fosce = pd.DataFrame({'hash': [i for i in keys],\\\n",
    "                               'inter_fosce': [i for i in inter_fosce],\\\n",
    "                               'intra_fosce': [i for i in intra_fosce],\\\n",
    "                               'all_fosce': [i for i in all_fosce],\\\n",
    "                               'FY_pi':[i/max(inter_fosce) for i in FYpi_inter_fosce],\\\n",
    "                               'YF_pi':[i/max(inter_fosce) for i in YFpi_inter_fosce],\\\n",
    "                               'pi_pi':[i/max(inter_fosce) for i in aropi_inter_fosce],\\\n",
    "                               'abs_pi_pi':[i for i in aropi_inter_fosce]\n",
    "                              })"
   ]
  },
  {
   "cell_type": "code",
   "execution_count": null,
   "id": "edf378c3",
   "metadata": {},
   "outputs": [],
   "source": [
    "dfftotal_fosce"
   ]
  },
  {
   "cell_type": "markdown",
   "id": "ea67fd23-2aa3-4560-9aed-a8e33e1d2548",
   "metadata": {},
   "source": [
    "#### Data to be saved"
   ]
  },
  {
   "cell_type": "code",
   "execution_count": null,
   "id": "5a8c58a6-605a-42e2-9852-d0ebe1949d53",
   "metadata": {},
   "outputs": [],
   "source": [
    "plt.rc('font', size=26)\n",
    "ax = dfftotal_fosce.loc[10:55,:].plot(\n",
    "    x=\"hash\",\n",
    "    y=[\"inter_fosce\",\"intra_fosce\",\"abs_pi_pi\", \"all_fosce\"],\n",
    "    kind=\"line\",\n",
    "    figsize=(16, 12))\n",
    "ax.set_xlabel('Sample unique identificator')\n",
    "ax.set_ylabel('Transition intensity')\n",
    "\n",
    "plt.show()"
   ]
  },
  {
   "cell_type": "markdown",
   "id": "9512ec11-84e7-48ce-9968-3262e1ccc4ca",
   "metadata": {},
   "source": [
    "#### That's it :)"
   ]
  },
  {
   "cell_type": "code",
   "execution_count": null,
   "id": "2976d980-77bf-43d9-9c61-c1e22b7b0dd9",
   "metadata": {},
   "outputs": [],
   "source": []
  }
 ],
 "metadata": {
  "kernelspec": {
   "display_name": "dataviz",
   "language": "python",
   "name": "dataviz"
  },
  "language_info": {
   "codemirror_mode": {
    "name": "ipython",
    "version": 3
   },
   "file_extension": ".py",
   "mimetype": "text/x-python",
   "name": "python",
   "nbconvert_exporter": "python",
   "pygments_lexer": "ipython3",
   "version": "3.11.5"
  }
 },
 "nbformat": 4,
 "nbformat_minor": 5
}
