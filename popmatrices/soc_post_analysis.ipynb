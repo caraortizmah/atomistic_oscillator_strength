{
 "cells": [
  {
   "cell_type": "markdown",
   "id": "ad184f27",
   "metadata": {},
   "source": [
    "<html>\n",
    "\n",
    "<head>\n",
    "<meta charset=\"UTF-8\">\n",
    "<title>Title of the document</title>\n",
    "</head>\n",
    "\n",
    "<body>\n",
    "<h1 id=\"title\">Plots from X-ray absorption calculations using ORCA</h1>\n",
    "<p>Presentation of the feature engineering applied for ORCA outputs</p>\n",
    "<p>Data presented here, as new inputs for this jupyter-notebook, comes from the written-shell pipeline created to extract X-ray excited-state features from some specific pair of atoms group (e.g. pair amino acid).</p>\n",
    "<p>Outputs here are filtered features that account for specific transitions (coreMO -> virtualMO) for the specific pair of atoms group.</p>\n",
    "</body>\n",
    "</html>"
   ]
  },
  {
   "cell_type": "code",
   "execution_count": 1,
   "id": "f39762b6",
   "metadata": {},
   "outputs": [],
   "source": [
    "import numpy as np\n",
    "import pandas as pd\n",
    "import matplotlib.pyplot as plt\n",
    "import matplotlib\n",
    "import csv as csv\n",
    "from matplotlib.colors import ListedColormap\n",
    "from matplotlib.pyplot import figure\n",
    "from __future__ import print_function\n",
    "from matplotlib.backends.backend_agg import FigureCanvasAgg as FigureCanvas\n",
    "from matplotlib.figure import Figure\n",
    "import math"
   ]
  },
  {
   "cell_type": "markdown",
   "id": "4dba28d1",
   "metadata": {},
   "source": [
    "____________________________"
   ]
  },
  {
   "cell_type": "code",
   "execution_count": 2,
   "id": "16c940fc",
   "metadata": {},
   "outputs": [],
   "source": [
    "from scipy.optimize import leastsq\n",
    "from scipy.optimize import curve_fit\n",
    "from scipy.signal import find_peaks"
   ]
  },
  {
   "cell_type": "code",
   "execution_count": 3,
   "id": "70dc1ab6",
   "metadata": {},
   "outputs": [],
   "source": [
    "plt.rcParams['axes.labelsize'] = 18\n",
    "plt.rcParams['axes.titlesize'] = 18"
   ]
  },
  {
   "cell_type": "markdown",
   "id": "1703b897",
   "metadata": {},
   "source": [
    "--------------"
   ]
  },
  {
   "cell_type": "markdown",
   "id": "058a8493",
   "metadata": {},
   "source": [
    "<html>\n",
    "\n",
    "<head>\n",
    "<meta charset=\"UTF-8\">\n",
    "<title>Title of the document</title>\n",
    "</head>\n",
    "\n",
    "<body>\n",
    "<h1 id=\"title\">Löwdin Population analysis from </h1>\n",
    "<h2 id=\"title\"> X-ray absorption spectra calculated using DFT/ROCIS zora </h2>\n",
    "<h3 id=\"title\">    System of study RWG4MG3: W ${---}$ M</h3>\n",
    "<h4 id=\"title\">   non-covalent interaction distance </h4>\n",
    "</body>\n",
    "</html>\n"
   ]
  },
  {
   "cell_type": "markdown",
   "id": "d557d25b",
   "metadata": {},
   "source": [
    "#### Loading matrices (data from the pipeline's outputs)\n",
    "Data in .csv format\n",
    "##### residue called as A is acting as one at the ground state amino acid\n",
    "> ##### resA core MO\n",
    "##### residue called as B is acting as one at the virtual state amino acid\n",
    "> ##### resB virtual MO\n",
    "\n",
    "In a pair-aa interaction, e.g. Phe-Tyr, Phenylalanine stands for resA core MO and Tyrosine for resB virtual MO. And after, Tyrosine stands for resA core MO and Phenylalanine for resB virtual MO. Both are calculated and are within the spectra."
   ]
  },
  {
   "cell_type": "markdown",
   "id": "ea957c65",
   "metadata": {},
   "source": [
    "> ##### resA core MO - Sulfur from Methionine"
   ]
  },
  {
   "cell_type": "code",
   "execution_count": 4,
   "id": "9e3ed4c8",
   "metadata": {},
   "outputs": [],
   "source": [
    "relpath = \"xray_pipeline_results/\"\n",
    "resa_A = \"resA_MOcore_\"\n",
    "post = \".csv\""
   ]
  },
  {
   "cell_type": "code",
   "execution_count": 5,
   "id": "298fd148",
   "metadata": {},
   "outputs": [],
   "source": [
    "dict_suf = {\"RWG4MG3_rocisdft_1-30\": 101, \\\n",
    "            \"RWG4MG3_rocisdft_31-200\": 102, \\\n",
    "            \"RWG4MG3_rocisdft_201-340\": 103, \\\n",
    "            \"RWG4MG3_rocisdft_341-780\": 104}"
   ]
  },
  {
   "cell_type": "code",
   "execution_count": 6,
   "id": "a73f5409",
   "metadata": {},
   "outputs": [],
   "source": [
    "for ii in dict_suf:\n",
    "    ii,str(dict_suf[ii])"
   ]
  },
  {
   "cell_type": "code",
   "execution_count": 7,
   "id": "96c4b203",
   "metadata": {},
   "outputs": [],
   "source": [
    "for ii in dict_suf:\n",
    "    globals()['resa_mocore_%s_raw' % str(dict_suf[ii])] = \\\n",
    "    pd.read_csv(relpath+resa_A+ii+post, delimiter=',', index_col='num-1')"
   ]
  },
  {
   "cell_type": "code",
   "execution_count": 8,
   "id": "274b41e8-08e9-4041-be5c-42627e8ec476",
   "metadata": {},
   "outputs": [
    {
     "data": {
      "text/html": [
       "<div>\n",
       "<style scoped>\n",
       "    .dataframe tbody tr th:only-of-type {\n",
       "        vertical-align: middle;\n",
       "    }\n",
       "\n",
       "    .dataframe tbody tr th {\n",
       "        vertical-align: top;\n",
       "    }\n",
       "\n",
       "    .dataframe thead th {\n",
       "        text-align: right;\n",
       "    }\n",
       "</style>\n",
       "<table border=\"1\" class=\"dataframe\">\n",
       "  <thead>\n",
       "    <tr style=\"text-align: right;\">\n",
       "      <th></th>\n",
       "      <th>sym</th>\n",
       "      <th>lvl</th>\n",
       "      <th>63</th>\n",
       "      <th>64</th>\n",
       "      <th>65</th>\n",
       "    </tr>\n",
       "    <tr>\n",
       "      <th>num-1</th>\n",
       "      <th></th>\n",
       "      <th></th>\n",
       "      <th></th>\n",
       "      <th></th>\n",
       "      <th></th>\n",
       "    </tr>\n",
       "  </thead>\n",
       "  <tbody>\n",
       "    <tr>\n",
       "      <th>87</th>\n",
       "      <td>S</td>\n",
       "      <td>p</td>\n",
       "      <td>49.3</td>\n",
       "      <td>50.3</td>\n",
       "      <td>0.4</td>\n",
       "    </tr>\n",
       "  </tbody>\n",
       "</table>\n",
       "</div>"
      ],
      "text/plain": [
       "      sym lvl    63    64   65\n",
       "num-1                         \n",
       "87      S   p  49.3  50.3  0.4"
      ]
     },
     "execution_count": 8,
     "metadata": {},
     "output_type": "execute_result"
    }
   ],
   "source": [
    "resa_mocore_101_raw"
   ]
  },
  {
   "cell_type": "markdown",
   "id": "e3291c74",
   "metadata": {},
   "source": [
    "> ##### resB virt MO - RWG4MG3"
   ]
  },
  {
   "cell_type": "code",
   "execution_count": 9,
   "id": "2b7db49b",
   "metadata": {},
   "outputs": [],
   "source": [
    "resb_B = \"resB_MOvirt_\""
   ]
  },
  {
   "cell_type": "code",
   "execution_count": 10,
   "id": "7f2025a2",
   "metadata": {},
   "outputs": [],
   "source": [
    "for ii in dict_suf:\n",
    "    globals()['resb_movirt_%s_raw' % str(dict_suf[ii])] = \\\n",
    "    pd.read_csv(relpath+resb_B+ii+post, delimiter=',', index_col='num-1')"
   ]
  },
  {
   "cell_type": "code",
   "execution_count": 11,
   "id": "be09891b-a479-4403-ae94-1a8d9af829ed",
   "metadata": {},
   "outputs": [
    {
     "data": {
      "text/html": [
       "<div>\n",
       "<style scoped>\n",
       "    .dataframe tbody tr th:only-of-type {\n",
       "        vertical-align: middle;\n",
       "    }\n",
       "\n",
       "    .dataframe tbody tr th {\n",
       "        vertical-align: top;\n",
       "    }\n",
       "\n",
       "    .dataframe thead th {\n",
       "        text-align: right;\n",
       "    }\n",
       "</style>\n",
       "<table border=\"1\" class=\"dataframe\">\n",
       "  <thead>\n",
       "    <tr style=\"text-align: right;\">\n",
       "      <th></th>\n",
       "      <th>sym</th>\n",
       "      <th>lvl</th>\n",
       "      <th>236</th>\n",
       "      <th>237</th>\n",
       "      <th>238</th>\n",
       "      <th>239</th>\n",
       "      <th>240</th>\n",
       "      <th>241</th>\n",
       "      <th>242</th>\n",
       "      <th>243</th>\n",
       "      <th>...</th>\n",
       "      <th>250</th>\n",
       "      <th>251</th>\n",
       "      <th>252</th>\n",
       "      <th>254</th>\n",
       "      <th>255</th>\n",
       "      <th>256</th>\n",
       "      <th>258</th>\n",
       "      <th>260</th>\n",
       "      <th>265</th>\n",
       "      <th>266</th>\n",
       "    </tr>\n",
       "    <tr>\n",
       "      <th>num-1</th>\n",
       "      <th></th>\n",
       "      <th></th>\n",
       "      <th></th>\n",
       "      <th></th>\n",
       "      <th></th>\n",
       "      <th></th>\n",
       "      <th></th>\n",
       "      <th></th>\n",
       "      <th></th>\n",
       "      <th></th>\n",
       "      <th></th>\n",
       "      <th></th>\n",
       "      <th></th>\n",
       "      <th></th>\n",
       "      <th></th>\n",
       "      <th></th>\n",
       "      <th></th>\n",
       "      <th></th>\n",
       "      <th></th>\n",
       "      <th></th>\n",
       "      <th></th>\n",
       "    </tr>\n",
       "  </thead>\n",
       "  <tbody>\n",
       "    <tr>\n",
       "      <th>0</th>\n",
       "      <td>atom</td>\n",
       "      <td>lvlMO</td>\n",
       "      <td>0.0</td>\n",
       "      <td>0.0</td>\n",
       "      <td>0.0</td>\n",
       "      <td>0.0</td>\n",
       "      <td>0.0</td>\n",
       "      <td>0.0</td>\n",
       "      <td>0.7</td>\n",
       "      <td>0.1</td>\n",
       "      <td>...</td>\n",
       "      <td>0.0</td>\n",
       "      <td>0.1</td>\n",
       "      <td>0.3</td>\n",
       "      <td>0.6</td>\n",
       "      <td>0.5</td>\n",
       "      <td>0.4</td>\n",
       "      <td>0.0</td>\n",
       "      <td>0.0</td>\n",
       "      <td>0.5</td>\n",
       "      <td>1.5</td>\n",
       "    </tr>\n",
       "    <tr>\n",
       "      <th>1</th>\n",
       "      <td>atom</td>\n",
       "      <td>lvlMO</td>\n",
       "      <td>0.0</td>\n",
       "      <td>0.0</td>\n",
       "      <td>0.0</td>\n",
       "      <td>0.0</td>\n",
       "      <td>0.0</td>\n",
       "      <td>0.0</td>\n",
       "      <td>0.4</td>\n",
       "      <td>0.0</td>\n",
       "      <td>...</td>\n",
       "      <td>0.0</td>\n",
       "      <td>0.3</td>\n",
       "      <td>1.0</td>\n",
       "      <td>2.3</td>\n",
       "      <td>1.3</td>\n",
       "      <td>0.8</td>\n",
       "      <td>0.0</td>\n",
       "      <td>0.0</td>\n",
       "      <td>1.0</td>\n",
       "      <td>4.4</td>\n",
       "    </tr>\n",
       "    <tr>\n",
       "      <th>2</th>\n",
       "      <td>atom</td>\n",
       "      <td>lvlMO</td>\n",
       "      <td>0.0</td>\n",
       "      <td>0.0</td>\n",
       "      <td>0.0</td>\n",
       "      <td>0.0</td>\n",
       "      <td>0.0</td>\n",
       "      <td>0.0</td>\n",
       "      <td>0.1</td>\n",
       "      <td>0.0</td>\n",
       "      <td>...</td>\n",
       "      <td>0.0</td>\n",
       "      <td>0.0</td>\n",
       "      <td>0.1</td>\n",
       "      <td>0.7</td>\n",
       "      <td>1.2</td>\n",
       "      <td>0.9</td>\n",
       "      <td>0.0</td>\n",
       "      <td>0.0</td>\n",
       "      <td>1.6</td>\n",
       "      <td>3.4</td>\n",
       "    </tr>\n",
       "    <tr>\n",
       "      <th>3</th>\n",
       "      <td>atom</td>\n",
       "      <td>lvlMO</td>\n",
       "      <td>0.0</td>\n",
       "      <td>0.0</td>\n",
       "      <td>0.0</td>\n",
       "      <td>0.0</td>\n",
       "      <td>0.0</td>\n",
       "      <td>0.0</td>\n",
       "      <td>1.3</td>\n",
       "      <td>0.0</td>\n",
       "      <td>...</td>\n",
       "      <td>0.0</td>\n",
       "      <td>0.2</td>\n",
       "      <td>2.8</td>\n",
       "      <td>1.3</td>\n",
       "      <td>0.3</td>\n",
       "      <td>0.3</td>\n",
       "      <td>0.3</td>\n",
       "      <td>0.2</td>\n",
       "      <td>0.8</td>\n",
       "      <td>1.0</td>\n",
       "    </tr>\n",
       "    <tr>\n",
       "      <th>4</th>\n",
       "      <td>atom</td>\n",
       "      <td>lvlMO</td>\n",
       "      <td>0.0</td>\n",
       "      <td>0.0</td>\n",
       "      <td>0.0</td>\n",
       "      <td>0.0</td>\n",
       "      <td>0.0</td>\n",
       "      <td>0.1</td>\n",
       "      <td>0.2</td>\n",
       "      <td>0.1</td>\n",
       "      <td>...</td>\n",
       "      <td>0.0</td>\n",
       "      <td>0.2</td>\n",
       "      <td>5.9</td>\n",
       "      <td>2.6</td>\n",
       "      <td>0.0</td>\n",
       "      <td>0.2</td>\n",
       "      <td>0.4</td>\n",
       "      <td>0.2</td>\n",
       "      <td>1.3</td>\n",
       "      <td>1.3</td>\n",
       "    </tr>\n",
       "    <tr>\n",
       "      <th>...</th>\n",
       "      <td>...</td>\n",
       "      <td>...</td>\n",
       "      <td>...</td>\n",
       "      <td>...</td>\n",
       "      <td>...</td>\n",
       "      <td>...</td>\n",
       "      <td>...</td>\n",
       "      <td>...</td>\n",
       "      <td>...</td>\n",
       "      <td>...</td>\n",
       "      <td>...</td>\n",
       "      <td>...</td>\n",
       "      <td>...</td>\n",
       "      <td>...</td>\n",
       "      <td>...</td>\n",
       "      <td>...</td>\n",
       "      <td>...</td>\n",
       "      <td>...</td>\n",
       "      <td>...</td>\n",
       "      <td>...</td>\n",
       "      <td>...</td>\n",
       "    </tr>\n",
       "    <tr>\n",
       "      <th>112</th>\n",
       "      <td>atom</td>\n",
       "      <td>lvlMO</td>\n",
       "      <td>0.0</td>\n",
       "      <td>0.1</td>\n",
       "      <td>0.0</td>\n",
       "      <td>0.3</td>\n",
       "      <td>0.6</td>\n",
       "      <td>0.1</td>\n",
       "      <td>0.9</td>\n",
       "      <td>2.0</td>\n",
       "      <td>...</td>\n",
       "      <td>0.1</td>\n",
       "      <td>0.2</td>\n",
       "      <td>2.2</td>\n",
       "      <td>0.4</td>\n",
       "      <td>0.0</td>\n",
       "      <td>0.5</td>\n",
       "      <td>0.2</td>\n",
       "      <td>0.7</td>\n",
       "      <td>0.1</td>\n",
       "      <td>0.0</td>\n",
       "    </tr>\n",
       "    <tr>\n",
       "      <th>113</th>\n",
       "      <td>atom</td>\n",
       "      <td>lvlMO</td>\n",
       "      <td>0.0</td>\n",
       "      <td>0.0</td>\n",
       "      <td>0.2</td>\n",
       "      <td>1.1</td>\n",
       "      <td>0.3</td>\n",
       "      <td>0.7</td>\n",
       "      <td>12.8</td>\n",
       "      <td>13.5</td>\n",
       "      <td>...</td>\n",
       "      <td>0.1</td>\n",
       "      <td>1.3</td>\n",
       "      <td>2.7</td>\n",
       "      <td>0.1</td>\n",
       "      <td>0.5</td>\n",
       "      <td>0.2</td>\n",
       "      <td>0.6</td>\n",
       "      <td>0.5</td>\n",
       "      <td>0.2</td>\n",
       "      <td>0.7</td>\n",
       "    </tr>\n",
       "    <tr>\n",
       "      <th>114</th>\n",
       "      <td>atom</td>\n",
       "      <td>lvlMO</td>\n",
       "      <td>0.0</td>\n",
       "      <td>0.0</td>\n",
       "      <td>0.1</td>\n",
       "      <td>0.5</td>\n",
       "      <td>0.2</td>\n",
       "      <td>0.2</td>\n",
       "      <td>5.6</td>\n",
       "      <td>6.5</td>\n",
       "      <td>...</td>\n",
       "      <td>0.1</td>\n",
       "      <td>0.4</td>\n",
       "      <td>1.6</td>\n",
       "      <td>0.0</td>\n",
       "      <td>0.4</td>\n",
       "      <td>0.6</td>\n",
       "      <td>0.3</td>\n",
       "      <td>0.1</td>\n",
       "      <td>0.1</td>\n",
       "      <td>0.2</td>\n",
       "    </tr>\n",
       "    <tr>\n",
       "      <th>115</th>\n",
       "      <td>atom</td>\n",
       "      <td>lvlMO</td>\n",
       "      <td>0.0</td>\n",
       "      <td>0.0</td>\n",
       "      <td>0.0</td>\n",
       "      <td>0.2</td>\n",
       "      <td>0.0</td>\n",
       "      <td>0.1</td>\n",
       "      <td>2.5</td>\n",
       "      <td>2.4</td>\n",
       "      <td>...</td>\n",
       "      <td>0.0</td>\n",
       "      <td>0.3</td>\n",
       "      <td>0.4</td>\n",
       "      <td>0.1</td>\n",
       "      <td>0.2</td>\n",
       "      <td>0.1</td>\n",
       "      <td>0.1</td>\n",
       "      <td>0.0</td>\n",
       "      <td>0.1</td>\n",
       "      <td>0.1</td>\n",
       "    </tr>\n",
       "    <tr>\n",
       "      <th>116</th>\n",
       "      <td>atom</td>\n",
       "      <td>lvlMO</td>\n",
       "      <td>0.0</td>\n",
       "      <td>0.0</td>\n",
       "      <td>0.0</td>\n",
       "      <td>0.0</td>\n",
       "      <td>0.0</td>\n",
       "      <td>0.0</td>\n",
       "      <td>0.6</td>\n",
       "      <td>0.3</td>\n",
       "      <td>...</td>\n",
       "      <td>0.0</td>\n",
       "      <td>0.4</td>\n",
       "      <td>0.4</td>\n",
       "      <td>0.3</td>\n",
       "      <td>0.6</td>\n",
       "      <td>0.3</td>\n",
       "      <td>0.1</td>\n",
       "      <td>0.1</td>\n",
       "      <td>0.1</td>\n",
       "      <td>0.0</td>\n",
       "    </tr>\n",
       "  </tbody>\n",
       "</table>\n",
       "<p>117 rows × 26 columns</p>\n",
       "</div>"
      ],
      "text/plain": [
       "        sym    lvl  236  237  238  239  240  241   242   243  ...  250  251  \\\n",
       "num-1                                                         ...             \n",
       "0      atom  lvlMO  0.0  0.0  0.0  0.0  0.0  0.0   0.7   0.1  ...  0.0  0.1   \n",
       "1      atom  lvlMO  0.0  0.0  0.0  0.0  0.0  0.0   0.4   0.0  ...  0.0  0.3   \n",
       "2      atom  lvlMO  0.0  0.0  0.0  0.0  0.0  0.0   0.1   0.0  ...  0.0  0.0   \n",
       "3      atom  lvlMO  0.0  0.0  0.0  0.0  0.0  0.0   1.3   0.0  ...  0.0  0.2   \n",
       "4      atom  lvlMO  0.0  0.0  0.0  0.0  0.0  0.1   0.2   0.1  ...  0.0  0.2   \n",
       "...     ...    ...  ...  ...  ...  ...  ...  ...   ...   ...  ...  ...  ...   \n",
       "112    atom  lvlMO  0.0  0.1  0.0  0.3  0.6  0.1   0.9   2.0  ...  0.1  0.2   \n",
       "113    atom  lvlMO  0.0  0.0  0.2  1.1  0.3  0.7  12.8  13.5  ...  0.1  1.3   \n",
       "114    atom  lvlMO  0.0  0.0  0.1  0.5  0.2  0.2   5.6   6.5  ...  0.1  0.4   \n",
       "115    atom  lvlMO  0.0  0.0  0.0  0.2  0.0  0.1   2.5   2.4  ...  0.0  0.3   \n",
       "116    atom  lvlMO  0.0  0.0  0.0  0.0  0.0  0.0   0.6   0.3  ...  0.0  0.4   \n",
       "\n",
       "       252  254  255  256  258  260  265  266  \n",
       "num-1                                          \n",
       "0      0.3  0.6  0.5  0.4  0.0  0.0  0.5  1.5  \n",
       "1      1.0  2.3  1.3  0.8  0.0  0.0  1.0  4.4  \n",
       "2      0.1  0.7  1.2  0.9  0.0  0.0  1.6  3.4  \n",
       "3      2.8  1.3  0.3  0.3  0.3  0.2  0.8  1.0  \n",
       "4      5.9  2.6  0.0  0.2  0.4  0.2  1.3  1.3  \n",
       "...    ...  ...  ...  ...  ...  ...  ...  ...  \n",
       "112    2.2  0.4  0.0  0.5  0.2  0.7  0.1  0.0  \n",
       "113    2.7  0.1  0.5  0.2  0.6  0.5  0.2  0.7  \n",
       "114    1.6  0.0  0.4  0.6  0.3  0.1  0.1  0.2  \n",
       "115    0.4  0.1  0.2  0.1  0.1  0.0  0.1  0.1  \n",
       "116    0.4  0.3  0.6  0.3  0.1  0.1  0.1  0.0  \n",
       "\n",
       "[117 rows x 26 columns]"
      ]
     },
     "execution_count": 11,
     "metadata": {},
     "output_type": "execute_result"
    }
   ],
   "source": [
    "resb_movirt_101_raw"
   ]
  },
  {
   "cell_type": "markdown",
   "id": "53de336a",
   "metadata": {},
   "source": [
    "<html>\n",
    "\n",
    "\n",
    "<body>\n",
    "<h1 id=\"title\">Features from  X-ray excited-state properties: </h1>\n",
    "<h2 id=\"title\">1. The number of transitions </h2>\n",
    "<h2 id=\"title\">2. The transitions averaged probability </h2>\n",
    "<h2 id=\"title\">3. The oscillator strength using electronic dipole moment as operator </h2>\n",
    "<h2 id=\"title\">4. The oscillator strength using velocity dipole moment as operator </h2>\n",
    "</body>\n",
    "</html>"
   ]
  },
  {
   "cell_type": "markdown",
   "id": "5d748320",
   "metadata": {},
   "source": [
    "#### coreMO vs. virtual MO (core/virt MO)"
   ]
  },
  {
   "cell_type": "markdown",
   "id": "75e7ab9d",
   "metadata": {},
   "source": [
    "> ### 1. core/virt MO as function of the number of transitions"
   ]
  },
  {
   "cell_type": "markdown",
   "id": "dec16085",
   "metadata": {},
   "source": [
    "#### Low multiplicity"
   ]
  },
  {
   "cell_type": "code",
   "execution_count": 12,
   "id": "a0878a58",
   "metadata": {},
   "outputs": [],
   "source": [
    "resab_AB = \"corevirtMO_matrix0_\"\n",
    "for ii in dict_suf:\n",
    "    globals()['corevirtMO_matrix0_%s_raw' % str(dict_suf[ii])] = \\\n",
    "    pd.read_csv(relpath+resab_AB+ii+post, delimiter=',', index_col='virt\\core')"
   ]
  },
  {
   "cell_type": "code",
   "execution_count": 13,
   "id": "5696282f-eb39-4361-881b-d3e96f32484b",
   "metadata": {},
   "outputs": [
    {
     "data": {
      "text/html": [
       "<div>\n",
       "<style scoped>\n",
       "    .dataframe tbody tr th:only-of-type {\n",
       "        vertical-align: middle;\n",
       "    }\n",
       "\n",
       "    .dataframe tbody tr th {\n",
       "        vertical-align: top;\n",
       "    }\n",
       "\n",
       "    .dataframe thead th {\n",
       "        text-align: right;\n",
       "    }\n",
       "</style>\n",
       "<table border=\"1\" class=\"dataframe\">\n",
       "  <thead>\n",
       "    <tr style=\"text-align: right;\">\n",
       "      <th></th>\n",
       "      <th>63</th>\n",
       "      <th>64</th>\n",
       "      <th>65</th>\n",
       "    </tr>\n",
       "    <tr>\n",
       "      <th>virt\\core</th>\n",
       "      <th></th>\n",
       "      <th></th>\n",
       "      <th></th>\n",
       "    </tr>\n",
       "  </thead>\n",
       "  <tbody>\n",
       "    <tr>\n",
       "      <th>236</th>\n",
       "      <td>7</td>\n",
       "      <td>12</td>\n",
       "      <td>5</td>\n",
       "    </tr>\n",
       "    <tr>\n",
       "      <th>237</th>\n",
       "      <td>7</td>\n",
       "      <td>12</td>\n",
       "      <td>5</td>\n",
       "    </tr>\n",
       "    <tr>\n",
       "      <th>238</th>\n",
       "      <td>9</td>\n",
       "      <td>12</td>\n",
       "      <td>7</td>\n",
       "    </tr>\n",
       "    <tr>\n",
       "      <th>239</th>\n",
       "      <td>7</td>\n",
       "      <td>12</td>\n",
       "      <td>7</td>\n",
       "    </tr>\n",
       "    <tr>\n",
       "      <th>240</th>\n",
       "      <td>2</td>\n",
       "      <td>3</td>\n",
       "      <td>1</td>\n",
       "    </tr>\n",
       "  </tbody>\n",
       "</table>\n",
       "</div>"
      ],
      "text/plain": [
       "           63  64  65\n",
       "virt\\core            \n",
       "236         7  12   5\n",
       "237         7  12   5\n",
       "238         9  12   7\n",
       "239         7  12   7\n",
       "240         2   3   1"
      ]
     },
     "execution_count": 13,
     "metadata": {},
     "output_type": "execute_result"
    }
   ],
   "source": [
    "corevirtMO_matrix0_101_raw.head()"
   ]
  },
  {
   "cell_type": "markdown",
   "id": "dd34ef1a",
   "metadata": {},
   "source": [
    "#### High multiplicity"
   ]
  },
  {
   "cell_type": "code",
   "execution_count": 14,
   "id": "ffa9cfc9",
   "metadata": {},
   "outputs": [],
   "source": [
    "resab_AB = \"corevirtMO_matrix1_\"\n",
    "for ii in dict_suf:\n",
    "    globals()['corevirtMO_matrix1_%s_raw' % str(dict_suf[ii])] = \\\n",
    "    pd.read_csv(relpath+resab_AB+ii+post, delimiter=',', index_col='virt\\core')"
   ]
  },
  {
   "cell_type": "code",
   "execution_count": 15,
   "id": "641bc8ba",
   "metadata": {},
   "outputs": [
    {
     "data": {
      "text/html": [
       "<div>\n",
       "<style scoped>\n",
       "    .dataframe tbody tr th:only-of-type {\n",
       "        vertical-align: middle;\n",
       "    }\n",
       "\n",
       "    .dataframe tbody tr th {\n",
       "        vertical-align: top;\n",
       "    }\n",
       "\n",
       "    .dataframe thead th {\n",
       "        text-align: right;\n",
       "    }\n",
       "</style>\n",
       "<table border=\"1\" class=\"dataframe\">\n",
       "  <thead>\n",
       "    <tr style=\"text-align: right;\">\n",
       "      <th></th>\n",
       "      <th>63</th>\n",
       "      <th>64</th>\n",
       "      <th>65</th>\n",
       "    </tr>\n",
       "    <tr>\n",
       "      <th>virt\\core</th>\n",
       "      <th></th>\n",
       "      <th></th>\n",
       "      <th></th>\n",
       "    </tr>\n",
       "  </thead>\n",
       "  <tbody>\n",
       "    <tr>\n",
       "      <th>236</th>\n",
       "      <td>22</td>\n",
       "      <td>20</td>\n",
       "      <td>21</td>\n",
       "    </tr>\n",
       "    <tr>\n",
       "      <th>237</th>\n",
       "      <td>16</td>\n",
       "      <td>16</td>\n",
       "      <td>10</td>\n",
       "    </tr>\n",
       "    <tr>\n",
       "      <th>238</th>\n",
       "      <td>25</td>\n",
       "      <td>26</td>\n",
       "      <td>18</td>\n",
       "    </tr>\n",
       "    <tr>\n",
       "      <th>239</th>\n",
       "      <td>25</td>\n",
       "      <td>26</td>\n",
       "      <td>18</td>\n",
       "    </tr>\n",
       "    <tr>\n",
       "      <th>240</th>\n",
       "      <td>3</td>\n",
       "      <td>6</td>\n",
       "      <td>5</td>\n",
       "    </tr>\n",
       "  </tbody>\n",
       "</table>\n",
       "</div>"
      ],
      "text/plain": [
       "           63  64  65\n",
       "virt\\core            \n",
       "236        22  20  21\n",
       "237        16  16  10\n",
       "238        25  26  18\n",
       "239        25  26  18\n",
       "240         3   6   5"
      ]
     },
     "execution_count": 15,
     "metadata": {},
     "output_type": "execute_result"
    }
   ],
   "source": [
    "corevirtMO_matrix1_101_raw.head()"
   ]
  },
  {
   "cell_type": "markdown",
   "id": "dc469a40",
   "metadata": {},
   "source": [
    "> ### 2. core/virt MO as function of the number of transitions averaged probability"
   ]
  },
  {
   "cell_type": "markdown",
   "id": "d3eac5e4",
   "metadata": {},
   "source": [
    "#### Low multiplicity"
   ]
  },
  {
   "cell_type": "code",
   "execution_count": 16,
   "id": "4e558aec",
   "metadata": {},
   "outputs": [],
   "source": [
    "resab_ts_AB = \"corevirtMO_matrix0_tspb_\"\n",
    "for ii in dict_suf:\n",
    "    globals()['corevirtMO_matrix0_tspb_%s_raw' % str(dict_suf[ii])] = \\\n",
    "    pd.read_csv(relpath+resab_ts_AB+ii+post, delimiter=',', index_col='virt\\core')"
   ]
  },
  {
   "cell_type": "code",
   "execution_count": 17,
   "id": "f8250a33-0045-4ccd-971e-a4b6560baf53",
   "metadata": {},
   "outputs": [
    {
     "data": {
      "text/html": [
       "<div>\n",
       "<style scoped>\n",
       "    .dataframe tbody tr th:only-of-type {\n",
       "        vertical-align: middle;\n",
       "    }\n",
       "\n",
       "    .dataframe tbody tr th {\n",
       "        vertical-align: top;\n",
       "    }\n",
       "\n",
       "    .dataframe thead th {\n",
       "        text-align: right;\n",
       "    }\n",
       "</style>\n",
       "<table border=\"1\" class=\"dataframe\">\n",
       "  <thead>\n",
       "    <tr style=\"text-align: right;\">\n",
       "      <th></th>\n",
       "      <th>63</th>\n",
       "      <th>64</th>\n",
       "      <th>65</th>\n",
       "    </tr>\n",
       "    <tr>\n",
       "      <th>virt\\core</th>\n",
       "      <th></th>\n",
       "      <th></th>\n",
       "      <th></th>\n",
       "    </tr>\n",
       "  </thead>\n",
       "  <tbody>\n",
       "    <tr>\n",
       "      <th>236</th>\n",
       "      <td>0.111988</td>\n",
       "      <td>0.075929</td>\n",
       "      <td>0.186300</td>\n",
       "    </tr>\n",
       "    <tr>\n",
       "      <th>237</th>\n",
       "      <td>0.059730</td>\n",
       "      <td>0.048553</td>\n",
       "      <td>0.077644</td>\n",
       "    </tr>\n",
       "    <tr>\n",
       "      <th>238</th>\n",
       "      <td>0.065450</td>\n",
       "      <td>0.046779</td>\n",
       "      <td>0.116554</td>\n",
       "    </tr>\n",
       "    <tr>\n",
       "      <th>239</th>\n",
       "      <td>0.060736</td>\n",
       "      <td>0.042883</td>\n",
       "      <td>0.083159</td>\n",
       "    </tr>\n",
       "    <tr>\n",
       "      <th>240</th>\n",
       "      <td>0.003264</td>\n",
       "      <td>0.013392</td>\n",
       "      <td>0.098042</td>\n",
       "    </tr>\n",
       "  </tbody>\n",
       "</table>\n",
       "</div>"
      ],
      "text/plain": [
       "                 63        64        65\n",
       "virt\\core                              \n",
       "236        0.111988  0.075929  0.186300\n",
       "237        0.059730  0.048553  0.077644\n",
       "238        0.065450  0.046779  0.116554\n",
       "239        0.060736  0.042883  0.083159\n",
       "240        0.003264  0.013392  0.098042"
      ]
     },
     "execution_count": 17,
     "metadata": {},
     "output_type": "execute_result"
    }
   ],
   "source": [
    "corevirtMO_matrix0_tspb_101_raw.head()"
   ]
  },
  {
   "cell_type": "markdown",
   "id": "d10b2626",
   "metadata": {},
   "source": [
    "#### High multiplicity"
   ]
  },
  {
   "cell_type": "code",
   "execution_count": 18,
   "id": "00660c14",
   "metadata": {},
   "outputs": [],
   "source": [
    "resab_ts_AB = \"corevirtMO_matrix1_tspb_\"\n",
    "for ii in dict_suf:\n",
    "    globals()['corevirtMO_matrix1_tspb_%s_raw' % str(dict_suf[ii])] = \\\n",
    "    pd.read_csv(relpath+resab_ts_AB+ii+post, delimiter=',', index_col='virt\\core')"
   ]
  },
  {
   "cell_type": "code",
   "execution_count": 19,
   "id": "4bdaf989",
   "metadata": {},
   "outputs": [
    {
     "data": {
      "text/html": [
       "<div>\n",
       "<style scoped>\n",
       "    .dataframe tbody tr th:only-of-type {\n",
       "        vertical-align: middle;\n",
       "    }\n",
       "\n",
       "    .dataframe tbody tr th {\n",
       "        vertical-align: top;\n",
       "    }\n",
       "\n",
       "    .dataframe thead th {\n",
       "        text-align: right;\n",
       "    }\n",
       "</style>\n",
       "<table border=\"1\" class=\"dataframe\">\n",
       "  <thead>\n",
       "    <tr style=\"text-align: right;\">\n",
       "      <th></th>\n",
       "      <th>63</th>\n",
       "      <th>64</th>\n",
       "      <th>65</th>\n",
       "    </tr>\n",
       "    <tr>\n",
       "      <th>virt\\core</th>\n",
       "      <th></th>\n",
       "      <th></th>\n",
       "      <th></th>\n",
       "    </tr>\n",
       "  </thead>\n",
       "  <tbody>\n",
       "    <tr>\n",
       "      <th>236</th>\n",
       "      <td>0.133170</td>\n",
       "      <td>0.111909</td>\n",
       "      <td>0.225764</td>\n",
       "    </tr>\n",
       "    <tr>\n",
       "      <th>237</th>\n",
       "      <td>0.065364</td>\n",
       "      <td>0.059728</td>\n",
       "      <td>0.215543</td>\n",
       "    </tr>\n",
       "    <tr>\n",
       "      <th>238</th>\n",
       "      <td>0.071618</td>\n",
       "      <td>0.053789</td>\n",
       "      <td>0.110375</td>\n",
       "    </tr>\n",
       "    <tr>\n",
       "      <th>239</th>\n",
       "      <td>0.063727</td>\n",
       "      <td>0.048653</td>\n",
       "      <td>0.084986</td>\n",
       "    </tr>\n",
       "    <tr>\n",
       "      <th>240</th>\n",
       "      <td>0.005185</td>\n",
       "      <td>0.020663</td>\n",
       "      <td>0.076672</td>\n",
       "    </tr>\n",
       "  </tbody>\n",
       "</table>\n",
       "</div>"
      ],
      "text/plain": [
       "                 63        64        65\n",
       "virt\\core                              \n",
       "236        0.133170  0.111909  0.225764\n",
       "237        0.065364  0.059728  0.215543\n",
       "238        0.071618  0.053789  0.110375\n",
       "239        0.063727  0.048653  0.084986\n",
       "240        0.005185  0.020663  0.076672"
      ]
     },
     "execution_count": 19,
     "metadata": {},
     "output_type": "execute_result"
    }
   ],
   "source": [
    "corevirtMO_matrix1_tspb_101_raw.head()"
   ]
  },
  {
   "cell_type": "markdown",
   "id": "05bdead1",
   "metadata": {},
   "source": [
    "> ### 3. core/virt MO as function of the oscillator strength including all the corrections in the dipole moment operator: ELECTRIC DIPOLE + MAGNETIC DIPOLE + ELECTRIC QUADRUPOLE"
   ]
  },
  {
   "cell_type": "markdown",
   "id": "6dddf943",
   "metadata": {},
   "source": [
    "#### Low multiplicity"
   ]
  },
  {
   "cell_type": "code",
   "execution_count": 20,
   "id": "b1850d35",
   "metadata": {},
   "outputs": [],
   "source": [
    "resab_fosc_AB = \"corevirt_fosc0_corr_\"\n",
    "for ii in dict_suf:\n",
    "    globals()['corevirt_mo_fosc0_%s_raw' % str(dict_suf[ii])] = \\\n",
    "    pd.read_csv(relpath+resab_fosc_AB+ii+post, delimiter=',', index_col='virt\\core')"
   ]
  },
  {
   "cell_type": "code",
   "execution_count": 21,
   "id": "ace8b257-f172-4d0c-8f8c-35e5531844d6",
   "metadata": {},
   "outputs": [
    {
     "data": {
      "text/html": [
       "<div>\n",
       "<style scoped>\n",
       "    .dataframe tbody tr th:only-of-type {\n",
       "        vertical-align: middle;\n",
       "    }\n",
       "\n",
       "    .dataframe tbody tr th {\n",
       "        vertical-align: top;\n",
       "    }\n",
       "\n",
       "    .dataframe thead th {\n",
       "        text-align: right;\n",
       "    }\n",
       "</style>\n",
       "<table border=\"1\" class=\"dataframe\">\n",
       "  <thead>\n",
       "    <tr style=\"text-align: right;\">\n",
       "      <th></th>\n",
       "      <th>63</th>\n",
       "      <th>64</th>\n",
       "      <th>65</th>\n",
       "    </tr>\n",
       "    <tr>\n",
       "      <th>virt\\core</th>\n",
       "      <th></th>\n",
       "      <th></th>\n",
       "      <th></th>\n",
       "    </tr>\n",
       "  </thead>\n",
       "  <tbody>\n",
       "    <tr>\n",
       "      <th>236</th>\n",
       "      <td>1.378310e-06</td>\n",
       "      <td>0.000524</td>\n",
       "      <td>0.000327</td>\n",
       "    </tr>\n",
       "    <tr>\n",
       "      <th>237</th>\n",
       "      <td>2.840720e-07</td>\n",
       "      <td>0.000215</td>\n",
       "      <td>0.000106</td>\n",
       "    </tr>\n",
       "    <tr>\n",
       "      <th>238</th>\n",
       "      <td>1.268640e-04</td>\n",
       "      <td>0.000112</td>\n",
       "      <td>0.000123</td>\n",
       "    </tr>\n",
       "    <tr>\n",
       "      <th>239</th>\n",
       "      <td>2.038030e-04</td>\n",
       "      <td>0.000100</td>\n",
       "      <td>0.000067</td>\n",
       "    </tr>\n",
       "    <tr>\n",
       "      <th>240</th>\n",
       "      <td>3.824570e-07</td>\n",
       "      <td>0.000011</td>\n",
       "      <td>0.000037</td>\n",
       "    </tr>\n",
       "  </tbody>\n",
       "</table>\n",
       "</div>"
      ],
      "text/plain": [
       "                     63        64        65\n",
       "virt\\core                                  \n",
       "236        1.378310e-06  0.000524  0.000327\n",
       "237        2.840720e-07  0.000215  0.000106\n",
       "238        1.268640e-04  0.000112  0.000123\n",
       "239        2.038030e-04  0.000100  0.000067\n",
       "240        3.824570e-07  0.000011  0.000037"
      ]
     },
     "execution_count": 21,
     "metadata": {},
     "output_type": "execute_result"
    }
   ],
   "source": [
    "corevirt_mo_fosc0_101_raw.head()"
   ]
  },
  {
   "cell_type": "markdown",
   "id": "17cff7d7",
   "metadata": {},
   "source": [
    "#### High multiplicity"
   ]
  },
  {
   "cell_type": "code",
   "execution_count": 22,
   "id": "799fdf9f",
   "metadata": {},
   "outputs": [],
   "source": [
    "resab_fosc_AB = \"corevirt_fosc1_corr_\"\n",
    "for ii in dict_suf:\n",
    "    globals()['corevirt_mo_fosc1_%s_raw' % str(dict_suf[ii])] = \\\n",
    "    pd.read_csv(relpath+resab_fosc_AB+ii+post, delimiter=',', index_col='virt\\core')"
   ]
  },
  {
   "cell_type": "code",
   "execution_count": 23,
   "id": "2fe4cc7c",
   "metadata": {},
   "outputs": [
    {
     "data": {
      "text/html": [
       "<div>\n",
       "<style scoped>\n",
       "    .dataframe tbody tr th:only-of-type {\n",
       "        vertical-align: middle;\n",
       "    }\n",
       "\n",
       "    .dataframe tbody tr th {\n",
       "        vertical-align: top;\n",
       "    }\n",
       "\n",
       "    .dataframe thead th {\n",
       "        text-align: right;\n",
       "    }\n",
       "</style>\n",
       "<table border=\"1\" class=\"dataframe\">\n",
       "  <thead>\n",
       "    <tr style=\"text-align: right;\">\n",
       "      <th></th>\n",
       "      <th>63</th>\n",
       "      <th>64</th>\n",
       "      <th>65</th>\n",
       "    </tr>\n",
       "    <tr>\n",
       "      <th>virt\\core</th>\n",
       "      <th></th>\n",
       "      <th></th>\n",
       "      <th></th>\n",
       "    </tr>\n",
       "  </thead>\n",
       "  <tbody>\n",
       "    <tr>\n",
       "      <th>236</th>\n",
       "      <td>4.200900e-05</td>\n",
       "      <td>0.000443</td>\n",
       "      <td>1.004140e-06</td>\n",
       "    </tr>\n",
       "    <tr>\n",
       "      <th>237</th>\n",
       "      <td>7.483790e-05</td>\n",
       "      <td>0.000173</td>\n",
       "      <td>1.853040e-07</td>\n",
       "    </tr>\n",
       "    <tr>\n",
       "      <th>238</th>\n",
       "      <td>7.462600e-05</td>\n",
       "      <td>0.000183</td>\n",
       "      <td>1.336810e-07</td>\n",
       "    </tr>\n",
       "    <tr>\n",
       "      <th>239</th>\n",
       "      <td>6.828350e-05</td>\n",
       "      <td>0.000168</td>\n",
       "      <td>1.208510e-07</td>\n",
       "    </tr>\n",
       "    <tr>\n",
       "      <th>240</th>\n",
       "      <td>1.741770e-10</td>\n",
       "      <td>0.000016</td>\n",
       "      <td>1.991260e-09</td>\n",
       "    </tr>\n",
       "  </tbody>\n",
       "</table>\n",
       "</div>"
      ],
      "text/plain": [
       "                     63        64            65\n",
       "virt\\core                                      \n",
       "236        4.200900e-05  0.000443  1.004140e-06\n",
       "237        7.483790e-05  0.000173  1.853040e-07\n",
       "238        7.462600e-05  0.000183  1.336810e-07\n",
       "239        6.828350e-05  0.000168  1.208510e-07\n",
       "240        1.741770e-10  0.000016  1.991260e-09"
      ]
     },
     "execution_count": 23,
     "metadata": {},
     "output_type": "execute_result"
    }
   ],
   "source": [
    "corevirt_mo_fosc1_101_raw.head()"
   ]
  },
  {
   "cell_type": "markdown",
   "id": "9f45e239",
   "metadata": {},
   "source": [
    "> ### 4. core/virt MO as function of the oscillator strength including all the corrections in the dipole moment operator: ELECTRIC DIPOLE + MAGNETIC DIPOLE + ELECTRIC QUADRUPOLE\n",
    "> #### by weighted average (WAM)"
   ]
  },
  {
   "cell_type": "markdown",
   "id": "1e46e09e",
   "metadata": {},
   "source": [
    "#### Low multiplicity"
   ]
  },
  {
   "cell_type": "code",
   "execution_count": 24,
   "id": "4111b43a",
   "metadata": {},
   "outputs": [],
   "source": [
    "resab_foscw_AB = \"corevirt_foscw0_corr_\"\n",
    "for ii in dict_suf:\n",
    "    globals()['corevirt_mo_foscw0_%s_raw' % str(dict_suf[ii])] = \\\n",
    "    pd.read_csv(relpath+resab_foscw_AB+ii+post, delimiter=',', index_col='virt\\core')"
   ]
  },
  {
   "cell_type": "code",
   "execution_count": 25,
   "id": "203289ed-6046-442e-aec9-b9cc668f1b60",
   "metadata": {},
   "outputs": [
    {
     "data": {
      "text/html": [
       "<div>\n",
       "<style scoped>\n",
       "    .dataframe tbody tr th:only-of-type {\n",
       "        vertical-align: middle;\n",
       "    }\n",
       "\n",
       "    .dataframe tbody tr th {\n",
       "        vertical-align: top;\n",
       "    }\n",
       "\n",
       "    .dataframe thead th {\n",
       "        text-align: right;\n",
       "    }\n",
       "</style>\n",
       "<table border=\"1\" class=\"dataframe\">\n",
       "  <thead>\n",
       "    <tr style=\"text-align: right;\">\n",
       "      <th></th>\n",
       "      <th>63</th>\n",
       "      <th>64</th>\n",
       "      <th>65</th>\n",
       "    </tr>\n",
       "    <tr>\n",
       "      <th>virt\\core</th>\n",
       "      <th></th>\n",
       "      <th></th>\n",
       "      <th></th>\n",
       "    </tr>\n",
       "  </thead>\n",
       "  <tbody>\n",
       "    <tr>\n",
       "      <th>236</th>\n",
       "      <td>0.000004</td>\n",
       "      <td>0.001282</td>\n",
       "      <td>0.000505</td>\n",
       "    </tr>\n",
       "    <tr>\n",
       "      <th>237</th>\n",
       "      <td>0.000002</td>\n",
       "      <td>0.000787</td>\n",
       "      <td>0.000421</td>\n",
       "    </tr>\n",
       "    <tr>\n",
       "      <th>238</th>\n",
       "      <td>0.000643</td>\n",
       "      <td>0.000459</td>\n",
       "      <td>0.000315</td>\n",
       "    </tr>\n",
       "    <tr>\n",
       "      <th>239</th>\n",
       "      <td>0.001157</td>\n",
       "      <td>0.000472</td>\n",
       "      <td>0.000270</td>\n",
       "    </tr>\n",
       "    <tr>\n",
       "      <th>240</th>\n",
       "      <td>0.000060</td>\n",
       "      <td>0.000360</td>\n",
       "      <td>0.000380</td>\n",
       "    </tr>\n",
       "  </tbody>\n",
       "</table>\n",
       "</div>"
      ],
      "text/plain": [
       "                 63        64        65\n",
       "virt\\core                              \n",
       "236        0.000004  0.001282  0.000505\n",
       "237        0.000002  0.000787  0.000421\n",
       "238        0.000643  0.000459  0.000315\n",
       "239        0.001157  0.000472  0.000270\n",
       "240        0.000060  0.000360  0.000380"
      ]
     },
     "execution_count": 25,
     "metadata": {},
     "output_type": "execute_result"
    }
   ],
   "source": [
    "corevirt_mo_foscw0_101_raw.head()"
   ]
  },
  {
   "cell_type": "markdown",
   "id": "c265169d",
   "metadata": {},
   "source": [
    "#### High multiplicity"
   ]
  },
  {
   "cell_type": "code",
   "execution_count": 26,
   "id": "463c587b",
   "metadata": {},
   "outputs": [],
   "source": [
    "resab_foscw_AB = \"corevirt_foscw1_corr_\"\n",
    "for ii in dict_suf:\n",
    "    globals()['corevirt_mo_foscw1_%s_raw' % str(dict_suf[ii])] = \\\n",
    "    pd.read_csv(relpath+resab_foscw_AB+ii+post, delimiter=',', index_col='virt\\core')"
   ]
  },
  {
   "cell_type": "code",
   "execution_count": 27,
   "id": "5dac6198",
   "metadata": {},
   "outputs": [
    {
     "data": {
      "text/html": [
       "<div>\n",
       "<style scoped>\n",
       "    .dataframe tbody tr th:only-of-type {\n",
       "        vertical-align: middle;\n",
       "    }\n",
       "\n",
       "    .dataframe tbody tr th {\n",
       "        vertical-align: top;\n",
       "    }\n",
       "\n",
       "    .dataframe thead th {\n",
       "        text-align: right;\n",
       "    }\n",
       "</style>\n",
       "<table border=\"1\" class=\"dataframe\">\n",
       "  <thead>\n",
       "    <tr style=\"text-align: right;\">\n",
       "      <th></th>\n",
       "      <th>63</th>\n",
       "      <th>64</th>\n",
       "      <th>65</th>\n",
       "    </tr>\n",
       "    <tr>\n",
       "      <th>virt\\core</th>\n",
       "      <th></th>\n",
       "      <th></th>\n",
       "      <th></th>\n",
       "    </tr>\n",
       "  </thead>\n",
       "  <tbody>\n",
       "    <tr>\n",
       "      <th>236</th>\n",
       "      <td>4.787690e-05</td>\n",
       "      <td>0.000364</td>\n",
       "      <td>5.238240e-07</td>\n",
       "    </tr>\n",
       "    <tr>\n",
       "      <th>237</th>\n",
       "      <td>1.368650e-04</td>\n",
       "      <td>0.000235</td>\n",
       "      <td>1.353500e-07</td>\n",
       "    </tr>\n",
       "    <tr>\n",
       "      <th>238</th>\n",
       "      <td>1.299360e-04</td>\n",
       "      <td>0.000235</td>\n",
       "      <td>1.188360e-07</td>\n",
       "    </tr>\n",
       "    <tr>\n",
       "      <th>239</th>\n",
       "      <td>1.303760e-04</td>\n",
       "      <td>0.000261</td>\n",
       "      <td>1.463660e-07</td>\n",
       "    </tr>\n",
       "    <tr>\n",
       "      <th>240</th>\n",
       "      <td>1.195570e-08</td>\n",
       "      <td>0.000197</td>\n",
       "      <td>7.087120e-09</td>\n",
       "    </tr>\n",
       "  </tbody>\n",
       "</table>\n",
       "</div>"
      ],
      "text/plain": [
       "                     63        64            65\n",
       "virt\\core                                      \n",
       "236        4.787690e-05  0.000364  5.238240e-07\n",
       "237        1.368650e-04  0.000235  1.353500e-07\n",
       "238        1.299360e-04  0.000235  1.188360e-07\n",
       "239        1.303760e-04  0.000261  1.463660e-07\n",
       "240        1.195570e-08  0.000197  7.087120e-09"
      ]
     },
     "execution_count": 27,
     "metadata": {},
     "output_type": "execute_result"
    }
   ],
   "source": [
    "corevirt_mo_foscw1_101_raw.head()"
   ]
  },
  {
   "cell_type": "markdown",
   "id": "06137417",
   "metadata": {},
   "source": [
    "### Main functions to present data according to the features"
   ]
  },
  {
   "cell_type": "code",
   "execution_count": 28,
   "id": "17ca3585",
   "metadata": {},
   "outputs": [],
   "source": [
    "def selecting_atm_matrix(df, atoms_list):\n",
    "    \"\"\"\n",
    "    it returns MO matrix (df) having just the atoms in atoms_list.\n",
    "    \"\"\"\n",
    "    col_list = df.index.tolist() #listing index (elements from column 0)\n",
    "    #dff = df.loc[:, (df != 0).any(axis=0)] #removing zero columns\n",
    "    return df.loc[[i for i in atoms_list if i in col_list]] #returning just columns in the both lists intersection\n",
    "#atoms_core=resa_mocore_GFG9Y_raw.index.tolist() #all C-core atoms\n",
    "#[i for i in atoms_a if i in atoms_core] #atoms_a intersection atoms_core"
   ]
  },
  {
   "cell_type": "code",
   "execution_count": 29,
   "id": "b4558bec",
   "metadata": {},
   "outputs": [],
   "source": [
    "def nonzero_mo_matrix(df):\n",
    "    \"\"\"\n",
    "    it returns MO matrix (df) having just non-zero MO population.\n",
    "    \"\"\"\n",
    "    return df.loc[:, (df != 0).any(axis=0)] #removing zero columns"
   ]
  },
  {
   "cell_type": "code",
   "execution_count": 30,
   "id": "9b439bab",
   "metadata": {},
   "outputs": [],
   "source": [
    "def crop_by_loewdin_p(df,pop):\n",
    "    \"\"\"\n",
    "    it returns MO matrix (df) having just a Loewdin MO population contribution greater than (100*pop)%.\n",
    "    pop is a number between 0 and 1.\n",
    "    \"\"\"\n",
    "    #cols = [col for col, val in df.sum()[2:].iteritems() if val > (pop*100)]\n",
    "    cols = [col for col, val in df.sum()[2:].items() if val > (pop*100)]\n",
    "    #iteritem() create a zip with the index_col and the values\n",
    "    cols.insert(0,'lvl')\n",
    "    cols.insert(0,'sym')\n",
    "    #to add on the top the first two columns removed in the previous sum() evaluation\n",
    "    return df[cols] #showing the fisrt two columns and those having population greater than pop*100%"
   ]
  },
  {
   "cell_type": "code",
   "execution_count": 31,
   "id": "335af615",
   "metadata": {},
   "outputs": [],
   "source": [
    "def cropping_matrix(df, df1, df2):\n",
    "    \"\"\"\n",
    "    it returns a cropped MO matrix from df using as parameters the indices in df1 and df2.\n",
    "    df1 index are column names from df and df2 index are the rows from df\n",
    "    \"\"\"\n",
    "    try:\n",
    "        dff = df[df1.axes[1][2:].tolist()] #saving specific columns\n",
    "    except KeyError:\n",
    "        tmp_mo = [item for item in df1.axes[1][2:].tolist() if item in df.axes[1][0:].tolist()]\n",
    "        #removing items in the first list that are not in the second one\n",
    "        dff = df[tmp_mo]\n",
    "    try:\n",
    "        return dff.loc[[int(i) for i in df2.axes[1][2:].tolist()]] #returning specific rows\n",
    "    except KeyError:\n",
    "        tmp_mo2 = [item for item in df2.axes[1][2:].tolist() if int(item) in dff.T.axes[1][0:].tolist()]\n",
    "        # dff.T to obtain the index_col as the head row\n",
    "        return dff.loc[[int(i) for i in tmp_mo2]] #returning specific rows\n",
    "# the first two elements in df2.axes[1] and df1.axes[1] are \"sym\" and \"lvl\", that's why I used df.axes[1][2:]"
   ]
  },
  {
   "cell_type": "markdown",
   "id": "3ec4386b",
   "metadata": {},
   "source": [
    "<html>\n",
    "\n",
    "\n",
    "<body>\n",
    "<h3 id=\"title\">Reducing Löwdin Population MO matrices by removing non-contributing MO</h3>\n",
    "<h4> Case for core MO in the resA</h4>\n",
    "</body>\n",
    "</html>"
   ]
  },
  {
   "cell_type": "code",
   "execution_count": 32,
   "id": "179097e6",
   "metadata": {},
   "outputs": [],
   "source": [
    "for ii in dict_suf:\n",
    "    globals()['resa_mocore_%s' % str(dict_suf[ii])] = \\\n",
    "    nonzero_mo_matrix(globals()['resa_mocore_%s_raw' % str(dict_suf[ii])])"
   ]
  },
  {
   "cell_type": "code",
   "execution_count": 33,
   "id": "b6d784d6-f45a-4772-b6aa-4f233a268055",
   "metadata": {},
   "outputs": [
    {
     "data": {
      "text/html": [
       "<div>\n",
       "<style scoped>\n",
       "    .dataframe tbody tr th:only-of-type {\n",
       "        vertical-align: middle;\n",
       "    }\n",
       "\n",
       "    .dataframe tbody tr th {\n",
       "        vertical-align: top;\n",
       "    }\n",
       "\n",
       "    .dataframe thead th {\n",
       "        text-align: right;\n",
       "    }\n",
       "</style>\n",
       "<table border=\"1\" class=\"dataframe\">\n",
       "  <thead>\n",
       "    <tr style=\"text-align: right;\">\n",
       "      <th></th>\n",
       "      <th>sym</th>\n",
       "      <th>lvl</th>\n",
       "      <th>63</th>\n",
       "      <th>64</th>\n",
       "      <th>65</th>\n",
       "    </tr>\n",
       "    <tr>\n",
       "      <th>num-1</th>\n",
       "      <th></th>\n",
       "      <th></th>\n",
       "      <th></th>\n",
       "      <th></th>\n",
       "      <th></th>\n",
       "    </tr>\n",
       "  </thead>\n",
       "  <tbody>\n",
       "    <tr>\n",
       "      <th>87</th>\n",
       "      <td>S</td>\n",
       "      <td>p</td>\n",
       "      <td>49.3</td>\n",
       "      <td>50.3</td>\n",
       "      <td>0.4</td>\n",
       "    </tr>\n",
       "  </tbody>\n",
       "</table>\n",
       "</div>"
      ],
      "text/plain": [
       "      sym lvl    63    64   65\n",
       "num-1                         \n",
       "87      S   p  49.3  50.3  0.4"
      ]
     },
     "execution_count": 33,
     "metadata": {},
     "output_type": "execute_result"
    }
   ],
   "source": [
    "resa_mocore_101"
   ]
  },
  {
   "cell_type": "markdown",
   "id": "d34bb768",
   "metadata": {},
   "source": [
    "<html>\n",
    "\n",
    "<body>\n",
    "<h4> Case for virtual MO in the resB</h4>\n",
    "</body>\n",
    "</html>\n",
    "<html>"
   ]
  },
  {
   "cell_type": "code",
   "execution_count": 34,
   "id": "61a9137a",
   "metadata": {},
   "outputs": [],
   "source": [
    "for ii in dict_suf:\n",
    "    globals()['resb_movirt_%s' % str(dict_suf[ii])] = \\\n",
    "    nonzero_mo_matrix(globals()['resb_movirt_%s_raw' % str(dict_suf[ii])])"
   ]
  },
  {
   "cell_type": "code",
   "execution_count": 35,
   "id": "83a95af9-d402-4bb0-8196-bea5d6b41f05",
   "metadata": {},
   "outputs": [
    {
     "data": {
      "text/html": [
       "<div>\n",
       "<style scoped>\n",
       "    .dataframe tbody tr th:only-of-type {\n",
       "        vertical-align: middle;\n",
       "    }\n",
       "\n",
       "    .dataframe tbody tr th {\n",
       "        vertical-align: top;\n",
       "    }\n",
       "\n",
       "    .dataframe thead th {\n",
       "        text-align: right;\n",
       "    }\n",
       "</style>\n",
       "<table border=\"1\" class=\"dataframe\">\n",
       "  <thead>\n",
       "    <tr style=\"text-align: right;\">\n",
       "      <th></th>\n",
       "      <th>sym</th>\n",
       "      <th>lvl</th>\n",
       "      <th>236</th>\n",
       "      <th>237</th>\n",
       "      <th>238</th>\n",
       "      <th>239</th>\n",
       "      <th>240</th>\n",
       "      <th>241</th>\n",
       "      <th>242</th>\n",
       "      <th>243</th>\n",
       "      <th>...</th>\n",
       "      <th>250</th>\n",
       "      <th>251</th>\n",
       "      <th>252</th>\n",
       "      <th>254</th>\n",
       "      <th>255</th>\n",
       "      <th>256</th>\n",
       "      <th>258</th>\n",
       "      <th>260</th>\n",
       "      <th>265</th>\n",
       "      <th>266</th>\n",
       "    </tr>\n",
       "    <tr>\n",
       "      <th>num-1</th>\n",
       "      <th></th>\n",
       "      <th></th>\n",
       "      <th></th>\n",
       "      <th></th>\n",
       "      <th></th>\n",
       "      <th></th>\n",
       "      <th></th>\n",
       "      <th></th>\n",
       "      <th></th>\n",
       "      <th></th>\n",
       "      <th></th>\n",
       "      <th></th>\n",
       "      <th></th>\n",
       "      <th></th>\n",
       "      <th></th>\n",
       "      <th></th>\n",
       "      <th></th>\n",
       "      <th></th>\n",
       "      <th></th>\n",
       "      <th></th>\n",
       "      <th></th>\n",
       "    </tr>\n",
       "  </thead>\n",
       "  <tbody>\n",
       "    <tr>\n",
       "      <th>0</th>\n",
       "      <td>atom</td>\n",
       "      <td>lvlMO</td>\n",
       "      <td>0.0</td>\n",
       "      <td>0.0</td>\n",
       "      <td>0.0</td>\n",
       "      <td>0.0</td>\n",
       "      <td>0.0</td>\n",
       "      <td>0.0</td>\n",
       "      <td>0.7</td>\n",
       "      <td>0.1</td>\n",
       "      <td>...</td>\n",
       "      <td>0.0</td>\n",
       "      <td>0.1</td>\n",
       "      <td>0.3</td>\n",
       "      <td>0.6</td>\n",
       "      <td>0.5</td>\n",
       "      <td>0.4</td>\n",
       "      <td>0.0</td>\n",
       "      <td>0.0</td>\n",
       "      <td>0.5</td>\n",
       "      <td>1.5</td>\n",
       "    </tr>\n",
       "    <tr>\n",
       "      <th>1</th>\n",
       "      <td>atom</td>\n",
       "      <td>lvlMO</td>\n",
       "      <td>0.0</td>\n",
       "      <td>0.0</td>\n",
       "      <td>0.0</td>\n",
       "      <td>0.0</td>\n",
       "      <td>0.0</td>\n",
       "      <td>0.0</td>\n",
       "      <td>0.4</td>\n",
       "      <td>0.0</td>\n",
       "      <td>...</td>\n",
       "      <td>0.0</td>\n",
       "      <td>0.3</td>\n",
       "      <td>1.0</td>\n",
       "      <td>2.3</td>\n",
       "      <td>1.3</td>\n",
       "      <td>0.8</td>\n",
       "      <td>0.0</td>\n",
       "      <td>0.0</td>\n",
       "      <td>1.0</td>\n",
       "      <td>4.4</td>\n",
       "    </tr>\n",
       "    <tr>\n",
       "      <th>2</th>\n",
       "      <td>atom</td>\n",
       "      <td>lvlMO</td>\n",
       "      <td>0.0</td>\n",
       "      <td>0.0</td>\n",
       "      <td>0.0</td>\n",
       "      <td>0.0</td>\n",
       "      <td>0.0</td>\n",
       "      <td>0.0</td>\n",
       "      <td>0.1</td>\n",
       "      <td>0.0</td>\n",
       "      <td>...</td>\n",
       "      <td>0.0</td>\n",
       "      <td>0.0</td>\n",
       "      <td>0.1</td>\n",
       "      <td>0.7</td>\n",
       "      <td>1.2</td>\n",
       "      <td>0.9</td>\n",
       "      <td>0.0</td>\n",
       "      <td>0.0</td>\n",
       "      <td>1.6</td>\n",
       "      <td>3.4</td>\n",
       "    </tr>\n",
       "    <tr>\n",
       "      <th>3</th>\n",
       "      <td>atom</td>\n",
       "      <td>lvlMO</td>\n",
       "      <td>0.0</td>\n",
       "      <td>0.0</td>\n",
       "      <td>0.0</td>\n",
       "      <td>0.0</td>\n",
       "      <td>0.0</td>\n",
       "      <td>0.0</td>\n",
       "      <td>1.3</td>\n",
       "      <td>0.0</td>\n",
       "      <td>...</td>\n",
       "      <td>0.0</td>\n",
       "      <td>0.2</td>\n",
       "      <td>2.8</td>\n",
       "      <td>1.3</td>\n",
       "      <td>0.3</td>\n",
       "      <td>0.3</td>\n",
       "      <td>0.3</td>\n",
       "      <td>0.2</td>\n",
       "      <td>0.8</td>\n",
       "      <td>1.0</td>\n",
       "    </tr>\n",
       "    <tr>\n",
       "      <th>4</th>\n",
       "      <td>atom</td>\n",
       "      <td>lvlMO</td>\n",
       "      <td>0.0</td>\n",
       "      <td>0.0</td>\n",
       "      <td>0.0</td>\n",
       "      <td>0.0</td>\n",
       "      <td>0.0</td>\n",
       "      <td>0.1</td>\n",
       "      <td>0.2</td>\n",
       "      <td>0.1</td>\n",
       "      <td>...</td>\n",
       "      <td>0.0</td>\n",
       "      <td>0.2</td>\n",
       "      <td>5.9</td>\n",
       "      <td>2.6</td>\n",
       "      <td>0.0</td>\n",
       "      <td>0.2</td>\n",
       "      <td>0.4</td>\n",
       "      <td>0.2</td>\n",
       "      <td>1.3</td>\n",
       "      <td>1.3</td>\n",
       "    </tr>\n",
       "    <tr>\n",
       "      <th>...</th>\n",
       "      <td>...</td>\n",
       "      <td>...</td>\n",
       "      <td>...</td>\n",
       "      <td>...</td>\n",
       "      <td>...</td>\n",
       "      <td>...</td>\n",
       "      <td>...</td>\n",
       "      <td>...</td>\n",
       "      <td>...</td>\n",
       "      <td>...</td>\n",
       "      <td>...</td>\n",
       "      <td>...</td>\n",
       "      <td>...</td>\n",
       "      <td>...</td>\n",
       "      <td>...</td>\n",
       "      <td>...</td>\n",
       "      <td>...</td>\n",
       "      <td>...</td>\n",
       "      <td>...</td>\n",
       "      <td>...</td>\n",
       "      <td>...</td>\n",
       "    </tr>\n",
       "    <tr>\n",
       "      <th>112</th>\n",
       "      <td>atom</td>\n",
       "      <td>lvlMO</td>\n",
       "      <td>0.0</td>\n",
       "      <td>0.1</td>\n",
       "      <td>0.0</td>\n",
       "      <td>0.3</td>\n",
       "      <td>0.6</td>\n",
       "      <td>0.1</td>\n",
       "      <td>0.9</td>\n",
       "      <td>2.0</td>\n",
       "      <td>...</td>\n",
       "      <td>0.1</td>\n",
       "      <td>0.2</td>\n",
       "      <td>2.2</td>\n",
       "      <td>0.4</td>\n",
       "      <td>0.0</td>\n",
       "      <td>0.5</td>\n",
       "      <td>0.2</td>\n",
       "      <td>0.7</td>\n",
       "      <td>0.1</td>\n",
       "      <td>0.0</td>\n",
       "    </tr>\n",
       "    <tr>\n",
       "      <th>113</th>\n",
       "      <td>atom</td>\n",
       "      <td>lvlMO</td>\n",
       "      <td>0.0</td>\n",
       "      <td>0.0</td>\n",
       "      <td>0.2</td>\n",
       "      <td>1.1</td>\n",
       "      <td>0.3</td>\n",
       "      <td>0.7</td>\n",
       "      <td>12.8</td>\n",
       "      <td>13.5</td>\n",
       "      <td>...</td>\n",
       "      <td>0.1</td>\n",
       "      <td>1.3</td>\n",
       "      <td>2.7</td>\n",
       "      <td>0.1</td>\n",
       "      <td>0.5</td>\n",
       "      <td>0.2</td>\n",
       "      <td>0.6</td>\n",
       "      <td>0.5</td>\n",
       "      <td>0.2</td>\n",
       "      <td>0.7</td>\n",
       "    </tr>\n",
       "    <tr>\n",
       "      <th>114</th>\n",
       "      <td>atom</td>\n",
       "      <td>lvlMO</td>\n",
       "      <td>0.0</td>\n",
       "      <td>0.0</td>\n",
       "      <td>0.1</td>\n",
       "      <td>0.5</td>\n",
       "      <td>0.2</td>\n",
       "      <td>0.2</td>\n",
       "      <td>5.6</td>\n",
       "      <td>6.5</td>\n",
       "      <td>...</td>\n",
       "      <td>0.1</td>\n",
       "      <td>0.4</td>\n",
       "      <td>1.6</td>\n",
       "      <td>0.0</td>\n",
       "      <td>0.4</td>\n",
       "      <td>0.6</td>\n",
       "      <td>0.3</td>\n",
       "      <td>0.1</td>\n",
       "      <td>0.1</td>\n",
       "      <td>0.2</td>\n",
       "    </tr>\n",
       "    <tr>\n",
       "      <th>115</th>\n",
       "      <td>atom</td>\n",
       "      <td>lvlMO</td>\n",
       "      <td>0.0</td>\n",
       "      <td>0.0</td>\n",
       "      <td>0.0</td>\n",
       "      <td>0.2</td>\n",
       "      <td>0.0</td>\n",
       "      <td>0.1</td>\n",
       "      <td>2.5</td>\n",
       "      <td>2.4</td>\n",
       "      <td>...</td>\n",
       "      <td>0.0</td>\n",
       "      <td>0.3</td>\n",
       "      <td>0.4</td>\n",
       "      <td>0.1</td>\n",
       "      <td>0.2</td>\n",
       "      <td>0.1</td>\n",
       "      <td>0.1</td>\n",
       "      <td>0.0</td>\n",
       "      <td>0.1</td>\n",
       "      <td>0.1</td>\n",
       "    </tr>\n",
       "    <tr>\n",
       "      <th>116</th>\n",
       "      <td>atom</td>\n",
       "      <td>lvlMO</td>\n",
       "      <td>0.0</td>\n",
       "      <td>0.0</td>\n",
       "      <td>0.0</td>\n",
       "      <td>0.0</td>\n",
       "      <td>0.0</td>\n",
       "      <td>0.0</td>\n",
       "      <td>0.6</td>\n",
       "      <td>0.3</td>\n",
       "      <td>...</td>\n",
       "      <td>0.0</td>\n",
       "      <td>0.4</td>\n",
       "      <td>0.4</td>\n",
       "      <td>0.3</td>\n",
       "      <td>0.6</td>\n",
       "      <td>0.3</td>\n",
       "      <td>0.1</td>\n",
       "      <td>0.1</td>\n",
       "      <td>0.1</td>\n",
       "      <td>0.0</td>\n",
       "    </tr>\n",
       "  </tbody>\n",
       "</table>\n",
       "<p>117 rows × 26 columns</p>\n",
       "</div>"
      ],
      "text/plain": [
       "        sym    lvl  236  237  238  239  240  241   242   243  ...  250  251  \\\n",
       "num-1                                                         ...             \n",
       "0      atom  lvlMO  0.0  0.0  0.0  0.0  0.0  0.0   0.7   0.1  ...  0.0  0.1   \n",
       "1      atom  lvlMO  0.0  0.0  0.0  0.0  0.0  0.0   0.4   0.0  ...  0.0  0.3   \n",
       "2      atom  lvlMO  0.0  0.0  0.0  0.0  0.0  0.0   0.1   0.0  ...  0.0  0.0   \n",
       "3      atom  lvlMO  0.0  0.0  0.0  0.0  0.0  0.0   1.3   0.0  ...  0.0  0.2   \n",
       "4      atom  lvlMO  0.0  0.0  0.0  0.0  0.0  0.1   0.2   0.1  ...  0.0  0.2   \n",
       "...     ...    ...  ...  ...  ...  ...  ...  ...   ...   ...  ...  ...  ...   \n",
       "112    atom  lvlMO  0.0  0.1  0.0  0.3  0.6  0.1   0.9   2.0  ...  0.1  0.2   \n",
       "113    atom  lvlMO  0.0  0.0  0.2  1.1  0.3  0.7  12.8  13.5  ...  0.1  1.3   \n",
       "114    atom  lvlMO  0.0  0.0  0.1  0.5  0.2  0.2   5.6   6.5  ...  0.1  0.4   \n",
       "115    atom  lvlMO  0.0  0.0  0.0  0.2  0.0  0.1   2.5   2.4  ...  0.0  0.3   \n",
       "116    atom  lvlMO  0.0  0.0  0.0  0.0  0.0  0.0   0.6   0.3  ...  0.0  0.4   \n",
       "\n",
       "       252  254  255  256  258  260  265  266  \n",
       "num-1                                          \n",
       "0      0.3  0.6  0.5  0.4  0.0  0.0  0.5  1.5  \n",
       "1      1.0  2.3  1.3  0.8  0.0  0.0  1.0  4.4  \n",
       "2      0.1  0.7  1.2  0.9  0.0  0.0  1.6  3.4  \n",
       "3      2.8  1.3  0.3  0.3  0.3  0.2  0.8  1.0  \n",
       "4      5.9  2.6  0.0  0.2  0.4  0.2  1.3  1.3  \n",
       "...    ...  ...  ...  ...  ...  ...  ...  ...  \n",
       "112    2.2  0.4  0.0  0.5  0.2  0.7  0.1  0.0  \n",
       "113    2.7  0.1  0.5  0.2  0.6  0.5  0.2  0.7  \n",
       "114    1.6  0.0  0.4  0.6  0.3  0.1  0.1  0.2  \n",
       "115    0.4  0.1  0.2  0.1  0.1  0.0  0.1  0.1  \n",
       "116    0.4  0.3  0.6  0.3  0.1  0.1  0.1  0.0  \n",
       "\n",
       "[117 rows x 26 columns]"
      ]
     },
     "execution_count": 35,
     "metadata": {},
     "output_type": "execute_result"
    }
   ],
   "source": [
    "resb_movirt_101"
   ]
  },
  {
   "cell_type": "markdown",
   "id": "e572066c",
   "metadata": {},
   "source": [
    "___________________________"
   ]
  },
  {
   "cell_type": "markdown",
   "id": "3b752e14",
   "metadata": {},
   "source": [
    "<html>\n",
    "\n",
    "<head>\n",
    "<meta charset=\"UTF-8\">\n",
    "</head>\n",
    "\n",
    "<body>\n",
    "<h3 id=\"title\">Results</h3>\n",
    "</body>\n",
    "</html>"
   ]
  },
  {
   "cell_type": "markdown",
   "id": "b1d9ff5f",
   "metadata": {},
   "source": [
    "______________________________"
   ]
  },
  {
   "cell_type": "markdown",
   "id": "2bea0f27",
   "metadata": {},
   "source": [
    "### BGA product"
   ]
  },
  {
   "cell_type": "code",
   "execution_count": 36,
   "id": "dcba58f4",
   "metadata": {},
   "outputs": [],
   "source": [
    "def ts_psb_acore_bvirt(acore, bvirt, abcorevirt, atm_to_virtmo=False):\n",
    "    \"\"\"\n",
    "    Do a matrix multiplication between the core-to-virt transition \n",
    "    probabilities matrix and the core MO matrix, then the resulting matrix\n",
    "    is multiplied by the virtual MO matrix.\n",
    "    if atm_to_virtmo is True, then the two resulting matrices in the \n",
    "    multiplication process are returned.\n",
    "    By the default, just the last matrix is returned.\n",
    "    \"\"\"\n",
    "    abcorevirt.index = abcorevirt.index.astype('str') \n",
    "    #to make possible the dot product in pandas, the indexes involved in each\n",
    "    #product have to \"match\" in name and type\n",
    "    \n",
    "    i = j = 0\n",
    "    dff = pd.DataFrame(np.zeros((acore.shape[0], abcorevirt.shape[0])), \\\n",
    "                       index=acore.index, columns=abcorevirt.index)\n",
    "    for j in range(abcorevirt.shape[1]):\n",
    "        for i in range(acore.shape[1]):\n",
    "            try:\n",
    "                dff += acore.T[i:i+1].T.dot(abcorevirt.iloc[:].T[j:j+1])\n",
    "            except:\n",
    "                pass\n",
    "            \n",
    "    dff = dff/100\n",
    "    i = j = 0\n",
    "    dff2 = pd.DataFrame(np.zeros((dff.shape[0], bvirt.shape[0])), \\\n",
    "                        index=dff.index, columns=bvirt.index)\n",
    "    for i in range(dff.shape[1]):\n",
    "        for j in range(bvirt.shape[1]):\n",
    "            try:\n",
    "                dff2 += dff.T[i:i+1].T.dot(bvirt.T[j:j+1])\n",
    "            except:\n",
    "                pass\n",
    "    \n",
    "    if atm_to_virtmo:\n",
    "        return dff, dff2\n",
    "    else:\n",
    "        return dff2"
   ]
  },
  {
   "cell_type": "markdown",
   "id": "fd96171a",
   "metadata": {},
   "source": [
    "#### Using dipole moment operator (ELECTRIC DIPOLE + MAGNETIC DIPOLE + ELECTRIC QUADRUPOLE)\n",
    "##### Taken as a weighted sum"
   ]
  },
  {
   "cell_type": "markdown",
   "id": "32ffe29e",
   "metadata": {},
   "source": [
    "##### Low Multiplicity"
   ]
  },
  {
   "cell_type": "code",
   "execution_count": 37,
   "id": "b4caff99-419b-4cc9-8cb5-1bb76528afcc",
   "metadata": {},
   "outputs": [],
   "source": [
    "for ii in dict_suf:\n",
    "    globals()['heatmap_S0_RWG4MG3_%s' % str(dict_suf[ii])] = \\\n",
    "    ts_psb_acore_bvirt(globals()['resa_mocore_%s' % str(dict_suf[ii])].T[2:].T,\\\n",
    "    globals()['resb_movirt_%s_raw' % str(dict_suf[ii])].T[2:].T,\\\n",
    "    globals()['corevirt_mo_fosc0_%s_raw' % str(dict_suf[ii])])"
   ]
  },
  {
   "cell_type": "markdown",
   "id": "f96b08da",
   "metadata": {},
   "source": [
    "#### High Multiplicity"
   ]
  },
  {
   "cell_type": "code",
   "execution_count": 38,
   "id": "f84fdff7",
   "metadata": {},
   "outputs": [],
   "source": [
    "for ii in dict_suf:\n",
    "    globals()['heatmap_S1_RWG4MG3_%s' % str(dict_suf[ii])] = \\\n",
    "    ts_psb_acore_bvirt(globals()['resa_mocore_%s' % str(dict_suf[ii])].T[2:].T,\\\n",
    "    globals()['resb_movirt_%s_raw' % str(dict_suf[ii])].T[2:].T,\\\n",
    "    globals()['corevirt_mo_fosc1_%s_raw' % str(dict_suf[ii])])"
   ]
  },
  {
   "cell_type": "code",
   "execution_count": 39,
   "id": "b6966547",
   "metadata": {},
   "outputs": [],
   "source": [
    "#heatmap_S_RWG4MG3 = ts_psb_acore_bvirt(resa_mocore_101.T[2:].T,\\\n",
    "#                                    resb_movirt_101_raw.T[2:].T,\\\n",
    "#                             corevirt_mo_fosc_101_raw)"
   ]
  },
  {
   "cell_type": "code",
   "execution_count": 40,
   "id": "56702b64",
   "metadata": {},
   "outputs": [],
   "source": [
    "def sum_Mm(dfbig, dfsmall):\n",
    "    \"\"\"\n",
    "    in a dfbig matrix, the elements from dfsmall matrix are summed according\n",
    "    to its index and columns matches in dfbig index and columns\n",
    "    values\n",
    "    \"\"\"\n",
    "    for i in dfsmall.index.values:\n",
    "        for j in dfsmall.columns.values:\n",
    "            try:\n",
    "                dfbig.loc[[i],[j]] += dfsmall.loc[[i],[j]]\n",
    "            except:\n",
    "                pass\n",
    "    return dfbig"
   ]
  },
  {
   "cell_type": "code",
   "execution_count": 41,
   "id": "b3bdc479-8faf-482a-b04c-22068723df42",
   "metadata": {},
   "outputs": [],
   "source": [
    "for ii in dict_suf:\n",
    "    globals()['heatmap_S0_RWG4MG3_%s' % str(dict_suf[ii])].index.names = ['core-atom']\n",
    "    globals()['heatmap_S0_RWG4MG3_%s' % str(dict_suf[ii])].columns.names = ['virtual-atom']\n",
    "for ii in dict_suf:\n",
    "    globals()['heatmap_S1_RWG4MG3_%s' % str(dict_suf[ii])].index.names = ['core-atom']\n",
    "    globals()['heatmap_S1_RWG4MG3_%s' % str(dict_suf[ii])].columns.names = ['virtual-atom']"
   ]
  },
  {
   "cell_type": "code",
   "execution_count": 42,
   "id": "75a1cae5-0f62-4107-9ab8-a591cae6010c",
   "metadata": {},
   "outputs": [],
   "source": [
    "for ii in dict_suf:\n",
    "    globals()['sort_heatmap0_RWG4MG3_%s' % str(dict_suf[ii])] = \\\n",
    "    globals()['heatmap_S0_RWG4MG3_%s' % str(dict_suf[ii])].apply(pd.to_numeric).sort_index(ascending=True)\n",
    "for ii in dict_suf:\n",
    "    globals()['sort_heatmap1_RWG4MG3_%s' % str(dict_suf[ii])] = \\\n",
    "    globals()['heatmap_S1_RWG4MG3_%s' % str(dict_suf[ii])].apply(pd.to_numeric).sort_index(ascending=True)"
   ]
  },
  {
   "cell_type": "code",
   "execution_count": 43,
   "id": "d8ea2520",
   "metadata": {},
   "outputs": [],
   "source": [
    "relmax0 = max(sort_heatmap0_RWG4MG3_101.max().max(),\\\n",
    "          sort_heatmap0_RWG4MG3_102.max().max(),\\\n",
    "          sort_heatmap0_RWG4MG3_103.max().max(),\\\n",
    "         sort_heatmap0_RWG4MG3_104.max().max())\n",
    "relmin0 = min(sort_heatmap0_RWG4MG3_101.min().min(),\\\n",
    "          sort_heatmap0_RWG4MG3_102.min().min(),\\\n",
    "          sort_heatmap0_RWG4MG3_103.min().min(),\\\n",
    "         sort_heatmap0_RWG4MG3_104.min().min())\n",
    "relmax1 = max(sort_heatmap1_RWG4MG3_101.max().max(),\\\n",
    "          sort_heatmap1_RWG4MG3_102.max().max(),\\\n",
    "          sort_heatmap1_RWG4MG3_103.max().max(),\\\n",
    "         sort_heatmap1_RWG4MG3_104.max().max())\n",
    "relmin1 = min(sort_heatmap1_RWG4MG3_101.min().min(),\\\n",
    "          sort_heatmap1_RWG4MG3_102.min().min(),\\\n",
    "          sort_heatmap1_RWG4MG3_103.min().min(),\\\n",
    "         sort_heatmap1_RWG4MG3_104.min().min())"
   ]
  },
  {
   "cell_type": "code",
   "execution_count": 44,
   "id": "d085161a",
   "metadata": {},
   "outputs": [
    {
     "data": {
      "text/plain": [
       "<AxesSubplot:xlabel='virtual-atom', ylabel='core-atom'>"
      ]
     },
     "execution_count": 44,
     "metadata": {},
     "output_type": "execute_result"
    },
    {
     "data": {
      "image/png": "[encoded data removed]",
      "text/plain": [
       "<Figure size 1152x144 with 2 Axes>"
      ]
     },
     "metadata": {
      "needs_background": "light"
     },
     "output_type": "display_data"
    }
   ],
   "source": [
    "import seaborn as sns\n",
    "%matplotlib inline\n",
    "\n",
    "fig, ax = plt.subplots(figsize=(16,2)) \n",
    "\n",
    "#test = (sort_heatmap_RWG4MG3_101 - relmin)/(relmax - relmin)\n",
    "test = (sort_heatmap0_RWG4MG3_101 - sort_heatmap0_RWG4MG3_101.min().min())/\\\n",
    "(sort_heatmap0_RWG4MG3_101.max().max() - sort_heatmap0_RWG4MG3_101.min().min())\n",
    "\n",
    "sns.heatmap(test, annot=False, cmap='Oranges', vmin=0, vmax=1, ax=ax)\n",
    "#sns.heatmap(newdf335, annot=False, cmap='Spectral', vmin=min(newdf335.min()), vmax=max(newdf335.max()), ax=ax)\n",
    "#sns.heatmap(newdf335, annot=False, cmap='Spectral', vmin=0, vmax=30, ax=ax)\n",
    "#fig.set_size_inches(18.5, 10.5)\n",
    "#fig.savefig('FGL_FY_35.svg', format=\"svg\")"
   ]
  },
  {
   "cell_type": "code",
   "execution_count": 45,
   "id": "5f70fa99",
   "metadata": {},
   "outputs": [
    {
     "data": {
      "text/plain": [
       "<AxesSubplot:xlabel='virtual-atom', ylabel='core-atom'>"
      ]
     },
     "execution_count": 45,
     "metadata": {},
     "output_type": "execute_result"
    },
    {
     "data": {
      "image/png": "[encoded data removed]",
      "text/plain": [
       "<Figure size 1152x144 with 2 Axes>"
      ]
     },
     "metadata": {
      "needs_background": "light"
     },
     "output_type": "display_data"
    }
   ],
   "source": [
    "fig, ax = plt.subplots(figsize=(16,2)) \n",
    "test = (sort_heatmap1_RWG4MG3_101 - sort_heatmap1_RWG4MG3_101.min().min())/\\\n",
    "(sort_heatmap1_RWG4MG3_101.max().max() - sort_heatmap1_RWG4MG3_101.min().min())\n",
    "sns.heatmap(test, annot=False, cmap='Oranges', vmin=0, vmax=1, ax=ax)"
   ]
  },
  {
   "cell_type": "code",
   "execution_count": 46,
   "id": "ee8d8622-7038-4ead-90a8-9db1341aefdb",
   "metadata": {},
   "outputs": [
    {
     "data": {
      "text/plain": [
       "<AxesSubplot:xlabel='virtual-atom', ylabel='core-atom'>"
      ]
     },
     "execution_count": 46,
     "metadata": {},
     "output_type": "execute_result"
    },
    {
     "data": {
      "image/png": "[encoded data removed]",
      "text/plain": [
       "<Figure size 1152x144 with 2 Axes>"
      ]
     },
     "metadata": {
      "needs_background": "light"
     },
     "output_type": "display_data"
    }
   ],
   "source": [
    "fig, ax = plt.subplots(figsize=(16,2)) \n",
    "test = (sort_heatmap0_RWG4MG3_102 - sort_heatmap0_RWG4MG3_102.min().min())/\\\n",
    "(sort_heatmap0_RWG4MG3_102.max().max() - sort_heatmap0_RWG4MG3_102.min().min())\n",
    "sns.heatmap(test, annot=False, cmap='Oranges', vmin=0, vmax=1, ax=ax)"
   ]
  },
  {
   "cell_type": "code",
   "execution_count": 47,
   "id": "2a5116b2",
   "metadata": {},
   "outputs": [
    {
     "data": {
      "text/plain": [
       "<AxesSubplot:xlabel='virtual-atom', ylabel='core-atom'>"
      ]
     },
     "execution_count": 47,
     "metadata": {},
     "output_type": "execute_result"
    },
    {
     "data": {
      "image/png": "[encoded data removed]",
      "text/plain": [
       "<Figure size 1152x144 with 2 Axes>"
      ]
     },
     "metadata": {
      "needs_background": "light"
     },
     "output_type": "display_data"
    }
   ],
   "source": [
    "fig, ax = plt.subplots(figsize=(16,2)) \n",
    "test = (sort_heatmap1_RWG4MG3_102 - sort_heatmap1_RWG4MG3_102.min().min())/\\\n",
    "(sort_heatmap1_RWG4MG3_102.max().max() - sort_heatmap1_RWG4MG3_102.min().min())\n",
    "sns.heatmap(test, annot=False, cmap='Oranges', vmin=0, vmax=1, ax=ax)"
   ]
  },
  {
   "cell_type": "code",
   "execution_count": 48,
   "id": "b5d87079-1857-4aa0-8768-4fc486aa703f",
   "metadata": {},
   "outputs": [
    {
     "data": {
      "text/plain": [
       "<AxesSubplot:xlabel='virtual-atom', ylabel='core-atom'>"
      ]
     },
     "execution_count": 48,
     "metadata": {},
     "output_type": "execute_result"
    },
    {
     "data": {
      "image/png": "[encoded data removed]",
      "text/plain": [
       "<Figure size 1152x144 with 2 Axes>"
      ]
     },
     "metadata": {
      "needs_background": "light"
     },
     "output_type": "display_data"
    }
   ],
   "source": [
    "fig, ax = plt.subplots(figsize=(16,2)) \n",
    "test = (sort_heatmap0_RWG4MG3_103 - sort_heatmap0_RWG4MG3_103.min().min())/\\\n",
    "(sort_heatmap0_RWG4MG3_103.max().max() - sort_heatmap0_RWG4MG3_103.min().min())\n",
    "sns.heatmap(test, annot=False, cmap='Oranges', vmin=0, vmax=1, ax=ax)"
   ]
  },
  {
   "cell_type": "code",
   "execution_count": 49,
   "id": "2259851b",
   "metadata": {},
   "outputs": [
    {
     "data": {
      "text/plain": [
       "<AxesSubplot:xlabel='virtual-atom', ylabel='core-atom'>"
      ]
     },
     "execution_count": 49,
     "metadata": {},
     "output_type": "execute_result"
    },
    {
     "data": {
      "image/png": "[encoded data removed]",
      "text/plain": [
       "<Figure size 1152x144 with 2 Axes>"
      ]
     },
     "metadata": {
      "needs_background": "light"
     },
     "output_type": "display_data"
    }
   ],
   "source": [
    "fig, ax = plt.subplots(figsize=(16,2)) \n",
    "test = (sort_heatmap1_RWG4MG3_103 - sort_heatmap1_RWG4MG3_103.min().min())/\\\n",
    "(sort_heatmap1_RWG4MG3_103.max().max() - sort_heatmap1_RWG4MG3_103.min().min())\n",
    "sns.heatmap(test, annot=False, cmap='Oranges', vmin=0, vmax=1, ax=ax)"
   ]
  },
  {
   "cell_type": "code",
   "execution_count": 50,
   "id": "eba94040-fdb7-42e4-9b18-054b6818cb9a",
   "metadata": {},
   "outputs": [
    {
     "data": {
      "text/plain": [
       "<AxesSubplot:xlabel='virtual-atom', ylabel='core-atom'>"
      ]
     },
     "execution_count": 50,
     "metadata": {},
     "output_type": "execute_result"
    },
    {
     "data": {
      "image/png": "[encoded data removed]",
      "text/plain": [
       "<Figure size 1152x144 with 2 Axes>"
      ]
     },
     "metadata": {
      "needs_background": "light"
     },
     "output_type": "display_data"
    }
   ],
   "source": [
    "fig, ax = plt.subplots(figsize=(16,2)) \n",
    "test = (sort_heatmap0_RWG4MG3_104 - sort_heatmap0_RWG4MG3_104.min().min())/\\\n",
    "(sort_heatmap0_RWG4MG3_104.max().max() - sort_heatmap0_RWG4MG3_104.min().min())\n",
    "sns.heatmap(test, annot=False, cmap='Oranges', vmin=0, vmax=1, ax=ax)"
   ]
  },
  {
   "cell_type": "code",
   "execution_count": 51,
   "id": "6955dd3d",
   "metadata": {},
   "outputs": [
    {
     "data": {
      "text/plain": [
       "<AxesSubplot:xlabel='virtual-atom', ylabel='core-atom'>"
      ]
     },
     "execution_count": 51,
     "metadata": {},
     "output_type": "execute_result"
    },
    {
     "data": {
      "image/png": "[encoded data removed]",
      "text/plain": [
       "<Figure size 1152x144 with 2 Axes>"
      ]
     },
     "metadata": {
      "needs_background": "light"
     },
     "output_type": "display_data"
    }
   ],
   "source": [
    "fig, ax = plt.subplots(figsize=(16,2)) \n",
    "test = (sort_heatmap1_RWG4MG3_104 - sort_heatmap1_RWG4MG3_104.min().min())/\\\n",
    "(sort_heatmap1_RWG4MG3_104.max().max() - sort_heatmap1_RWG4MG3_104.min().min())\n",
    "sns.heatmap(test, annot=False, cmap='Oranges', vmin=0, vmax=1, ax=ax)"
   ]
  },
  {
   "cell_type": "markdown",
   "id": "d9de3c7b",
   "metadata": {},
   "source": [
    "#### Using dipole moment operator (ELECTRIC DIPOLE + MAGNETIC DIPOLE + ELECTRIC QUADRUPOLE)\n",
    "##### Taken as a weighted average"
   ]
  },
  {
   "cell_type": "code",
   "execution_count": 52,
   "id": "f97be966",
   "metadata": {},
   "outputs": [],
   "source": [
    "for ii in dict_suf:\n",
    "    globals()['heatmapw_S0_RWG4MG3_%s' % str(dict_suf[ii])] = \\\n",
    "    ts_psb_acore_bvirt(globals()['resa_mocore_%s' % str(dict_suf[ii])].T[2:].T,\\\n",
    "    globals()['resb_movirt_%s_raw' % str(dict_suf[ii])].T[2:].T,\\\n",
    "    globals()['corevirt_mo_foscw0_%s_raw' % str(dict_suf[ii])])\n",
    "for ii in dict_suf:\n",
    "    globals()['heatmapw_S1_RWG4MG3_%s' % str(dict_suf[ii])] = \\\n",
    "    ts_psb_acore_bvirt(globals()['resa_mocore_%s' % str(dict_suf[ii])].T[2:].T,\\\n",
    "    globals()['resb_movirt_%s_raw' % str(dict_suf[ii])].T[2:].T,\\\n",
    "    globals()['corevirt_mo_foscw1_%s_raw' % str(dict_suf[ii])])"
   ]
  },
  {
   "cell_type": "code",
   "execution_count": 53,
   "id": "25ec47dd",
   "metadata": {},
   "outputs": [],
   "source": [
    "for ii in dict_suf:\n",
    "    globals()['heatmapw_S0_RWG4MG3_%s' % str(dict_suf[ii])].index.names = ['core-atom']\n",
    "    globals()['heatmapw_S0_RWG4MG3_%s' % str(dict_suf[ii])].columns.names = ['virtual-atom']\n",
    "for ii in dict_suf:\n",
    "    globals()['heatmapw_S1_RWG4MG3_%s' % str(dict_suf[ii])].index.names = ['core-atom']\n",
    "    globals()['heatmapw_S1_RWG4MG3_%s' % str(dict_suf[ii])].columns.names = ['virtual-atom']"
   ]
  },
  {
   "cell_type": "code",
   "execution_count": 54,
   "id": "17dd9556",
   "metadata": {},
   "outputs": [],
   "source": [
    "for ii in dict_suf:\n",
    "    globals()['sort_heatmapw0_RWG4MG3_%s' % str(dict_suf[ii])] = \\\n",
    "    globals()['heatmapw_S0_RWG4MG3_%s' % str(dict_suf[ii])].apply(pd.to_numeric).sort_index(ascending=True)\n",
    "for ii in dict_suf:\n",
    "    globals()['sort_heatmapw1_RWG4MG3_%s' % str(dict_suf[ii])] = \\\n",
    "    globals()['heatmapw_S1_RWG4MG3_%s' % str(dict_suf[ii])].apply(pd.to_numeric).sort_index(ascending=True)"
   ]
  },
  {
   "cell_type": "code",
   "execution_count": 55,
   "id": "3dd476f4",
   "metadata": {},
   "outputs": [],
   "source": [
    "relmaxw0 = max(sort_heatmapw0_RWG4MG3_101.max().max(),\\\n",
    "          sort_heatmapw0_RWG4MG3_102.max().max(),\\\n",
    "          sort_heatmapw0_RWG4MG3_103.max().max(),\\\n",
    "         sort_heatmapw0_RWG4MG3_104.max().max())\n",
    "relminw0 = min(sort_heatmapw0_RWG4MG3_101.min().min(),\\\n",
    "          sort_heatmapw0_RWG4MG3_102.min().min(),\\\n",
    "          sort_heatmapw0_RWG4MG3_103.min().min(),\\\n",
    "         sort_heatmapw0_RWG4MG3_104.min().min())\n",
    "relmaxw1 = max(sort_heatmapw1_RWG4MG3_101.max().max(),\\\n",
    "          sort_heatmapw1_RWG4MG3_102.max().max(),\\\n",
    "          sort_heatmapw1_RWG4MG3_103.max().max(),\\\n",
    "         sort_heatmapw1_RWG4MG3_104.max().max())\n",
    "relminw1 = min(sort_heatmapw1_RWG4MG3_101.min().min(),\\\n",
    "          sort_heatmapw1_RWG4MG3_102.min().min(),\\\n",
    "          sort_heatmapw1_RWG4MG3_103.min().min(),\\\n",
    "         sort_heatmapw1_RWG4MG3_104.min().min())"
   ]
  },
  {
   "cell_type": "code",
   "execution_count": 56,
   "id": "387720f3",
   "metadata": {},
   "outputs": [
    {
     "data": {
      "text/plain": [
       "<AxesSubplot:xlabel='virtual-atom', ylabel='core-atom'>"
      ]
     },
     "execution_count": 56,
     "metadata": {},
     "output_type": "execute_result"
    },
    {
     "data": {
      "image/png": "[encoded data removed]",
      "text/plain": [
       "<Figure size 1152x144 with 2 Axes>"
      ]
     },
     "metadata": {
      "needs_background": "light"
     },
     "output_type": "display_data"
    }
   ],
   "source": [
    "fig, ax = plt.subplots(figsize=(16,2)) \n",
    "test = (sort_heatmapw0_RWG4MG3_101 - sort_heatmapw0_RWG4MG3_101.min().min())/\\\n",
    "(sort_heatmapw0_RWG4MG3_101.max().max() - sort_heatmapw0_RWG4MG3_101.min().min())\n",
    "sns.heatmap(test, annot=False, cmap='Oranges', vmin=0, vmax=1, ax=ax)"
   ]
  },
  {
   "cell_type": "code",
   "execution_count": 57,
   "id": "f7d02f48",
   "metadata": {},
   "outputs": [
    {
     "data": {
      "text/plain": [
       "<AxesSubplot:xlabel='virtual-atom', ylabel='core-atom'>"
      ]
     },
     "execution_count": 57,
     "metadata": {},
     "output_type": "execute_result"
    },
    {
     "data": {
      "image/png": "[encoded data removed]",
      "text/plain": [
       "<Figure size 1152x144 with 2 Axes>"
      ]
     },
     "metadata": {
      "needs_background": "light"
     },
     "output_type": "display_data"
    }
   ],
   "source": [
    "fig, ax = plt.subplots(figsize=(16,2)) \n",
    "test = (sort_heatmapw1_RWG4MG3_101 - sort_heatmapw1_RWG4MG3_101.min().min())/\\\n",
    "(sort_heatmapw1_RWG4MG3_101.max().max() - sort_heatmapw1_RWG4MG3_101.min().min())\n",
    "sns.heatmap(test, annot=False, cmap='Oranges', vmin=0, vmax=1, ax=ax)"
   ]
  },
  {
   "cell_type": "code",
   "execution_count": 58,
   "id": "316d568e",
   "metadata": {},
   "outputs": [
    {
     "data": {
      "text/plain": [
       "<AxesSubplot:xlabel='virtual-atom', ylabel='core-atom'>"
      ]
     },
     "execution_count": 58,
     "metadata": {},
     "output_type": "execute_result"
    },
    {
     "data": {
      "image/png": "[encoded data removed]",
      "text/plain": [
       "<Figure size 1152x144 with 2 Axes>"
      ]
     },
     "metadata": {
      "needs_background": "light"
     },
     "output_type": "display_data"
    }
   ],
   "source": [
    "fig, ax = plt.subplots(figsize=(16,2)) \n",
    "test = (sort_heatmapw0_RWG4MG3_102 - sort_heatmapw0_RWG4MG3_102.min().min())/\\\n",
    "(sort_heatmapw0_RWG4MG3_102.max().max() - sort_heatmapw0_RWG4MG3_102.min().min())\n",
    "sns.heatmap(test, annot=False, cmap='Oranges', vmin=0, vmax=1, ax=ax)"
   ]
  },
  {
   "cell_type": "code",
   "execution_count": 59,
   "id": "860ad6d4",
   "metadata": {},
   "outputs": [
    {
     "data": {
      "text/plain": [
       "<AxesSubplot:xlabel='virtual-atom', ylabel='core-atom'>"
      ]
     },
     "execution_count": 59,
     "metadata": {},
     "output_type": "execute_result"
    },
    {
     "data": {
      "image/png": "[encoded data removed]",
      "text/plain": [
       "<Figure size 1152x144 with 2 Axes>"
      ]
     },
     "metadata": {
      "needs_background": "light"
     },
     "output_type": "display_data"
    }
   ],
   "source": [
    "fig, ax = plt.subplots(figsize=(16,2)) \n",
    "test = (sort_heatmapw1_RWG4MG3_102 - sort_heatmapw1_RWG4MG3_102.min().min())/\\\n",
    "(sort_heatmapw1_RWG4MG3_102.max().max() - sort_heatmapw1_RWG4MG3_102.min().min())\n",
    "sns.heatmap(test, annot=False, cmap='Oranges', vmin=0, vmax=1, ax=ax)"
   ]
  },
  {
   "cell_type": "code",
   "execution_count": 60,
   "id": "bb110963",
   "metadata": {},
   "outputs": [
    {
     "data": {
      "text/plain": [
       "<AxesSubplot:xlabel='virtual-atom', ylabel='core-atom'>"
      ]
     },
     "execution_count": 60,
     "metadata": {},
     "output_type": "execute_result"
    },
    {
     "data": {
      "image/png": "[encoded data removed]",
      "text/plain": [
       "<Figure size 1152x144 with 2 Axes>"
      ]
     },
     "metadata": {
      "needs_background": "light"
     },
     "output_type": "display_data"
    }
   ],
   "source": [
    "fig, ax = plt.subplots(figsize=(16,2)) \n",
    "test = (sort_heatmapw0_RWG4MG3_103 - sort_heatmapw0_RWG4MG3_103.min().min())/\\\n",
    "(sort_heatmapw0_RWG4MG3_103.max().max() - sort_heatmapw0_RWG4MG3_103.min().min())\n",
    "sns.heatmap(test, annot=False, cmap='Oranges', vmin=0, vmax=1, ax=ax)"
   ]
  },
  {
   "cell_type": "code",
   "execution_count": 61,
   "id": "717a58a2",
   "metadata": {},
   "outputs": [
    {
     "data": {
      "text/plain": [
       "<AxesSubplot:xlabel='virtual-atom', ylabel='core-atom'>"
      ]
     },
     "execution_count": 61,
     "metadata": {},
     "output_type": "execute_result"
    },
    {
     "data": {
      "image/png": "[encoded data removed]",
      "text/plain": [
       "<Figure size 1152x144 with 2 Axes>"
      ]
     },
     "metadata": {
      "needs_background": "light"
     },
     "output_type": "display_data"
    }
   ],
   "source": [
    "fig, ax = plt.subplots(figsize=(16,2)) \n",
    "test = (sort_heatmapw1_RWG4MG3_103 - sort_heatmapw1_RWG4MG3_103.min().min())/\\\n",
    "(sort_heatmapw1_RWG4MG3_103.max().max() - sort_heatmapw1_RWG4MG3_103.min().min())\n",
    "sns.heatmap(test, annot=False, cmap='Oranges', vmin=0, vmax=1, ax=ax)"
   ]
  },
  {
   "cell_type": "code",
   "execution_count": 62,
   "id": "2b27b2a6",
   "metadata": {},
   "outputs": [
    {
     "data": {
      "text/plain": [
       "<AxesSubplot:xlabel='virtual-atom', ylabel='core-atom'>"
      ]
     },
     "execution_count": 62,
     "metadata": {},
     "output_type": "execute_result"
    },
    {
     "data": {
      "image/png": "[encoded data removed]",
      "text/plain": [
       "<Figure size 1152x144 with 2 Axes>"
      ]
     },
     "metadata": {
      "needs_background": "light"
     },
     "output_type": "display_data"
    }
   ],
   "source": [
    "fig, ax = plt.subplots(figsize=(16,2)) \n",
    "test = (sort_heatmapw0_RWG4MG3_104 - sort_heatmapw0_RWG4MG3_104.min().min())/\\\n",
    "(sort_heatmapw0_RWG4MG3_104.max().max() - sort_heatmapw0_RWG4MG3_104.min().min())\n",
    "sns.heatmap(test, annot=False, cmap='Oranges', vmin=0, vmax=1, ax=ax)"
   ]
  },
  {
   "cell_type": "code",
   "execution_count": 63,
   "id": "579d5b1d",
   "metadata": {},
   "outputs": [
    {
     "data": {
      "text/plain": [
       "<AxesSubplot:xlabel='virtual-atom', ylabel='core-atom'>"
      ]
     },
     "execution_count": 63,
     "metadata": {},
     "output_type": "execute_result"
    },
    {
     "data": {
      "image/png": "[encoded data removed]",
      "text/plain": [
       "<Figure size 1152x144 with 2 Axes>"
      ]
     },
     "metadata": {
      "needs_background": "light"
     },
     "output_type": "display_data"
    }
   ],
   "source": [
    "fig, ax = plt.subplots(figsize=(16,2)) \n",
    "test = (sort_heatmapw1_RWG4MG3_104 - sort_heatmapw1_RWG4MG3_104.min().min())/\\\n",
    "(sort_heatmapw1_RWG4MG3_104.max().max() - sort_heatmapw1_RWG4MG3_104.min().min())\n",
    "sns.heatmap(test, annot=False, cmap='Oranges', vmin=0, vmax=1, ax=ax)"
   ]
  }
 ],
 "metadata": {
  "kernelspec": {
   "display_name": "Python 3 (ipykernel)",
   "language": "python",
   "name": "python3"
  },
  "language_info": {
   "codemirror_mode": {
    "name": "ipython",
    "version": 3
   },
   "file_extension": ".py",
   "mimetype": "text/x-python",
   "name": "python",
   "nbconvert_exporter": "python",
   "pygments_lexer": "ipython3",
   "version": "3.8.10"
  }
 },
 "nbformat": 4,
 "nbformat_minor": 5
}
