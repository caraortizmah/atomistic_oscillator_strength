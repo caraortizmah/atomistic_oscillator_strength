{
 "cells": [
  {
   "cell_type": "markdown",
   "id": "ad184f27",
   "metadata": {},
   "source": [
    "#### This example follows a logic for big data samplinig of the standard post analysis\n",
    "\n",
    "Data presented here, as new inputs for this jupyter-notebook, comes from the written-shell pipeline created to extract X-ray excited-state features from some specific pair of atoms group (e.g. pair amino acid). Outputs here are filtered features that account for specific transitions (coreMO -> virtualMO) for the specific pair of atoms group"
   ]
  },
  {
   "cell_type": "markdown",
   "id": "ed9912e4-cdc4-4097-a924-87bfcd54a5ac",
   "metadata": {},
   "source": [
    "##### Check out the paper of this work <br>\n",
    "#### *X-ray absorption spectroscopy reveals charge transfer in π-stacked aromatic amino acids*:<br> https://doi.org/10.1039/D4CP04615C"
   ]
  },
  {
   "cell_type": "markdown",
   "id": "31c336a4-552b-4034-8d9f-024dfc747df2",
   "metadata": {},
   "source": [
    "### Read and use this document to calculate the electron transition density atomic contribution matrix\n",
    "$$\n",
    "\\huge \\tilde{\\gamma}^{[l,m]}_{AA^{\\prime}}\n",
    "$$"
   ]
  },
  {
   "cell_type": "code",
   "execution_count": 1,
   "id": "f39762b6",
   "metadata": {},
   "outputs": [],
   "source": [
    "import numpy as np\n",
    "import pandas as pd\n",
    "import csv as csv"
   ]
  },
  {
   "cell_type": "code",
   "execution_count": 2,
   "id": "e2f96df0-d4b9-49a2-991c-da95f1600a64",
   "metadata": {},
   "outputs": [],
   "source": [
    "import matplotlib.pyplot as plt\n",
    "import seaborn as sns"
   ]
  },
  {
   "cell_type": "code",
   "execution_count": 55,
   "id": "87d78e71-b5a2-4118-a25e-37d58ad138d2",
   "metadata": {},
   "outputs": [],
   "source": [
    "import h5py"
   ]
  },
  {
   "cell_type": "markdown",
   "id": "4dba28d1",
   "metadata": {},
   "source": [
    "____________________________"
   ]
  },
  {
   "cell_type": "markdown",
   "id": "058a8493",
   "metadata": {},
   "source": [
    "#### General case of the post analysis for a list of molecules"
   ]
  },
  {
   "cell_type": "markdown",
   "id": "d557d25b",
   "metadata": {},
   "source": [
    "The required data are the standard csv files obtained from the https://github.com/caraortizmah/x-ray_scripting_out pipeline which encodes the required information for the calculation of the electronic transition density atomic contribution matrix."
   ]
  },
  {
   "cell_type": "markdown",
   "id": "596813d4-a7ea-4c3e-a4fe-c927ff3eccd3",
   "metadata": {},
   "source": [
    "#### Before starting, create a list file (for the csv files) with two columns (hash, file) listing all the csv files by property/component.\n",
    "For instance the case of *resA core MO*:\n",
    "\n",
    "\n",
    "Create a file named `resA_MOcore_list.log` where the first column is a list with a hash, e.g., f01, f02, ...f99 and\n",
    "the second is the name of the csv file to explore (in this case only the resA MO core csv files).\n",
    "\n",
    "The file should look like:\n",
    ">  f00,(path)../newFY_1-26/resA_MOcore_AB_2.5A_1-26.csv <br>\n",
    ">  f01,(path)../newFY_1-26/resA_MOcore_AB_2.6A_1-26.csv <br>\n",
    ">  f02,(path)../newFY_1-26/resA_MOcore_AB_2.7A_1-26.csv <br>\n",
    ">  f03,(path)../newFY_1-26/resA_MOcore_AB_2.8A_1-26.csv <br>\n",
    ">  ... <br>\n",
    ">  f61,(path)../newFY_1-26/resA_MOcore_AB_11.0A_1-26.csv <br>"
   ]
  },
  {
   "cell_type": "markdown",
   "id": "4bb90cca-2e81-4801-933b-f744632f43cf",
   "metadata": {},
   "source": [
    "______________________________________"
   ]
  },
  {
   "cell_type": "markdown",
   "id": "ac3dc807-e3e6-4c02-84d1-c61f2cf4ef76",
   "metadata": {},
   "source": [
    "#### Functions for processing data\n",
    "______________________________________________"
   ]
  },
  {
   "cell_type": "code",
   "execution_count": 3,
   "id": "f6af8df3-1707-4a21-b473-e6aeb43bbf2e",
   "metadata": {},
   "outputs": [],
   "source": [
    "def load_dict_data(filename, index_col_condition='num-1'):\n",
    "    \"\"\"\n",
    "    Reads from a two-column file the hash and the file and\n",
    "     stores the information of the csv file into a dictionary.\n",
    "    Format file to be read:\n",
    "     f00,(path)../newFY_1-26/resA_MOcore_AB_2.5A_1-26.csv\n",
    "     f01,(path)../newFY_1-26/resA_MOcore_AB_2.6A_1-26.csv\n",
    "     f02,(path)../newFY_1-26/resA_MOcore_AB_2.7A_1-26.csv\n",
    "     f03,(path)../newFY_1-26/resA_MOcore_AB_2.8A_1-26.csv\n",
    "      ...\n",
    "     f61,(path)../newFY_1-26/resA_MOcore_AB_11.0A_1-26.csv \n",
    "    Args:\n",
    "     filename (str): two-column file filename having\n",
    "      a hash for each path file.\n",
    "     index_col_condition (str): the name of the index \n",
    "      column to read the csv as pandas structure.\n",
    "      Default as 'num-1'\n",
    "    Output (dict): keys are the hashes and values of the dictionary\n",
    "     are the pandas frame for each csv file.\n",
    "    \"\"\"\n",
    "    # Initialize a dictionary\n",
    "    dict_raw = {}\n",
    "    # Open the list file\n",
    "    with open(filename, 'r') as file:\n",
    "        # Read each line in the file\n",
    "        for line in file:\n",
    "            line = line.strip()\n",
    "    # {(key) hash = line.split(',')[0] : (value) file_n = line.split(',')[1]}\n",
    "            dict_raw.update({\n",
    "                line.split(',')[0]: # key\n",
    "                pd.read_csv(line.split(',')[1],\n",
    "                            delimiter=',',\n",
    "                            index_col=index_col_condition) # value\n",
    "            })\n",
    "    return dict_raw"
   ]
  },
  {
   "cell_type": "code",
   "execution_count": 57,
   "id": "e589f9cd-d276-4129-ab11-6bff62c4ea1e",
   "metadata": {},
   "outputs": [],
   "source": [
    "def save_ETDAC_matrix(data_dict, data_set_name=\"data_etdac_matrix.h5\"):\n",
    "    \"\"\"\n",
    "    Get the node/edge features for each molecule and save\n",
    "    all the results in H5PY format.\n",
    "    Args:\n",
    "    data_dict (dict) contains a hash (key) and \n",
    "     the ETDAC matrix (value) of each molecule.\n",
    "    data_set_name (str, optional) is the name of the H5PY file to be\n",
    "     created. By default that file is called \"data_etdac_matrix.h5\".\n",
    "    \"\"\"\n",
    "    \n",
    "    with h5py.File(data_set_name, 'w') as f:\n",
    "\n",
    "        # Get node/edge features for the list of molecules\n",
    "        for hash in data_dict.keys():\n",
    "#df.to_hdf('data.h5', key='df', mode='w', format='table')\n",
    "            qm_group = f.create_group(f\"sample_{hash}\")\n",
    "            qm_group.create_dataset(\"ETDAC_matrix\", data=data_dict[hash], compression=\"gzip\")\n",
    "            \n",
    "            qm_group.attrs[\"hash\"] = hash"
   ]
  },
  {
   "cell_type": "markdown",
   "id": "06137417",
   "metadata": {},
   "source": [
    "#### Functions for the algebra operations"
   ]
  },
  {
   "cell_type": "code",
   "execution_count": 4,
   "id": "17ca3585",
   "metadata": {},
   "outputs": [],
   "source": [
    "def selecting_atm_matrix(df, atoms_list):\n",
    "    \"\"\"\n",
    "    it returns MO matrix (df) having just the atoms in atoms_list.\n",
    "    \"\"\"\n",
    "    col_list = df.index.tolist() #listing index (elements from column 0)\n",
    "    #dff = df.loc[:, (df != 0).any(axis=0)] #removing zero columns\n",
    "    return df.loc[[i for i in atoms_list if i in col_list]] #returning just columns in the both lists intersection\n",
    "#atoms_core=resa_mocore_GFG9Y_raw.index.tolist() #all C-core atoms\n",
    "#[i for i in atoms_a if i in atoms_core] #atoms_a intersection atoms_core"
   ]
  },
  {
   "cell_type": "code",
   "execution_count": 5,
   "id": "9b439bab",
   "metadata": {},
   "outputs": [],
   "source": [
    "def crop_by_loewdin_p(df,pop):\n",
    "    \"\"\"\n",
    "    it returns MO matrix (df) having just a Loewdin MO population contribution greater than (100*pop)%.\n",
    "    pop is a number between 0 and 1.\n",
    "    \"\"\"\n",
    "    #cols = [col for col, val in df.sum()[2:].iteritems() if val > (pop*100)]\n",
    "    cols = [col for col, val in df.sum()[2:].items() if val > (pop*100)]\n",
    "    #iteritem() create a zip with the index_col and the values\n",
    "    cols.insert(0,'lvl')\n",
    "    cols.insert(0,'sym')\n",
    "    #to add on the top the first two columns removed in the previous sum() evaluation\n",
    "    return df[cols] #showing the fisrt two columns and those having population greater than pop*100%"
   ]
  },
  {
   "cell_type": "code",
   "execution_count": 6,
   "id": "b4558bec",
   "metadata": {},
   "outputs": [],
   "source": [
    "def nonzero_mo_matrix(df):\n",
    "    \"\"\"\n",
    "    it returns MO matrix (df) having just non-zero MO population.\n",
    "    \"\"\"\n",
    "    return df.loc[:, (df != 0).any(axis=0)] #removing zero columns"
   ]
  },
  {
   "cell_type": "code",
   "execution_count": 7,
   "id": "335af615",
   "metadata": {},
   "outputs": [],
   "source": [
    "def cropping_matrix(df, df1, df2):\n",
    "    \"\"\"\n",
    "    it returns a cropped MO matrix from df using as parameters the indices in df1 and df2.\n",
    "    df1 index are column names from df and df2 index are the rows from df\n",
    "    \"\"\"\n",
    "    try:\n",
    "        dff = df[df1.axes[1][2:].tolist()] #saving specific columns\n",
    "    except KeyError:\n",
    "        tmp_mo = [item for item in df1.axes[1][2:].tolist() if item in df.axes[1][0:].tolist()]\n",
    "        #removing items in the first list that are not in the second one\n",
    "        dff = df[tmp_mo]\n",
    "    try:\n",
    "        return dff.loc[[int(i) for i in df2.axes[1][2:].tolist()]] #returning specific rows\n",
    "    except KeyError:\n",
    "        tmp_mo2 = [item for item in df2.axes[1][2:].tolist() if int(item) in dff.T.axes[1][0:].tolist()]\n",
    "        # dff.T to obtain the index_col as the head row\n",
    "        return dff.loc[[int(i) for i in tmp_mo2]] #returning specific rows\n",
    "# the first two elements in df2.axes[1] and df1.axes[1] are \"sym\" and \"lvl\", that's why I used df.axes[1][2:]"
   ]
  },
  {
   "cell_type": "code",
   "execution_count": 8,
   "id": "32376646-a958-4a0b-bbfc-8e731240e1bc",
   "metadata": {},
   "outputs": [],
   "source": [
    "def remove_noncontrb(dict_data_raw):\n",
    "    \"\"\"\n",
    "    Drops off the non-contributing elements to avoid\n",
    "    zero or nan spread on the following linear algebra \n",
    "    operations.\n",
    "    This function depends on the nonzero_mo_matrix()\n",
    "     to work.\n",
    "    Args:\n",
    "    dict_data_raw (dict): the pd.frames inside can have zeroes\n",
    "     or nan values.\n",
    "    Output (dict): dict_data only with nonzero elements.\n",
    "    \"\"\"\n",
    "    dict_data = {}\n",
    "    for key, value in dict_data_raw.items():\n",
    "        dict_data.update({key: nonzero_mo_matrix(value)})\n",
    "    return dict_data"
   ]
  },
  {
   "cell_type": "markdown",
   "id": "2bea0f27",
   "metadata": {},
   "source": [
    "#### Main functions: ETDAC matrix calculation"
   ]
  },
  {
   "cell_type": "markdown",
   "id": "917c08c8-c1dd-40e5-b7a6-32d53e95da57",
   "metadata": {},
   "source": [
    "##### Building heatmaps of $\\tilde{\\gamma}^{[l,m]}_{AA^{\\prime}}$"
   ]
  },
  {
   "cell_type": "code",
   "execution_count": 9,
   "id": "dcba58f4",
   "metadata": {},
   "outputs": [],
   "source": [
    "def ts_psb_acore_bvirt(acore, bvirt, abcorevirt, atm_to_virtmo=False):\n",
    "    \"\"\"\n",
    "    Do a matrix multiplication between the core-to-virt transition \n",
    "    probabilities matrix and the core MO matrix, then the resulting matrix\n",
    "    is multiplied by the virtual MO matrix.\n",
    "    if atm_to_virtmo is True, then the two resulting matrices in the \n",
    "    multiplication process are returned.\n",
    "    By the default, just the last matrix is returned.\n",
    "    \"\"\"\n",
    "    abcorevirt.index = abcorevirt.index.astype('str') \n",
    "    #to make possible the dot product in pandas, the indexes involved in each\n",
    "    #product have to \"match\" in name and type\n",
    "    \n",
    "    i = j = 0\n",
    "    dff = pd.DataFrame(np.zeros((acore.shape[0], abcorevirt.shape[0])), \\\n",
    "                       index=acore.index, columns=abcorevirt.index)\n",
    "    for j in range(abcorevirt.shape[1]):\n",
    "        for i in range(acore.shape[1]):\n",
    "            try:\n",
    "                dff += acore.T[i:i+1].T.dot(abcorevirt.iloc[:].T[j:j+1])\n",
    "            except:\n",
    "                pass\n",
    "            \n",
    "    dff = dff/100\n",
    "    i = j = 0\n",
    "    dff2 = pd.DataFrame(np.zeros((dff.shape[0], bvirt.shape[0])), \\\n",
    "                        index=dff.index, columns=bvirt.index)\n",
    "    for i in range(dff.shape[1]):\n",
    "        for j in range(bvirt.shape[1]):\n",
    "            try:\n",
    "                dff2 += dff.T[i:i+1].T.dot(bvirt.T[j:j+1])\n",
    "            except:\n",
    "                pass\n",
    "    \n",
    "    if atm_to_virtmo:\n",
    "        return dff, dff2\n",
    "    else:\n",
    "        return dff2"
   ]
  },
  {
   "cell_type": "code",
   "execution_count": 10,
   "id": "2a37c6ea-4fe1-4212-8157-0ce31576ba8d",
   "metadata": {},
   "outputs": [],
   "source": [
    "def heatmap_ETDAC(core_MO, virt_MO, fosce_mo_trans):\n",
    "    \"\"\"\n",
    "    Runs the ts_psb_acore_bvirt() function to calculate the\n",
    "     electron transition density atomic contribution matrix \n",
    "     by performing some matrix transformations in the \n",
    "     core_MO and virt_MO pd.frames that are stored as\n",
    "     values in dictionary.\n",
    "    Args:\n",
    "    core_MO (dict): core MO and atom population matrices \n",
    "     obtained by load_dict_data() and remove_noncontrb()\n",
    "    virt_MO (dict): virtual MO and atom population matrices \n",
    "     obtained by load_dict_data()\n",
    "    fosce_mo_trans (dict): electronic transition\n",
    "     (oscillator strength) MO matrices obtained by the pipeline\n",
    "     (github.com/caraortizmah/x-ray_scripting_out) and \n",
    "     formated by load_dict_data()\n",
    "    Output:\n",
    "    heatmap_raw (dict): The electron transition density \n",
    "     atomic contribution (ETDAC) matrix in pd.frame format.\n",
    "    \"\"\"\n",
    "    # WSM case\n",
    "    # Exploiting the fact that all data share same order of the keys (hashes)\n",
    "    heatmap_raw = {}\n",
    "    for key in virt_MO.keys(): \n",
    "        # it can be any of the created dictionaries, they have same keys and in the same order\n",
    "        heatmap_raw.update({\n",
    "            key:\n",
    "            ts_psb_acore_bvirt(\n",
    "                core_MO[key].T[2:].T,\n",
    "                virt_MO[key].T[2:].T,\n",
    "                fosce_mo_trans[key])\n",
    "        })\n",
    "    return heatmap_raw"
   ]
  },
  {
   "cell_type": "code",
   "execution_count": 11,
   "id": "0810bcd6-97f4-462b-9132-f76b9ad6f7d7",
   "metadata": {},
   "outputs": [],
   "source": [
    "def crop_heatmap_byatm(etdac_m, row_cond, col_cond):\n",
    "    \"\"\"\n",
    "    Crop the electron transition density atomic \n",
    "     contribution matrix by using a range of atoms\n",
    "     that are in the core space and in the virtual\n",
    "     space.\n",
    "    Args:\n",
    "    etdac_m (pd.frame): Electron transition density atomic \n",
    "     contribution matrix.\n",
    "    row_cond (lambda): if-statement using the range of \n",
    "     atoms of the core space.\n",
    "    col_cond (lambda): if-statement using the range of\n",
    "     atoms of the virtual space.\n",
    "    Outputs:\n",
    "     etdac_m cropped by using two lambda functions.\n",
    "    \"\"\"\n",
    "    return etdac_m.loc[\n",
    "    [i for i in etdac_m.index.values if row_cond(i)],\n",
    "    [i for i in etdac_m.columns.values if col_cond(i)]\n",
    "    ]"
   ]
  },
  {
   "cell_type": "markdown",
   "id": "6f27176b-36d4-4998-abe8-6ad0eab61b4b",
   "metadata": {},
   "source": [
    "______________________________________________"
   ]
  },
  {
   "cell_type": "markdown",
   "id": "dce7c2a6-6d95-41ae-ab19-092dc41c2cbb",
   "metadata": {},
   "source": [
    "Data in .csv format\n",
    "##### residue called as A is that one expressed in the core space\n",
    "> ##### resA core MO\n",
    "$$\n",
    "\\LARGE \\boldsymbol{\\text{N}}_{A,i}\n",
    "$$\n",
    "##### residue called as B is that one expressed in the virtual space\n",
    "> ##### resB virtual MO\n",
    "$$\n",
    "\\LARGE \\boldsymbol{\\text{N}}_{A^{\\prime},a}\n",
    "$$\n",
    "In a pair-aa interaction, e.g. Phe-Tyr, Phenylalanine stands for resA core MO and Tyrosine for resB virtual MO"
   ]
  },
  {
   "cell_type": "markdown",
   "id": "ea957c65",
   "metadata": {},
   "source": [
    "> ##### resA core MO - Phenylalanine"
   ]
  },
  {
   "cell_type": "code",
   "execution_count": 12,
   "id": "abcb2841-689a-408d-8a2c-b7a9faab68ef",
   "metadata": {},
   "outputs": [],
   "source": [
    "resa_mocore_raw = load_dict_data('resA_MOcore_list.log', 'num-1')"
   ]
  },
  {
   "cell_type": "markdown",
   "id": "e3291c74",
   "metadata": {},
   "source": [
    "> ##### resB virt MO - Tyrosine"
   ]
  },
  {
   "cell_type": "code",
   "execution_count": 13,
   "id": "ad807831-a48e-49d2-b8fe-fed0f3099969",
   "metadata": {},
   "outputs": [],
   "source": [
    "resb_movirt_raw = load_dict_data('resB_MOvirt_list.log', 'num-1')"
   ]
  },
  {
   "cell_type": "markdown",
   "id": "5d748320",
   "metadata": {},
   "source": [
    "##### coreMO vs. virtual MO (core/virt MO)\n",
    "##### example resA(Phe) --> resB(Tyr)"
   ]
  },
  {
   "cell_type": "markdown",
   "id": "75e7ab9d",
   "metadata": {},
   "source": [
    "> ### 1. core/virt MO as function of the number of transitions"
   ]
  },
  {
   "cell_type": "markdown",
   "id": "3903081e-1bd0-46eb-bd75-bdf15a68c526",
   "metadata": {},
   "source": [
    "#### Repeat the hashing and listing csv files procedure (as done above) for each property/component"
   ]
  },
  {
   "cell_type": "code",
   "execution_count": 14,
   "id": "f3ce76fd-58d2-448a-b86b-03c4fcfa0bb7",
   "metadata": {},
   "outputs": [],
   "source": [
    "corevirtMO_raw = load_dict_data('corevirtMO_list.log', 'virt\\core')"
   ]
  },
  {
   "cell_type": "markdown",
   "id": "dc469a40",
   "metadata": {},
   "source": [
    "> ### 2. core/virt MO as function of the number of transitions averaged probability\n",
    "$$\n",
    "\\LARGE \\rho^{n}_{ia}\n",
    "$$"
   ]
  },
  {
   "cell_type": "markdown",
   "id": "64c663ae-8113-48d8-b9d4-f55c8e0ae88d",
   "metadata": {},
   "source": [
    "#### Repeat the hashing and listing csv files procedure for each property/component"
   ]
  },
  {
   "cell_type": "code",
   "execution_count": 15,
   "id": "274c23b9-3309-486a-98cb-e146897442cc",
   "metadata": {},
   "outputs": [],
   "source": [
    "corevirtMO_tspb_raw = load_dict_data('corevirtMO_tspb_list.log', 'virt\\core')"
   ]
  },
  {
   "cell_type": "markdown",
   "id": "05bdead1",
   "metadata": {},
   "source": [
    "> ### 3. core/virt MO as function of the oscillator strength using electronic dipole moment as operator\n",
    "> #### by weighted (WSM): fosce, sum and weighted average (WAM): foscwe\n",
    "$$\n",
    "\\LARGE \\gamma^{[l,m]}_{ia}\n",
    "$$"
   ]
  },
  {
   "cell_type": "markdown",
   "id": "c7944205-d037-4fc9-9c60-dc186b84249c",
   "metadata": {},
   "source": [
    "#### Repeat the hashing and listing csv files procedure for each property/component"
   ]
  },
  {
   "cell_type": "code",
   "execution_count": 16,
   "id": "88bf1f5d-088e-4428-8020-7e5e5c5c7f66",
   "metadata": {},
   "outputs": [],
   "source": [
    "corevirtMO_fosce_raw = load_dict_data('corevirt_fosce_AB_list.log', 'virt\\core')"
   ]
  },
  {
   "cell_type": "markdown",
   "id": "9e03224c-fc4d-4304-8b64-615a7d519d41",
   "metadata": {},
   "source": [
    "Repeat the hashing and listing csv files procedure for each property/component"
   ]
  },
  {
   "cell_type": "code",
   "execution_count": 17,
   "id": "763673a1-d7a4-4247-baf4-8d860b473d16",
   "metadata": {},
   "outputs": [],
   "source": [
    "#corevirtMO_foscwe_raw = load_dict_data('corevirt_foscwe_AB_list.log', 'virt\\core')"
   ]
  },
  {
   "cell_type": "markdown",
   "id": "3ec4386b",
   "metadata": {},
   "source": [
    "<html>\n",
    "\n",
    "\n",
    "<body>\n",
    "<h3 id=\"title\">Reducing Löwdin Population MO matrices by removing non-contributing MO</h3>\n",
    "<h4> Case for core MO in the resA</h4>\n",
    "</body>\n",
    "</html>"
   ]
  },
  {
   "cell_type": "code",
   "execution_count": 18,
   "id": "7aba4087-4f3d-4eae-8441-07eefa4c9b92",
   "metadata": {},
   "outputs": [],
   "source": [
    "resa_mocore = remove_noncontrb(resa_mocore_raw)"
   ]
  },
  {
   "cell_type": "markdown",
   "id": "d34bb768",
   "metadata": {},
   "source": [
    "<html>\n",
    "\n",
    "<body>\n",
    "<h4> Case for virtual MO in the resB</h4>\n",
    "</body>\n",
    "</html>\n",
    "<html>"
   ]
  },
  {
   "cell_type": "code",
   "execution_count": 19,
   "id": "37d7c23d-c4f4-454c-87c7-9a8fe9c339ab",
   "metadata": {},
   "outputs": [],
   "source": [
    "resb_movirt = remove_noncontrb(resb_movirt_raw)"
   ]
  },
  {
   "cell_type": "markdown",
   "id": "e572066c",
   "metadata": {},
   "source": [
    "___________________________"
   ]
  },
  {
   "cell_type": "markdown",
   "id": "3b752e14",
   "metadata": {},
   "source": [
    "### Results"
   ]
  },
  {
   "cell_type": "markdown",
   "id": "9ceb671a",
   "metadata": {},
   "source": [
    "_________________________________________________"
   ]
  },
  {
   "cell_type": "markdown",
   "id": "48c436fc-a602-4d94-b7b4-c2ddb4895805",
   "metadata": {},
   "source": [
    "## Final calculation\n",
    "$$\n",
    "\\huge \\tilde{\\gamma}^{[l,m]}_{AA^{\\prime}}\n",
    "$$"
   ]
  },
  {
   "cell_type": "markdown",
   "id": "d06c4bee-9705-40a7-955d-ee3d08877ce8",
   "metadata": {},
   "source": [
    "WSM case, it is the official representation by the domain-knowledge"
   ]
  },
  {
   "cell_type": "code",
   "execution_count": 20,
   "id": "0f567dc7-8ffb-4827-bd45-1a53cd62b568",
   "metadata": {},
   "outputs": [],
   "source": [
    "heatmap_raw = heatmap_ETDAC(resa_mocore, resb_movirt_raw, corevirtMO_fosce_raw)"
   ]
  },
  {
   "cell_type": "markdown",
   "id": "ea36547c-d8c9-4ce8-8bce-8f88c1d0557f",
   "metadata": {},
   "source": [
    "WAM case is no longer used, it is presented but all the work was performed using the WSM case.\n",
    "However is important to highlight that WAM and WSM act as representations, so it is the domain-knowledge of the user who decides."
   ]
  },
  {
   "cell_type": "code",
   "execution_count": 21,
   "id": "c4b8f581-e67b-47e9-96a0-7222e001e13e",
   "metadata": {},
   "outputs": [],
   "source": [
    "for key in heatmap_raw.keys():\n",
    "    heatmap_raw[key].index.names = ['core-atom']\n",
    "    heatmap_raw[key].columns.names = ['virtual-atom']"
   ]
  },
  {
   "cell_type": "code",
   "execution_count": 22,
   "id": "814158c5-e8c1-4fd2-8191-cbb5c501a6cc",
   "metadata": {},
   "outputs": [],
   "source": [
    "heatmap = {}\n",
    "for key in heatmap_raw.keys():\n",
    "    heatmap.update({\n",
    "        key:\n",
    "        heatmap_raw[key].apply(pd.to_numeric).sort_index(ascending=True)\n",
    "    })"
   ]
  },
  {
   "cell_type": "markdown",
   "id": "92a3bfa5-2130-4e57-a446-7a0000ba1947",
   "metadata": {},
   "source": [
    "#### Saving data"
   ]
  },
  {
   "cell_type": "code",
   "execution_count": 58,
   "id": "52a8ac23-c8cd-4a05-9981-c2626f9b8747",
   "metadata": {},
   "outputs": [],
   "source": [
    "save_ETDAC_matrix(heatmap, data_set_name=\"data_etdac_matrix.h5\")"
   ]
  },
  {
   "cell_type": "code",
   "execution_count": 23,
   "id": "fa515db5-1d6c-4eb7-986b-3ec51f9b1357",
   "metadata": {},
   "outputs": [
    {
     "data": {
      "text/plain": [
       "(0.5440394435611963, 1.1369871456805003)"
      ]
     },
     "execution_count": 23,
     "metadata": {},
     "output_type": "execute_result"
    }
   ],
   "source": [
    "## test purposes\n",
    "rel_list = []\n",
    "tmp_keys = [key for key in heatmap.keys()][10:58] #from 3.5 to 9.0 A\n",
    "for ii in tmp_keys: \n",
    "    rel_list.append(heatmap[ii].max().max())\n",
    "relmax = max(rel_list)\n",
    "relmin = min(rel_list)\n",
    "relmin, relmax"
   ]
  },
  {
   "cell_type": "markdown",
   "id": "b75fcfe1-e253-48ee-b2cf-8a6a823d6409",
   "metadata": {},
   "source": [
    "##### Plot electron transition density atomic contribution (ETDAC) matrices"
   ]
  },
  {
   "cell_type": "code",
   "execution_count": 24,
   "id": "1368c95c-8b54-421c-801b-514e2845d52c",
   "metadata": {},
   "outputs": [
    {
     "data": {
      "text/plain": [
       "<Axes: xlabel='virtual-atom', ylabel='core-atom'>"
      ]
     },
     "execution_count": 24,
     "metadata": {},
     "output_type": "execute_result"
    },
    {
     "data": {
      "image/png": "[encoded data removed]",
      "text/plain": [
       "<Figure size 1700x1000 with 2 Axes>"
      ]
     },
     "metadata": {},
     "output_type": "display_data"
    }
   ],
   "source": [
    "fig, ax = plt.subplots(figsize=(17,10)) \n",
    "test = (heatmap['f13'] - heatmap['f13'].min().min())/(heatmap['f13'].max().max() - heatmap['f13'].min().min())\n",
    "sns.heatmap(test, annot=False, cmap='Oranges', vmin=0, vmax=1, ax=ax)"
   ]
  },
  {
   "cell_type": "markdown",
   "id": "de67ce52-930f-46e5-ac73-724c32b4fd63",
   "metadata": {},
   "source": [
    "#### Definition of amino acids using range of atoms\n",
    "##### Example is the same Phe --- Tyr"
   ]
  },
  {
   "cell_type": "markdown",
   "id": "5cdd7532-4b7d-4458-b178-384614ff41e0",
   "metadata": {},
   "source": [
    "##### Set atoms"
   ]
  },
  {
   "cell_type": "code",
   "execution_count": 25,
   "id": "110e9a5f",
   "metadata": {},
   "outputs": [],
   "source": [
    "atomAi = 0\n",
    "atomAf = 22\n",
    "atomBi = 23\n",
    "atomBf = 46"
   ]
  },
  {
   "cell_type": "code",
   "execution_count": 26,
   "id": "cc4e838e",
   "metadata": {},
   "outputs": [
    {
     "data": {
      "text/plain": [
       "(0, 22, 23, 46)"
      ]
     },
     "execution_count": 26,
     "metadata": {},
     "output_type": "execute_result"
    }
   ],
   "source": [
    "atomAi, atomAf, atomBi, atomBf"
   ]
  },
  {
   "cell_type": "markdown",
   "id": "c54f6778-7e5c-4570-a28f-c56e465f3093",
   "metadata": {},
   "source": [
    "#### Delitimation of atoms of the aromatic rings"
   ]
  },
  {
   "cell_type": "code",
   "execution_count": 27,
   "id": "b5baa831-5a9f-4e93-a15f-05289c60c184",
   "metadata": {},
   "outputs": [],
   "source": [
    "atomFi = 6\n",
    "atomFf = 11\n",
    "atomYi = 29\n",
    "atomYf = 33\n",
    "atomYf2 = 35"
   ]
  },
  {
   "cell_type": "markdown",
   "id": "7d3e755e",
   "metadata": {},
   "source": [
    "#### Calculating the 4 (more) terms of the transition intensities"
   ]
  },
  {
   "cell_type": "code",
   "execution_count": 28,
   "id": "adc16ae5-6f51-454e-be51-dc0cb09c2292",
   "metadata": {},
   "outputs": [],
   "source": [
    "inter_fosce = []\n",
    "all_fosce = []\n",
    "FYpi_inter_fosce = []\n",
    "YFpi_inter_fosce = []\n",
    "aropi_inter_fosce = []\n",
    "keys = []\n",
    "\n",
    "for key in heatmap.keys():\n",
    "    keys.append(key)\n",
    "    row_cond_1, col_cond_1 = lambda i: i > atomAf, lambda i: i < atomBi\n",
    "    row_cond_2, col_cond_2 = lambda i: i <= atomAf, lambda i: i >= atomBi\n",
    "    inter_fosce.append(\n",
    "        crop_heatmap_byatm(heatmap[key], row_cond_1, col_cond_1).sum().sum() +\n",
    "        crop_heatmap_byatm(heatmap[key], row_cond_2, col_cond_2).sum().sum()\n",
    "    )\n",
    "    row_cond_1 = lambda i: i >= atomFi and i <= atomFf\n",
    "    col_cond_1 = lambda i: (i >= atomYi and i <= atomYf) or i == atomYf2\n",
    "    FYpi_inter_fosce.append(\n",
    "        crop_heatmap_byatm(heatmap[key], row_cond_1, col_cond_1).sum().sum()\n",
    "        )\n",
    "    row_cond_1 = lambda i: (i >= atomYi and i <= atomYf) or i == atomYf2\n",
    "    col_cond_1 = lambda i: i >= atomFi and i <= atomFf\n",
    "    YFpi_inter_fosce.append(\n",
    "        crop_heatmap_byatm(heatmap[key], row_cond_1, col_cond_1).sum().sum()\n",
    "        )\n",
    "    \n",
    "    aropi_inter_fosce = [FYpi_inter_fosce[i] + YFpi_inter_fosce[i] for i in range(len(inter_fosce))]\n",
    "    \n",
    "    all_fosce.append(heatmap[key].sum().sum())\n",
    "    \n",
    "intra_fosce = [all_fosce[i] - inter_fosce[i] for i in range(len(inter_fosce))]"
   ]
  },
  {
   "cell_type": "code",
   "execution_count": 29,
   "id": "887d6c50-4267-4f34-9fc9-acc9eb206ec6",
   "metadata": {},
   "outputs": [
    {
     "data": {
      "text/plain": [
       "(22.147341668207414, 46.152039574660364, 48.707449072901845)"
      ]
     },
     "execution_count": 29,
     "metadata": {},
     "output_type": "execute_result"
    }
   ],
   "source": [
    "max(inter_fosce), max(intra_fosce), max(all_fosce)"
   ]
  },
  {
   "cell_type": "code",
   "execution_count": 30,
   "id": "3847d970",
   "metadata": {},
   "outputs": [],
   "source": [
    "dfftotal_fosce = pd.DataFrame({'hash': [i for i in keys],\\\n",
    "                               'inter_fosce': [i for i in inter_fosce],\\\n",
    "                               'intra_fosce': [i for i in intra_fosce],\\\n",
    "                               'all_fosce': [i for i in all_fosce],\\\n",
    "                               'FY_pi':[i/max(inter_fosce) for i in FYpi_inter_fosce],\\\n",
    "                               'YF_pi':[i/max(inter_fosce) for i in YFpi_inter_fosce],\\\n",
    "                               'pi_pi':[i/max(inter_fosce) for i in aropi_inter_fosce],\\\n",
    "                               'abs_pi_pi':[i for i in aropi_inter_fosce]\n",
    "                              })"
   ]
  },
  {
   "cell_type": "code",
   "execution_count": 31,
   "id": "edf378c3",
   "metadata": {},
   "outputs": [
    {
     "data": {
      "text/html": [
       "<div>\n",
       "<style scoped>\n",
       "    .dataframe tbody tr th:only-of-type {\n",
       "        vertical-align: middle;\n",
       "    }\n",
       "\n",
       "    .dataframe tbody tr th {\n",
       "        vertical-align: top;\n",
       "    }\n",
       "\n",
       "    .dataframe thead th {\n",
       "        text-align: right;\n",
       "    }\n",
       "</style>\n",
       "<table border=\"1\" class=\"dataframe\">\n",
       "  <thead>\n",
       "    <tr style=\"text-align: right;\">\n",
       "      <th></th>\n",
       "      <th>hash</th>\n",
       "      <th>inter_fosce</th>\n",
       "      <th>intra_fosce</th>\n",
       "      <th>all_fosce</th>\n",
       "      <th>FY_pi</th>\n",
       "      <th>YF_pi</th>\n",
       "      <th>pi_pi</th>\n",
       "      <th>abs_pi_pi</th>\n",
       "    </tr>\n",
       "  </thead>\n",
       "  <tbody>\n",
       "    <tr>\n",
       "      <th>0</th>\n",
       "      <td>f00</td>\n",
       "      <td>15.811635</td>\n",
       "      <td>16.028700</td>\n",
       "      <td>31.840335</td>\n",
       "      <td>0.318738</td>\n",
       "      <td>2.856156e-01</td>\n",
       "      <td>6.043538e-01</td>\n",
       "      <td>13.384830</td>\n",
       "    </tr>\n",
       "    <tr>\n",
       "      <th>1</th>\n",
       "      <td>f01</td>\n",
       "      <td>16.097037</td>\n",
       "      <td>16.488014</td>\n",
       "      <td>32.585051</td>\n",
       "      <td>0.329830</td>\n",
       "      <td>2.809608e-01</td>\n",
       "      <td>6.107911e-01</td>\n",
       "      <td>13.527399</td>\n",
       "    </tr>\n",
       "    <tr>\n",
       "      <th>2</th>\n",
       "      <td>f02</td>\n",
       "      <td>16.346659</td>\n",
       "      <td>16.933081</td>\n",
       "      <td>33.279740</td>\n",
       "      <td>0.325315</td>\n",
       "      <td>2.782393e-01</td>\n",
       "      <td>6.035543e-01</td>\n",
       "      <td>13.367123</td>\n",
       "    </tr>\n",
       "    <tr>\n",
       "      <th>3</th>\n",
       "      <td>f03</td>\n",
       "      <td>16.115904</td>\n",
       "      <td>17.727001</td>\n",
       "      <td>33.842905</td>\n",
       "      <td>0.392324</td>\n",
       "      <td>2.040862e-01</td>\n",
       "      <td>5.964098e-01</td>\n",
       "      <td>13.208891</td>\n",
       "    </tr>\n",
       "    <tr>\n",
       "      <th>4</th>\n",
       "      <td>f04</td>\n",
       "      <td>17.825560</td>\n",
       "      <td>18.625099</td>\n",
       "      <td>36.450659</td>\n",
       "      <td>0.314734</td>\n",
       "      <td>3.209828e-01</td>\n",
       "      <td>6.357171e-01</td>\n",
       "      <td>14.079444</td>\n",
       "    </tr>\n",
       "    <tr>\n",
       "      <th>...</th>\n",
       "      <td>...</td>\n",
       "      <td>...</td>\n",
       "      <td>...</td>\n",
       "      <td>...</td>\n",
       "      <td>...</td>\n",
       "      <td>...</td>\n",
       "      <td>...</td>\n",
       "      <td>...</td>\n",
       "    </tr>\n",
       "    <tr>\n",
       "      <th>57</th>\n",
       "      <td>f57</td>\n",
       "      <td>0.004151</td>\n",
       "      <td>46.036660</td>\n",
       "      <td>46.040810</td>\n",
       "      <td>0.000000</td>\n",
       "      <td>1.216044e-04</td>\n",
       "      <td>1.216044e-04</td>\n",
       "      <td>0.002693</td>\n",
       "    </tr>\n",
       "    <tr>\n",
       "      <th>58</th>\n",
       "      <td>f58</td>\n",
       "      <td>0.000004</td>\n",
       "      <td>46.121536</td>\n",
       "      <td>46.121541</td>\n",
       "      <td>0.000000</td>\n",
       "      <td>1.303174e-07</td>\n",
       "      <td>1.303174e-07</td>\n",
       "      <td>0.000003</td>\n",
       "    </tr>\n",
       "    <tr>\n",
       "      <th>59</th>\n",
       "      <td>f59</td>\n",
       "      <td>0.000002</td>\n",
       "      <td>46.140848</td>\n",
       "      <td>46.140851</td>\n",
       "      <td>0.000000</td>\n",
       "      <td>6.659987e-08</td>\n",
       "      <td>6.659987e-08</td>\n",
       "      <td>0.000001</td>\n",
       "    </tr>\n",
       "    <tr>\n",
       "      <th>60</th>\n",
       "      <td>f60</td>\n",
       "      <td>0.000000</td>\n",
       "      <td>46.050159</td>\n",
       "      <td>46.050159</td>\n",
       "      <td>0.000000</td>\n",
       "      <td>0.000000e+00</td>\n",
       "      <td>0.000000e+00</td>\n",
       "      <td>0.000000</td>\n",
       "    </tr>\n",
       "    <tr>\n",
       "      <th>61</th>\n",
       "      <td>f61</td>\n",
       "      <td>0.000000</td>\n",
       "      <td>46.152040</td>\n",
       "      <td>46.152040</td>\n",
       "      <td>0.000000</td>\n",
       "      <td>0.000000e+00</td>\n",
       "      <td>0.000000e+00</td>\n",
       "      <td>0.000000</td>\n",
       "    </tr>\n",
       "  </tbody>\n",
       "</table>\n",
       "<p>62 rows × 8 columns</p>\n",
       "</div>"
      ],
      "text/plain": [
       "   hash  inter_fosce  intra_fosce  all_fosce     FY_pi         YF_pi  \\\n",
       "0   f00    15.811635    16.028700  31.840335  0.318738  2.856156e-01   \n",
       "1   f01    16.097037    16.488014  32.585051  0.329830  2.809608e-01   \n",
       "2   f02    16.346659    16.933081  33.279740  0.325315  2.782393e-01   \n",
       "3   f03    16.115904    17.727001  33.842905  0.392324  2.040862e-01   \n",
       "4   f04    17.825560    18.625099  36.450659  0.314734  3.209828e-01   \n",
       "..  ...          ...          ...        ...       ...           ...   \n",
       "57  f57     0.004151    46.036660  46.040810  0.000000  1.216044e-04   \n",
       "58  f58     0.000004    46.121536  46.121541  0.000000  1.303174e-07   \n",
       "59  f59     0.000002    46.140848  46.140851  0.000000  6.659987e-08   \n",
       "60  f60     0.000000    46.050159  46.050159  0.000000  0.000000e+00   \n",
       "61  f61     0.000000    46.152040  46.152040  0.000000  0.000000e+00   \n",
       "\n",
       "           pi_pi  abs_pi_pi  \n",
       "0   6.043538e-01  13.384830  \n",
       "1   6.107911e-01  13.527399  \n",
       "2   6.035543e-01  13.367123  \n",
       "3   5.964098e-01  13.208891  \n",
       "4   6.357171e-01  14.079444  \n",
       "..           ...        ...  \n",
       "57  1.216044e-04   0.002693  \n",
       "58  1.303174e-07   0.000003  \n",
       "59  6.659987e-08   0.000001  \n",
       "60  0.000000e+00   0.000000  \n",
       "61  0.000000e+00   0.000000  \n",
       "\n",
       "[62 rows x 8 columns]"
      ]
     },
     "execution_count": 31,
     "metadata": {},
     "output_type": "execute_result"
    }
   ],
   "source": [
    "dfftotal_fosce"
   ]
  },
  {
   "cell_type": "markdown",
   "id": "ea67fd23-2aa3-4560-9aed-a8e33e1d2548",
   "metadata": {},
   "source": [
    "#### Data to be saved"
   ]
  },
  {
   "cell_type": "code",
   "execution_count": 32,
   "id": "5a8c58a6-605a-42e2-9852-d0ebe1949d53",
   "metadata": {},
   "outputs": [
    {
     "data": {
      "image/png": "[encoded data removed]",
      "text/plain": [
       "<Figure size 1600x1200 with 1 Axes>"
      ]
     },
     "metadata": {},
     "output_type": "display_data"
    }
   ],
   "source": [
    "plt.rc('font', size=26)\n",
    "ax = dfftotal_fosce.loc[10:55,:].plot(\n",
    "    x=\"hash\",\n",
    "    y=[\"inter_fosce\",\"intra_fosce\",\"abs_pi_pi\", \"all_fosce\"],\n",
    "    kind=\"line\",\n",
    "    figsize=(16, 12))\n",
    "ax.set_xlabel('Sample unique identificator')\n",
    "ax.set_ylabel('Transition intensity')\n",
    "\n",
    "plt.show()"
   ]
  },
  {
   "cell_type": "markdown",
   "id": "9512ec11-84e7-48ce-9968-3262e1ccc4ca",
   "metadata": {},
   "source": [
    "#### That's it :)"
   ]
  },
  {
   "cell_type": "code",
   "execution_count": null,
   "id": "2976d980-77bf-43d9-9c61-c1e22b7b0dd9",
   "metadata": {},
   "outputs": [],
   "source": []
  }
 ],
 "metadata": {
  "kernelspec": {
   "display_name": "dataviz",
   "language": "python",
   "name": "dataviz"
  },
  "language_info": {
   "codemirror_mode": {
    "name": "ipython",
    "version": 3
   },
   "file_extension": ".py",
   "mimetype": "text/x-python",
   "name": "python",
   "nbconvert_exporter": "python",
   "pygments_lexer": "ipython3",
   "version": "3.11.5"
  }
 },
 "nbformat": 4,
 "nbformat_minor": 5
}
